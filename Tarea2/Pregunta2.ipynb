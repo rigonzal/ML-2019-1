{
  "nbformat": 4,
  "nbformat_minor": 0,
  "metadata": {
    "colab": {
      "name": "Pregunta2.ipynb",
      "version": "0.3.2",
      "provenance": [],
      "collapsed_sections": [],
      "include_colab_link": true
    },
    "kernelspec": {
      "name": "python3",
      "display_name": "Python 3"
    }
  },
  "cells": [
    {
      "cell_type": "markdown",
      "metadata": {
        "id": "view-in-github",
        "colab_type": "text"
      },
      "source": [
        "<a href=\"https://colab.research.google.com/github/rigonzal/ML-2019-1/blob/master/Tarea2/Pregunta2.ipynb\" target=\"_parent\"><img src=\"https://colab.research.google.com/assets/colab-badge.svg\" alt=\"Open In Colab\"/></a>"
      ]
    },
    {
      "cell_type": "markdown",
      "metadata": {
        "colab_type": "text",
        "id": "0zDrqmkEek8V"
      },
      "source": [
        "# INF-393: Máquinas de Aprendizaje\n",
        "\n",
        "## Tarea 2 - Pregunta 2: Regularización\n",
        "\n",
        "16-08-2019\n",
        "\n",
        "\n",
        "\n",
        "*   Rodrigo González Smith           -- 201303026-2\n",
        "*   Ignacio Valenzuela Albornoz   -- 201473055-1"
      ]
    },
    {
      "cell_type": "code",
      "metadata": {
        "id": "jBZL5Oz-jfgd",
        "colab_type": "code",
        "outputId": "e812d37e-fcc2-4833-f3f5-213ef741e5d6",
        "colab": {
          "base_uri": "https://localhost:8080/",
          "height": 123
        }
      },
      "source": [
        "import pandas as pd\n",
        "import os\n",
        "import numpy as np\n",
        "import matplotlib.pyplot as plt\n",
        "import scipy.stats as stats\n",
        "import seaborn as sns\n",
        "\n",
        "from google.colab import drive\n",
        "from operator import itemgetter\n",
        "from sklearn.model_selection import train_test_split, KFold\n",
        "from sklearn.linear_model import LinearRegression\n",
        "from sklearn.metrics import mean_squared_error\n",
        "from sklearn.feature_selection import mutual_info_regression\n",
        "from sklearn.preprocessing import StandardScaler\n",
        "\n",
        "drive.mount('/content/drive')\n",
        "\n",
        "%matplotlib inline"
      ],
      "execution_count": 1,
      "outputs": [
        {
          "output_type": "stream",
          "text": [
            "Go to this URL in a browser: https://accounts.google.com/o/oauth2/auth?client_id=947318989803-6bn6qk8qdgf4n4g3pfee6491hc0brc4i.apps.googleusercontent.com&redirect_uri=urn%3Aietf%3Awg%3Aoauth%3A2.0%3Aoob&scope=email%20https%3A%2F%2Fwww.googleapis.com%2Fauth%2Fdocs.test%20https%3A%2F%2Fwww.googleapis.com%2Fauth%2Fdrive%20https%3A%2F%2Fwww.googleapis.com%2Fauth%2Fdrive.photos.readonly%20https%3A%2F%2Fwww.googleapis.com%2Fauth%2Fpeopleapi.readonly&response_type=code\n",
            "\n",
            "Enter your authorization code:\n",
            "··········\n",
            "Mounted at /content/drive\n"
          ],
          "name": "stdout"
        }
      ]
    },
    {
      "cell_type": "markdown",
      "metadata": {
        "id": "Wm4Isn1oi7Vm",
        "colab_type": "text"
      },
      "source": [
        "# Introducción\n",
        "\n",
        "* En esta pregunta analizaremos como combatir el fenómeno del *overfitting*, el cual corresponde al sobreajuste sobre el set de entrenamiento por parte de un modelo. Se verán 2 técnicas de regularización conocidas, y se estudiaran la variación de sus parámetros. Realizando un análisis de los resultados por medio de métricas y visualizaciones, todo el trabajo se realizará sobre el dataset de los precios de viviendas y sus características."
      ]
    },
    {
      "cell_type": "markdown",
      "metadata": {
        "id": "Rpae83naTnSU",
        "colab_type": "text"
      },
      "source": [
        "## 2.a  Carga y preprocesamiento.\n",
        "\n",
        "* El set de datos corresponde a las características de viviendas de un sector de EEUU, donde cada una posee un precio asociado. Es intuitivo ver el interés por aplicar modelos predictivos en relación al *target*/precio.\n",
        "\n",
        "* Se empieza por la carga de datos y la limpieza general del set de datos, como también un descripción general de este para tener más claridad."
      ]
    },
    {
      "cell_type": "code",
      "metadata": {
        "id": "JZNeEom5k37w",
        "colab_type": "code",
        "outputId": "bfba052d-0fd0-45fd-e71d-592b5a0dfbe0",
        "colab": {
          "base_uri": "https://localhost:8080/",
          "height": 223
        }
      },
      "source": [
        "df = pd.read_csv(\"/content/drive/My Drive/Universidad-varios/2019-1/ML/Tarea 2/kc_house_data.csv\")\n",
        "df.head()"
      ],
      "execution_count": 2,
      "outputs": [
        {
          "output_type": "execute_result",
          "data": {
            "text/html": [
              "<div>\n",
              "<style scoped>\n",
              "    .dataframe tbody tr th:only-of-type {\n",
              "        vertical-align: middle;\n",
              "    }\n",
              "\n",
              "    .dataframe tbody tr th {\n",
              "        vertical-align: top;\n",
              "    }\n",
              "\n",
              "    .dataframe thead th {\n",
              "        text-align: right;\n",
              "    }\n",
              "</style>\n",
              "<table border=\"1\" class=\"dataframe\">\n",
              "  <thead>\n",
              "    <tr style=\"text-align: right;\">\n",
              "      <th></th>\n",
              "      <th>id</th>\n",
              "      <th>date</th>\n",
              "      <th>price</th>\n",
              "      <th>bedrooms</th>\n",
              "      <th>bathrooms</th>\n",
              "      <th>sqft_living</th>\n",
              "      <th>sqft_lot</th>\n",
              "      <th>floors</th>\n",
              "      <th>waterfront</th>\n",
              "      <th>view</th>\n",
              "      <th>condition</th>\n",
              "      <th>grade</th>\n",
              "      <th>sqft_above</th>\n",
              "      <th>sqft_basement</th>\n",
              "      <th>yr_built</th>\n",
              "      <th>yr_renovated</th>\n",
              "      <th>zipcode</th>\n",
              "      <th>lat</th>\n",
              "      <th>long</th>\n",
              "      <th>sqft_living15</th>\n",
              "      <th>sqft_lot15</th>\n",
              "    </tr>\n",
              "  </thead>\n",
              "  <tbody>\n",
              "    <tr>\n",
              "      <th>0</th>\n",
              "      <td>7129300520</td>\n",
              "      <td>20141013T000000</td>\n",
              "      <td>221900.0</td>\n",
              "      <td>3</td>\n",
              "      <td>1.00</td>\n",
              "      <td>1180</td>\n",
              "      <td>5650</td>\n",
              "      <td>1.0</td>\n",
              "      <td>0</td>\n",
              "      <td>0</td>\n",
              "      <td>3</td>\n",
              "      <td>7</td>\n",
              "      <td>1180</td>\n",
              "      <td>0</td>\n",
              "      <td>1955</td>\n",
              "      <td>0</td>\n",
              "      <td>98178</td>\n",
              "      <td>47.5112</td>\n",
              "      <td>-122.257</td>\n",
              "      <td>1340</td>\n",
              "      <td>5650</td>\n",
              "    </tr>\n",
              "    <tr>\n",
              "      <th>1</th>\n",
              "      <td>6414100192</td>\n",
              "      <td>20141209T000000</td>\n",
              "      <td>538000.0</td>\n",
              "      <td>3</td>\n",
              "      <td>2.25</td>\n",
              "      <td>2570</td>\n",
              "      <td>7242</td>\n",
              "      <td>2.0</td>\n",
              "      <td>0</td>\n",
              "      <td>0</td>\n",
              "      <td>3</td>\n",
              "      <td>7</td>\n",
              "      <td>2170</td>\n",
              "      <td>400</td>\n",
              "      <td>1951</td>\n",
              "      <td>1991</td>\n",
              "      <td>98125</td>\n",
              "      <td>47.7210</td>\n",
              "      <td>-122.319</td>\n",
              "      <td>1690</td>\n",
              "      <td>7639</td>\n",
              "    </tr>\n",
              "    <tr>\n",
              "      <th>2</th>\n",
              "      <td>5631500400</td>\n",
              "      <td>20150225T000000</td>\n",
              "      <td>180000.0</td>\n",
              "      <td>2</td>\n",
              "      <td>1.00</td>\n",
              "      <td>770</td>\n",
              "      <td>10000</td>\n",
              "      <td>1.0</td>\n",
              "      <td>0</td>\n",
              "      <td>0</td>\n",
              "      <td>3</td>\n",
              "      <td>6</td>\n",
              "      <td>770</td>\n",
              "      <td>0</td>\n",
              "      <td>1933</td>\n",
              "      <td>0</td>\n",
              "      <td>98028</td>\n",
              "      <td>47.7379</td>\n",
              "      <td>-122.233</td>\n",
              "      <td>2720</td>\n",
              "      <td>8062</td>\n",
              "    </tr>\n",
              "    <tr>\n",
              "      <th>3</th>\n",
              "      <td>2487200875</td>\n",
              "      <td>20141209T000000</td>\n",
              "      <td>604000.0</td>\n",
              "      <td>4</td>\n",
              "      <td>3.00</td>\n",
              "      <td>1960</td>\n",
              "      <td>5000</td>\n",
              "      <td>1.0</td>\n",
              "      <td>0</td>\n",
              "      <td>0</td>\n",
              "      <td>5</td>\n",
              "      <td>7</td>\n",
              "      <td>1050</td>\n",
              "      <td>910</td>\n",
              "      <td>1965</td>\n",
              "      <td>0</td>\n",
              "      <td>98136</td>\n",
              "      <td>47.5208</td>\n",
              "      <td>-122.393</td>\n",
              "      <td>1360</td>\n",
              "      <td>5000</td>\n",
              "    </tr>\n",
              "    <tr>\n",
              "      <th>4</th>\n",
              "      <td>1954400510</td>\n",
              "      <td>20150218T000000</td>\n",
              "      <td>510000.0</td>\n",
              "      <td>3</td>\n",
              "      <td>2.00</td>\n",
              "      <td>1680</td>\n",
              "      <td>8080</td>\n",
              "      <td>1.0</td>\n",
              "      <td>0</td>\n",
              "      <td>0</td>\n",
              "      <td>3</td>\n",
              "      <td>8</td>\n",
              "      <td>1680</td>\n",
              "      <td>0</td>\n",
              "      <td>1987</td>\n",
              "      <td>0</td>\n",
              "      <td>98074</td>\n",
              "      <td>47.6168</td>\n",
              "      <td>-122.045</td>\n",
              "      <td>1800</td>\n",
              "      <td>7503</td>\n",
              "    </tr>\n",
              "  </tbody>\n",
              "</table>\n",
              "</div>"
            ],
            "text/plain": [
              "           id             date     price  ...     long  sqft_living15  sqft_lot15\n",
              "0  7129300520  20141013T000000  221900.0  ... -122.257           1340        5650\n",
              "1  6414100192  20141209T000000  538000.0  ... -122.319           1690        7639\n",
              "2  5631500400  20150225T000000  180000.0  ... -122.233           2720        8062\n",
              "3  2487200875  20141209T000000  604000.0  ... -122.393           1360        5000\n",
              "4  1954400510  20150218T000000  510000.0  ... -122.045           1800        7503\n",
              "\n",
              "[5 rows x 21 columns]"
            ]
          },
          "metadata": {
            "tags": []
          },
          "execution_count": 2
        }
      ]
    },
    {
      "cell_type": "markdown",
      "metadata": {
        "id": "-MQlFSgWUPtV",
        "colab_type": "text"
      },
      "source": [
        "* Transformamos la columna respectiva a la fecha en una codificación númerica, para facilitar el manejo posteriormente."
      ]
    },
    {
      "cell_type": "code",
      "metadata": {
        "id": "3mssaR-4lJse",
        "colab_type": "code",
        "outputId": "110bcb1b-35d6-4fb7-bc95-2983fbc952d8",
        "colab": {
          "base_uri": "https://localhost:8080/",
          "height": 223
        }
      },
      "source": [
        "def to_num(date):\n",
        "    nums = list(date)\n",
        "    res = 0\n",
        "    for i in range(8):\n",
        "        res = res + int(nums[i])*(10**(7-i))\n",
        "    return res\n",
        "df['date'] = df.date.apply(to_num).rank()\n",
        "df.head()"
      ],
      "execution_count": 3,
      "outputs": [
        {
          "output_type": "execute_result",
          "data": {
            "text/html": [
              "<div>\n",
              "<style scoped>\n",
              "    .dataframe tbody tr th:only-of-type {\n",
              "        vertical-align: middle;\n",
              "    }\n",
              "\n",
              "    .dataframe tbody tr th {\n",
              "        vertical-align: top;\n",
              "    }\n",
              "\n",
              "    .dataframe thead th {\n",
              "        text-align: right;\n",
              "    }\n",
              "</style>\n",
              "<table border=\"1\" class=\"dataframe\">\n",
              "  <thead>\n",
              "    <tr style=\"text-align: right;\">\n",
              "      <th></th>\n",
              "      <th>id</th>\n",
              "      <th>date</th>\n",
              "      <th>price</th>\n",
              "      <th>bedrooms</th>\n",
              "      <th>bathrooms</th>\n",
              "      <th>sqft_living</th>\n",
              "      <th>sqft_lot</th>\n",
              "      <th>floors</th>\n",
              "      <th>waterfront</th>\n",
              "      <th>view</th>\n",
              "      <th>condition</th>\n",
              "      <th>grade</th>\n",
              "      <th>sqft_above</th>\n",
              "      <th>sqft_basement</th>\n",
              "      <th>yr_built</th>\n",
              "      <th>yr_renovated</th>\n",
              "      <th>zipcode</th>\n",
              "      <th>lat</th>\n",
              "      <th>long</th>\n",
              "      <th>sqft_living15</th>\n",
              "      <th>sqft_lot15</th>\n",
              "    </tr>\n",
              "  </thead>\n",
              "  <tbody>\n",
              "    <tr>\n",
              "      <th>0</th>\n",
              "      <td>7129300520</td>\n",
              "      <td>10544.0</td>\n",
              "      <td>221900.0</td>\n",
              "      <td>3</td>\n",
              "      <td>1.00</td>\n",
              "      <td>1180</td>\n",
              "      <td>5650</td>\n",
              "      <td>1.0</td>\n",
              "      <td>0</td>\n",
              "      <td>0</td>\n",
              "      <td>3</td>\n",
              "      <td>7</td>\n",
              "      <td>1180</td>\n",
              "      <td>0</td>\n",
              "      <td>1955</td>\n",
              "      <td>0</td>\n",
              "      <td>98178</td>\n",
              "      <td>47.5112</td>\n",
              "      <td>-122.257</td>\n",
              "      <td>1340</td>\n",
              "      <td>5650</td>\n",
              "    </tr>\n",
              "    <tr>\n",
              "      <th>1</th>\n",
              "      <td>6414100192</td>\n",
              "      <td>13682.5</td>\n",
              "      <td>538000.0</td>\n",
              "      <td>3</td>\n",
              "      <td>2.25</td>\n",
              "      <td>2570</td>\n",
              "      <td>7242</td>\n",
              "      <td>2.0</td>\n",
              "      <td>0</td>\n",
              "      <td>0</td>\n",
              "      <td>3</td>\n",
              "      <td>7</td>\n",
              "      <td>2170</td>\n",
              "      <td>400</td>\n",
              "      <td>1951</td>\n",
              "      <td>1991</td>\n",
              "      <td>98125</td>\n",
              "      <td>47.7210</td>\n",
              "      <td>-122.319</td>\n",
              "      <td>1690</td>\n",
              "      <td>7639</td>\n",
              "    </tr>\n",
              "    <tr>\n",
              "      <th>2</th>\n",
              "      <td>5631500400</td>\n",
              "      <td>16699.0</td>\n",
              "      <td>180000.0</td>\n",
              "      <td>2</td>\n",
              "      <td>1.00</td>\n",
              "      <td>770</td>\n",
              "      <td>10000</td>\n",
              "      <td>1.0</td>\n",
              "      <td>0</td>\n",
              "      <td>0</td>\n",
              "      <td>3</td>\n",
              "      <td>6</td>\n",
              "      <td>770</td>\n",
              "      <td>0</td>\n",
              "      <td>1933</td>\n",
              "      <td>0</td>\n",
              "      <td>98028</td>\n",
              "      <td>47.7379</td>\n",
              "      <td>-122.233</td>\n",
              "      <td>2720</td>\n",
              "      <td>8062</td>\n",
              "    </tr>\n",
              "    <tr>\n",
              "      <th>3</th>\n",
              "      <td>2487200875</td>\n",
              "      <td>13682.5</td>\n",
              "      <td>604000.0</td>\n",
              "      <td>4</td>\n",
              "      <td>3.00</td>\n",
              "      <td>1960</td>\n",
              "      <td>5000</td>\n",
              "      <td>1.0</td>\n",
              "      <td>0</td>\n",
              "      <td>0</td>\n",
              "      <td>5</td>\n",
              "      <td>7</td>\n",
              "      <td>1050</td>\n",
              "      <td>910</td>\n",
              "      <td>1965</td>\n",
              "      <td>0</td>\n",
              "      <td>98136</td>\n",
              "      <td>47.5208</td>\n",
              "      <td>-122.393</td>\n",
              "      <td>1360</td>\n",
              "      <td>5000</td>\n",
              "    </tr>\n",
              "    <tr>\n",
              "      <th>4</th>\n",
              "      <td>1954400510</td>\n",
              "      <td>16276.0</td>\n",
              "      <td>510000.0</td>\n",
              "      <td>3</td>\n",
              "      <td>2.00</td>\n",
              "      <td>1680</td>\n",
              "      <td>8080</td>\n",
              "      <td>1.0</td>\n",
              "      <td>0</td>\n",
              "      <td>0</td>\n",
              "      <td>3</td>\n",
              "      <td>8</td>\n",
              "      <td>1680</td>\n",
              "      <td>0</td>\n",
              "      <td>1987</td>\n",
              "      <td>0</td>\n",
              "      <td>98074</td>\n",
              "      <td>47.6168</td>\n",
              "      <td>-122.045</td>\n",
              "      <td>1800</td>\n",
              "      <td>7503</td>\n",
              "    </tr>\n",
              "  </tbody>\n",
              "</table>\n",
              "</div>"
            ],
            "text/plain": [
              "           id     date     price  ...     long  sqft_living15  sqft_lot15\n",
              "0  7129300520  10544.0  221900.0  ... -122.257           1340        5650\n",
              "1  6414100192  13682.5  538000.0  ... -122.319           1690        7639\n",
              "2  5631500400  16699.0  180000.0  ... -122.233           2720        8062\n",
              "3  2487200875  13682.5  604000.0  ... -122.393           1360        5000\n",
              "4  1954400510  16276.0  510000.0  ... -122.045           1800        7503\n",
              "\n",
              "[5 rows x 21 columns]"
            ]
          },
          "metadata": {
            "tags": []
          },
          "execution_count": 3
        }
      ]
    },
    {
      "cell_type": "markdown",
      "metadata": {
        "id": "o4ZyxZ-kUjbl",
        "colab_type": "text"
      },
      "source": [
        "* Procedemos a explicar cada columna según la información obtenida en [ Kaggle](https://www.kaggle.com/harlfoxem/housesalesprediction,):\n",
        "  \n",
        "  1) **Bedrooms:**  La cantidad de piezas que posee esa casa.\n",
        "  \n",
        "  2) **Bathrooms:**   La cantidad de baños que posee la casa. Se debe realizar un pequeño análisis en esta columna:"
      ]
    },
    {
      "cell_type": "code",
      "metadata": {
        "id": "U26j2FealhaW",
        "colab_type": "code",
        "outputId": "3e909853-4309-4c1e-edea-0c38d954895c",
        "colab": {
          "base_uri": "https://localhost:8080/",
          "height": 68
        }
      },
      "source": [
        "print(df.bathrooms.unique(), len(df.bathrooms.unique()))"
      ],
      "execution_count": 4,
      "outputs": [
        {
          "output_type": "stream",
          "text": [
            "[1.   2.25 3.   2.   4.5  1.5  2.5  1.75 2.75 3.25 4.   3.5  0.75 4.75\n",
            " 5.   4.25 3.75 0.   1.25 5.25 6.   0.5  5.5  6.75 5.75 8.   7.5  7.75\n",
            " 6.25 6.5 ] 30\n"
          ],
          "name": "stdout"
        }
      ]
    },
    {
      "cell_type": "markdown",
      "metadata": {
        "id": "sjdRI11NVqmH",
        "colab_type": "text"
      },
      "source": [
        "* El hecho de que existan decimales se debe a la notación especial americana para definir el número de baños, donde existen 3 tipos de estos:\n",
        "  * Completos con bañera, ducha, lavamanos y retrete.\n",
        "  * Los  '3/4',  ducha, lavamanos y retrete.\n",
        "  * Los '1/2' retrete (ulala señor frances) y lavamanos. \n",
        "  \n",
        "  Esta notación de igual manera puede llevar a confusión cuando existen combinatorias respecto a los baños.\n",
        "  \n",
        "  3)**sqft_living**: La medición de pies cuadrados de la casa, un dato que de antemano se ve de utilidad para una estimación del precio.\n",
        "  \n",
        "  4)**sqft_lot:** Medición en pies cuadrdos de la parcela completa. Mientras mas 'patio' posea una casa implica un valor más alto, ya que el terreno completo es mayor.\n",
        "  \n",
        "  5) **Floor:** Este atributo indica la cantidad de pisos. También tiene un valor decimal en la cual no hay información que explique. A primera instancia podría referirse a la presencia de un sótano, pero no concuerda con los valores de la columna **sqft_basement**, donde en muestras donde existe un sótano, los pisos no presentan un valor decimal. Podría suponerse también a una alcoba, pero los americanos generalmente denominan a eso también como un sótano."
      ]
    },
    {
      "cell_type": "code",
      "metadata": {
        "id": "UWZkE7WoYvES",
        "colab_type": "code",
        "outputId": "69b02ae4-ba2a-4ffe-b845-1ca6df77a6d3",
        "colab": {
          "base_uri": "https://localhost:8080/",
          "height": 34
        }
      },
      "source": [
        "print(df.floors.unique())"
      ],
      "execution_count": 5,
      "outputs": [
        {
          "output_type": "stream",
          "text": [
            "[1.  2.  1.5 3.  2.5 3.5]\n"
          ],
          "name": "stdout"
        }
      ]
    },
    {
      "cell_type": "markdown",
      "metadata": {
        "id": "UFhgaazLYwpB",
        "colab_type": "text"
      },
      "source": [
        "* Se prosigue con la explicación de las columnas:\n",
        "\n",
        "  6) **Waterfront**:  Indica si la vivienda posee vista al mar.\n",
        "  \n",
        "  7) **View:** Según la descripción, es si la casa a sido vista por otro comprador o no. Como no es una variable binaria y va desde 0 a 4, se supondrá que indica la cantidad de veces que han visto esa vivienda.\n",
        "  \n",
        "  8)**Overall:** La condición en la que se encuentra la vivienda (en promedio).\n",
        "  \n",
        "  9)**Grade:** grado total que recibe la vivienda, basado en el sistema que posee King County.\n",
        "  \n",
        "  10)**sqft_above**: Es la cantidad en pies cuadrados de la vivienda sin considerar el sótano.\n",
        "  \n",
        "  11)**sqft_basement**: Es el tamaño en pies cuadrados solamente del sótano, en caso de tener.\n",
        "  \n",
        "  12)**yr_built**: Año en el que se construyó la casa\n",
        "  \n",
        "  13)**yr_renovated**: Año en la cual fue la última renovación de la casa\n",
        "  \n",
        "  14) **zipcode**: El código de envío de la vivienda\n",
        "  \n",
        "  15) **lat y long**: Corresponde a las coordenadas de latitud y longitud de la vivienda. En general, estos datos sirven solo para obtener la ubicación exacta de la vivienda, pero es un valor que no presenta una gran importancia a la hora de vender una vivienda. Si quisiésemos saber realmente como afectaría en que lugar esta la vivienda necesitariamos más información del estado, vecindad, etc. Por el momento, estas columnas serán retiradas del análisis ya que con el zipcode ya podemos tener una mejor idea de la ubicación de la vivienda.\n",
        "  \n",
        "  16)**sqft_living15 y sqft_lot15**: Dos columnas que representan la misma información que sqft_living y sqft_lot, respectivamente, pero en el año 2015. Esto dará a entender que probablemente después de 2015 se realizó una renovación que pudo implicar extensiones, las cuales se ven reflejadas en las primeras dos columnas. Esta variable es importante ya que explicará el aumento del costo de la vivienda."
      ]
    },
    {
      "cell_type": "code",
      "metadata": {
        "id": "sFi051SAmHk1",
        "colab_type": "code",
        "colab": {}
      },
      "source": [
        "df = df.drop(columns = ['id', 'lat', 'long'])"
      ],
      "execution_count": 0,
      "outputs": []
    },
    {
      "cell_type": "markdown",
      "metadata": {
        "id": "0fXTVNNbVpPf",
        "colab_type": "text"
      },
      "source": [
        "* Ahora bien una revisión respecto a valores nulos:"
      ]
    },
    {
      "cell_type": "code",
      "metadata": {
        "id": "Ty0UnVlbmQAg",
        "colab_type": "code",
        "outputId": "147f3d11-1201-4d02-94ed-a6e9db70321a",
        "colab": {
          "base_uri": "https://localhost:8080/",
          "height": 34
        }
      },
      "source": [
        "df.isnull().values.any()"
      ],
      "execution_count": 7,
      "outputs": [
        {
          "output_type": "execute_result",
          "data": {
            "text/plain": [
              "False"
            ]
          },
          "metadata": {
            "tags": []
          },
          "execution_count": 7
        }
      ]
    },
    {
      "cell_type": "markdown",
      "metadata": {
        "id": "a2dThcUKZ-7s",
        "colab_type": "text"
      },
      "source": [
        "* Dado que no existen datos nulos, procedemos a analizar los outliers. Empezando con uno que resalta respecto a su cantidad de piezas:"
      ]
    },
    {
      "cell_type": "code",
      "metadata": {
        "id": "tUDXvV35mSby",
        "colab_type": "code",
        "outputId": "2af3ff9a-4709-4904-8bf6-904a8829c7c8",
        "colab": {
          "base_uri": "https://localhost:8080/",
          "height": 99
        }
      },
      "source": [
        "df.loc[df.bedrooms == 33]"
      ],
      "execution_count": 8,
      "outputs": [
        {
          "output_type": "execute_result",
          "data": {
            "text/html": [
              "<div>\n",
              "<style scoped>\n",
              "    .dataframe tbody tr th:only-of-type {\n",
              "        vertical-align: middle;\n",
              "    }\n",
              "\n",
              "    .dataframe tbody tr th {\n",
              "        vertical-align: top;\n",
              "    }\n",
              "\n",
              "    .dataframe thead th {\n",
              "        text-align: right;\n",
              "    }\n",
              "</style>\n",
              "<table border=\"1\" class=\"dataframe\">\n",
              "  <thead>\n",
              "    <tr style=\"text-align: right;\">\n",
              "      <th></th>\n",
              "      <th>date</th>\n",
              "      <th>price</th>\n",
              "      <th>bedrooms</th>\n",
              "      <th>bathrooms</th>\n",
              "      <th>sqft_living</th>\n",
              "      <th>sqft_lot</th>\n",
              "      <th>floors</th>\n",
              "      <th>waterfront</th>\n",
              "      <th>view</th>\n",
              "      <th>condition</th>\n",
              "      <th>grade</th>\n",
              "      <th>sqft_above</th>\n",
              "      <th>sqft_basement</th>\n",
              "      <th>yr_built</th>\n",
              "      <th>yr_renovated</th>\n",
              "      <th>zipcode</th>\n",
              "      <th>sqft_living15</th>\n",
              "      <th>sqft_lot15</th>\n",
              "    </tr>\n",
              "  </thead>\n",
              "  <tbody>\n",
              "    <tr>\n",
              "      <th>15870</th>\n",
              "      <td>3563.0</td>\n",
              "      <td>640000.0</td>\n",
              "      <td>33</td>\n",
              "      <td>1.75</td>\n",
              "      <td>1620</td>\n",
              "      <td>6000</td>\n",
              "      <td>1.0</td>\n",
              "      <td>0</td>\n",
              "      <td>0</td>\n",
              "      <td>5</td>\n",
              "      <td>7</td>\n",
              "      <td>1040</td>\n",
              "      <td>580</td>\n",
              "      <td>1947</td>\n",
              "      <td>0</td>\n",
              "      <td>98103</td>\n",
              "      <td>1330</td>\n",
              "      <td>4700</td>\n",
              "    </tr>\n",
              "  </tbody>\n",
              "</table>\n",
              "</div>"
            ],
            "text/plain": [
              "         date     price  bedrooms  ...  zipcode  sqft_living15  sqft_lot15\n",
              "15870  3563.0  640000.0        33  ...    98103           1330        4700\n",
              "\n",
              "[1 rows x 18 columns]"
            ]
          },
          "metadata": {
            "tags": []
          },
          "execution_count": 8
        }
      ]
    },
    {
      "cell_type": "code",
      "metadata": {
        "id": "0dKuHTKXaZae",
        "colab_type": "code",
        "outputId": "c3c16207-6c96-485a-84be-64da66f9a171",
        "colab": {
          "base_uri": "https://localhost:8080/",
          "height": 343
        }
      },
      "source": [
        "df.mean()"
      ],
      "execution_count": 9,
      "outputs": [
        {
          "output_type": "execute_result",
          "data": {
            "text/plain": [
              "date              10807.000000\n",
              "price            540088.141767\n",
              "bedrooms              3.370842\n",
              "bathrooms             2.114757\n",
              "sqft_living        2079.899736\n",
              "sqft_lot          15106.967566\n",
              "floors                1.494309\n",
              "waterfront            0.007542\n",
              "view                  0.234303\n",
              "condition             3.409430\n",
              "grade                 7.656873\n",
              "sqft_above         1788.390691\n",
              "sqft_basement       291.509045\n",
              "yr_built           1971.005136\n",
              "yr_renovated         84.402258\n",
              "zipcode           98077.939805\n",
              "sqft_living15      1986.552492\n",
              "sqft_lot15        12768.455652\n",
              "dtype: float64"
            ]
          },
          "metadata": {
            "tags": []
          },
          "execution_count": 9
        }
      ]
    },
    {
      "cell_type": "markdown",
      "metadata": {
        "id": "71vkyaykakAO",
        "colab_type": "text"
      },
      "source": [
        "* Poseemos una casa que posee 33 piezas y otros datos que no hacen sentido. ¿Como podrá tener 33 piezas en un tamaño de 1620 pies cuadrados y con un solo piso? El promedio una pieza americana es generalmente de 100 pies cuadrados, por lo que habría como máximo 16 piezas, sin considerar baños, cocinas, etc. Además, considerando las casas con las mismas características tenemos lo siguiente:"
      ]
    },
    {
      "cell_type": "code",
      "metadata": {
        "id": "_MWiM-tqmU94",
        "colab_type": "code",
        "outputId": "18a226cf-add4-4d51-b73e-d1e905402181",
        "colab": {
          "base_uri": "https://localhost:8080/",
          "height": 34
        }
      },
      "source": [
        "\n",
        "df.loc[(df.sqft_living < 1800) & (df.sqft_living > 1400)].bedrooms.mean()"
      ],
      "execution_count": 10,
      "outputs": [
        {
          "output_type": "execute_result",
          "data": {
            "text/plain": [
              "3.1247992658866712"
            ]
          },
          "metadata": {
            "tags": []
          },
          "execution_count": 10
        }
      ]
    },
    {
      "cell_type": "markdown",
      "metadata": {
        "id": "IoQ6wOmPaqzO",
        "colab_type": "text"
      },
      "source": [
        "* Generalmente las casas que poseen en un rango cercano de 1620 tienen un promedio de 3 habitaciones. Por lo tanto, podemos concluir que fue un error de tipeo, donde se quizo colocar una cantidad de 3 habitaciones pero se repitió ese valor. Como nuestra intención posteriormente es estandarizar los datos, ese outlier nos aumentará un poco la desviación estándar del atributo, por lo que lo sacaremos del dataset.\n"
      ]
    },
    {
      "cell_type": "code",
      "metadata": {
        "id": "Dh_V1wi_mYbD",
        "colab_type": "code",
        "colab": {}
      },
      "source": [
        "df = df.drop(15870)"
      ],
      "execution_count": 0,
      "outputs": []
    },
    {
      "cell_type": "markdown",
      "metadata": {
        "id": "7cCbPWEsbhKH",
        "colab_type": "text"
      },
      "source": [
        "* Se procede a generar visualizaciones para el análisis de correlaciones existentes en los datos:"
      ]
    },
    {
      "cell_type": "code",
      "metadata": {
        "id": "XpHo0AFembGO",
        "colab_type": "code",
        "outputId": "c91fbd71-6e6f-42b8-8f3c-e2cd233a6359",
        "colab": {
          "base_uri": "https://localhost:8080/",
          "height": 729
        }
      },
      "source": [
        "columns = ['bedrooms', 'bathrooms', 'sqft_living', 'sqft_lot', 'floors', 'grade', 'condition', 'view']\n",
        "plt.figure(figsize=(10,10))\n",
        "for i in range(1,9):\n",
        "  plt.subplot(4, 2, i)\n",
        "  plt.xlabel(columns[i-1])\n",
        "  plt.ylabel('Price')\n",
        "  plt.scatter(df[columns[i-1]], df.price)\n",
        "plt.tight_layout()"
      ],
      "execution_count": 12,
      "outputs": [
        {
          "output_type": "display_data",
          "data": {
            "image/png": "[encoded data removed]",
            "text/plain": [
              "<Figure size 720x720 with 8 Axes>"
            ]
          },
          "metadata": {
            "tags": []
          }
        }
      ]
    },
    {
      "cell_type": "markdown",
      "metadata": {
        "id": "eR7wCcDzb3Di",
        "colab_type": "text"
      },
      "source": [
        "* Las variables que cuantitativamente presentan una correlación con el precio son *sqft_living*, *grade* y *bathrooms*.\n",
        "* Realizamos las mismas visualizaciones pero realizando un transformación del tipo raíz cuadrada de los datos:"
      ]
    },
    {
      "cell_type": "code",
      "metadata": {
        "id": "z0i8F515mexD",
        "colab_type": "code",
        "outputId": "ba97f6bf-fc88-4c43-e6ee-e9510e0ef144",
        "colab": {
          "base_uri": "https://localhost:8080/",
          "height": 729
        }
      },
      "source": [
        "plt.figure(figsize=(10,10))\n",
        "for i in range(1,9):\n",
        "  plt.subplot(4, 2, i)\n",
        "  plt.xlabel(columns[i-1])\n",
        "  plt.ylabel('Price')\n",
        "  plt.scatter(df[columns[i-1]].apply(np.sqrt), df.price.apply(np.sqrt), color = 'orange')\n",
        "plt.tight_layout()"
      ],
      "execution_count": 13,
      "outputs": [
        {
          "output_type": "display_data",
          "data": {
            "image/png": "[encoded data removed]",
            "text/plain": [
              "<Figure size 720x720 with 8 Axes>"
            ]
          },
          "metadata": {
            "tags": []
          }
        }
      ]
    },
    {
      "cell_type": "markdown",
      "metadata": {
        "id": "x7wkRxxEcGuX",
        "colab_type": "text"
      },
      "source": [
        "* Se puede ver ahora que para *sqft_living* y *sqft_lot*, los datos presentan más concentración. \n",
        "* Nuevamente realizamos una transformación antes de visualizar, ahora de tipo logarítmica:"
      ]
    },
    {
      "cell_type": "code",
      "metadata": {
        "id": "JXKQIfBHukTC",
        "colab_type": "code",
        "outputId": "9d241331-0bfa-4835-d06b-4b918af9d3ff",
        "colab": {
          "base_uri": "https://localhost:8080/",
          "height": 729
        }
      },
      "source": [
        "plt.figure(figsize=(10,10))\n",
        "for i in range(1,9):\n",
        "  plt.subplot(4, 2, i)\n",
        "  plt.xlabel(columns[i-1])\n",
        "  plt.ylabel('Price')\n",
        "  plt.scatter(df[columns[i-1]].apply(np.log), df.price.apply(np.log), color = 'green')\n",
        "plt.tight_layout()"
      ],
      "execution_count": 14,
      "outputs": [
        {
          "output_type": "display_data",
          "data": {
            "image/png": "[encoded data removed]",
            "text/plain": [
              "<Figure size 720x720 with 8 Axes>"
            ]
          },
          "metadata": {
            "tags": []
          }
        }
      ]
    },
    {
      "cell_type": "markdown",
      "metadata": {
        "id": "Ll-Kw3U1cSho",
        "colab_type": "text"
      },
      "source": [
        "* Ahora se puede apreviar mejor  *sqft_living* y *sqft_lot*, con datos menos concentrados. Por otra parte se obtiene una corroboración importante con la característica *Grade*. Dado que esta por su definición debería estar correlacionada positivamente con el precio."
      ]
    },
    {
      "cell_type": "markdown",
      "metadata": {
        "id": "E8WGpVGeduXz",
        "colab_type": "text"
      },
      "source": [
        "* Se realiza la partición de los datos en los set de *train*, *val* y *test* para el trabajo posterior, según las proporciones $0.5/0.3/0.2$."
      ]
    },
    {
      "cell_type": "code",
      "metadata": {
        "id": "ko5Oy8Gxu3um",
        "colab_type": "code",
        "colab": {}
      },
      "source": [
        "data_train, data_val_test = train_test_split(df, test_size= 0.5)\n",
        "data_val, data_test = train_test_split(data_val_test, test_size= 0.4)\n",
        "\n",
        "y_train = data_train.pop('price')\n",
        "y_val = data_val.pop('price')\n",
        "y_test = data_test.pop('price')\n",
        "\n",
        "y_train = y_train.values.reshape(-1,1)\n",
        "y_val = y_val.values.reshape(-1,1)\n",
        "y_test = y_test.values.reshape(-1,1)\n"
      ],
      "execution_count": 0,
      "outputs": []
    },
    {
      "cell_type": "markdown",
      "metadata": {
        "id": "iScYS-uGyzyT",
        "colab_type": "text"
      },
      "source": [
        "## 2.b Modelo sin regularización\n",
        "\n",
        "* Probamos relaizar un ajuste con un modelo de de Regresión Lineal sin ningún tipo de regularización. Lo cual nos servirá de *baseline* para comparar con las técnicas posteriores."
      ]
    },
    {
      "cell_type": "code",
      "metadata": {
        "id": "1IqPvmwSHi6E",
        "colab_type": "code",
        "outputId": "144fe28f-9e66-44b7-e211-9041c33ce7a8",
        "colab": {
          "base_uri": "https://localhost:8080/",
          "height": 223
        }
      },
      "source": [
        "from sklearn.metrics import mean_squared_error\n",
        "regressor = LinearRegression()\n",
        "regressor.fit(data_train.values,y_train)\n",
        "   \n",
        "mse_train = mean_squared_error(regressor.predict(data_train.values),y_train)\n",
        "mse_val = mean_squared_error(regressor.predict(data_val.values),y_val)\n",
        "mse_test = mean_squared_error(regressor.predict(data_test.values),y_test)\n",
        "print(\"[Datos sin escalar]\")\n",
        "print(\"El error cuadrático medio para Train:\", mse_train)\n",
        "print(\"El error cuadrático medio para Val:\", mse_val)\n",
        "print(\"El error cuadrático medio para Test:\", mse_test)\n",
        "\n",
        "\n",
        "regressor = LinearRegression(normalize=True)\n",
        "regressor.fit(data_train.values,y_train)\n",
        "\n",
        "mse_train = mean_squared_error(regressor.predict(data_train.values),y_train)\n",
        "mse_val = mean_squared_error(regressor.predict(data_val.values),y_val)\n",
        "mse_test = mean_squared_error(regressor.predict(data_test.values),y_test)\n",
        "print(\"[Normalización]\")\n",
        "print(\"El error cuadrático medio para Train:\", mse_train)\n",
        "print(\"El error cuadrático medio para Val:\", mse_val)\n",
        "print(\"El error cuadrático medio para Test:\", mse_test)\n",
        "\n",
        "scaler = StandardScaler()\n",
        "standar_x = scaler.fit(data_train.values)\n",
        "\n",
        "standar_data_train = standar_x.transform(data_train.values)\n",
        "standar_data_val = standar_x.transform(data_val.values)\n",
        "standar_data_test = standar_x.transform(data_test.values)\n",
        "\n",
        "regressor = LinearRegression()\n",
        "regressor.fit(standar_data_train,y_train)\n",
        "\n",
        "mse_train = mean_squared_error(regressor.predict(standar_data_train),y_train)\n",
        "mse_val = mean_squared_error(regressor.predict(standar_data_val),y_val)\n",
        "mse_test = mean_squared_error(regressor.predict(standar_data_test),y_test)\n",
        "print(\"[Estandarización]\")\n",
        "print(\"El error cuadrático medio para Train:\", mse_train)\n",
        "print(\"El error cuadrático medio para Val:\", mse_val)\n",
        "print(\"El error cuadrático medio para Test:\", mse_test)"
      ],
      "execution_count": 16,
      "outputs": [
        {
          "output_type": "stream",
          "text": [
            "[Datos sin escalar]\n",
            "El error cuadrático medio para Train: 47310286503.22471\n",
            "El error cuadrático medio para Val: 45302448963.4567\n",
            "El error cuadrático medio para Test: 46590711670.76308\n",
            "[Normalización]\n",
            "El error cuadrático medio para Train: 47310286503.22472\n",
            "El error cuadrático medio para Val: 45302448963.45369\n",
            "El error cuadrático medio para Test: 46590711670.76056\n",
            "[Estandarización]\n",
            "El error cuadrático medio para Train: 47310286503.22472\n",
            "El error cuadrático medio para Val: 45302448963.45369\n",
            "El error cuadrático medio para Test: 46590711670.76057\n"
          ],
          "name": "stdout"
        }
      ]
    },
    {
      "cell_type": "markdown",
      "metadata": {
        "id": "ZMbJHTB_q-N4",
        "colab_type": "text"
      },
      "source": [
        "\n",
        "\n",
        "* Con *target* estandarizado."
      ]
    },
    {
      "cell_type": "code",
      "metadata": {
        "id": "35jiwbs0HqSA",
        "colab_type": "code",
        "outputId": "3c4f8bd9-162d-4701-d178-55fcd3293f07",
        "colab": {
          "base_uri": "https://localhost:8080/",
          "height": 223
        }
      },
      "source": [
        "# se estandarizan los target según los precios en el set de entrenamiento\n",
        "scaler = StandardScaler()\n",
        "standar_y = scaler.fit(y_train)\n",
        "y_train = standar_y.transform(y_train)\n",
        "y_val = standar_y.transform(y_val)\n",
        "y_test = standar_y.transform(y_test)\n",
        "\n",
        "regressor = LinearRegression()\n",
        "regressor.fit(data_train.values,y_train)\n",
        "   \n",
        "mse_train = mean_squared_error(regressor.predict(data_train.values),y_train)\n",
        "mse_val = mean_squared_error(regressor.predict(data_val.values),y_val)\n",
        "mse_test = mean_squared_error(regressor.predict(data_test.values),y_test)\n",
        "print(\"[Datos sin escalar]\")\n",
        "print(\"El error cuadrático medio para Train:\", mse_train)\n",
        "print(\"El error cuadrático medio para Val:\", mse_val)\n",
        "print(\"El error cuadrático medio para Test:\", mse_test)\n",
        "\n",
        "\n",
        "regressor = LinearRegression(normalize=True)\n",
        "regressor.fit(data_train.values,y_train)\n",
        "\n",
        "mse_train = mean_squared_error(regressor.predict(data_train.values),y_train)\n",
        "mse_val = mean_squared_error(regressor.predict(data_val.values),y_val)\n",
        "mse_test = mean_squared_error(regressor.predict(data_test.values),y_test)\n",
        "print(\"[Normalización]\")\n",
        "print(\"El error cuadrático medio para Train:\", mse_train)\n",
        "print(\"El error cuadrático medio para Val:\", mse_val)\n",
        "print(\"El error cuadrático medio para Test:\", mse_test)\n",
        "\n",
        "scaler = StandardScaler()\n",
        "standar_x = scaler.fit(data_train.values)\n",
        "\n",
        "standar_data_train = standar_x.transform(data_train.values)\n",
        "standar_data_val = standar_x.transform(data_val.values)\n",
        "standar_data_test = standar_x.transform(data_test.values)\n",
        "\n",
        "regressor = LinearRegression()\n",
        "regressor.fit(standar_data_train,y_train)\n",
        "\n",
        "mse_train = mean_squared_error(regressor.predict(standar_data_train),y_train)\n",
        "mse_val = mean_squared_error(regressor.predict(standar_data_val),y_val)\n",
        "mse_test = mean_squared_error(regressor.predict(standar_data_test),y_test)\n",
        "print(\"[Estandarización]\")\n",
        "print(\"El error cuadrático medio para Train:\", mse_train)\n",
        "print(\"El error cuadrático medio para Val:\", mse_val)\n",
        "print(\"El error cuadrático medio para Test:\", mse_test)"
      ],
      "execution_count": 17,
      "outputs": [
        {
          "output_type": "stream",
          "text": [
            "[Datos sin escalar]\n",
            "El error cuadrático medio para Train: 0.3463641132737046\n",
            "El error cuadrático medio para Val: 0.3316645009808813\n",
            "El error cuadrático medio para Test: 0.34109602218397944\n",
            "[Normalización]\n",
            "El error cuadrático medio para Train: 0.34636411327370453\n",
            "El error cuadrático medio para Val: 0.33166450098086736\n",
            "El error cuadrático medio para Test: 0.3410960221839681\n",
            "[Estandarización]\n",
            "El error cuadrático medio para Train: 0.3463641132737046\n",
            "El error cuadrático medio para Val: 0.3316645009808674\n",
            "El error cuadrático medio para Test: 0.3410960221839681\n"
          ],
          "name": "stdout"
        }
      ]
    },
    {
      "cell_type": "markdown",
      "metadata": {
        "id": "UVcQjwvZnYMH",
        "colab_type": "text"
      },
      "source": [
        "* Se puede ver entonces como estandarizar el *Target* marca la diferencia notablemente en relación al error cuadrático medio. Por otro lado estandarizar los datos mantiene un resultado similar con normalizar, en general el primero nos ayudaría en caso de tener muchos *outliers* dado que al dividir por la desvición estandar, disminuye su efecto negativo en la regresión."
      ]
    },
    {
      "cell_type": "markdown",
      "metadata": {
        "id": "Pkeg6PVmgVHt",
        "colab_type": "text"
      },
      "source": [
        "## 2.c Regularización\n"
      ]
    },
    {
      "cell_type": "markdown",
      "metadata": {
        "id": "DLVzwJeK0DvK",
        "colab_type": "text"
      },
      "source": [
        "* Partiendo por lo más general,  las técnicas de regularización buscan prevenir el *Overfitting*  del modelo predictivo. Así los metodos más clasicos a estudiar penalizan una de las causas, la cual vendría a ser la **complejidad del modelo**.  De esta forma la idea es que el modelo entrenado logre generalizar más respecto a características no tan específicas de los datos .Para el caso de regresión:\n",
        "\n",
        "$$ R_{reg}(f) = R_{emp}(f) + \\lambda\\Omega(f) $$\n",
        "$$  \\hspace{5em}  = \\sum _{m}^{M}R_{emp}(f) + \\lambda\\Omega(f) $$\n",
        "\n",
        "\n",
        "* Donde  $\\Omega()$ corresponde al **regularizador** y $\\lambda$ es el **parámetro de regularización**.  Entonces para el caso de la regresión lineal,  se presentan 2 tipos de regularizaciones:\n",
        "\n",
        "  * **Regularización L1 o Lasso**: En esta regularización se pretende utilizar la norma 1 respecto a los parámetros del modelo:\n",
        "    $$ \\Omega(w) = \\frac{1}{2} |w|_{L1} = \\sum_i |w_i|     $$\n",
        "    * Entonces la formula respecto al error cuadrático medio queda como:\n",
        "    $$  E_{reg} = E(w) + \\frac{\\lambda}{2}|w|_{L1}$$\n",
        "    *  En general esta regularización permite llevar a 0 *features* las cuales no aporten mucho al modelo a medida que se aumente el valor del **parámetro de regularización**.\n",
        "    \n",
        "  * **Regularización L2 o Ridge**: Tal y como su nombre indica se diferencia por la utilización de la norma 2:\n",
        "    $$ \\Omega(w) = \\frac{1}{2} |w|^2_{L2} =\\frac{1}{2} \\sum_i w_i^2     $$\n",
        "    $$  E_{reg} = E(w) + \\frac{\\lambda}{2}||w||^2_{L2}$$\n",
        "    * Es útil cuando la mayoría de las variables si entregan información de utilidad, sin embargo los valores se aproximan asintoticamente a 0.\n",
        "  \n",
        "* Por último $\\lambda$ indica que tanto afectara la regularización al entrenamiento, es claro ver entonces que para *Lasso*  aumentar este valor, lleva las variables a ser iguales a 0.\n",
        "  "
      ]
    },
    {
      "cell_type": "markdown",
      "metadata": {
        "id": "XPAIdO78xBiu",
        "colab_type": "text"
      },
      "source": [
        "## 2.d  Influencia sobre el error\n",
        "\n",
        "* Ahora bien dado que $\\lambda$ es un parámetro que se debe fijar antes de entrenar, por lo cual se debe realizar un análisis respecto al valor que debería tomar con el fin de reducir el error."
      ]
    },
    {
      "cell_type": "code",
      "metadata": {
        "id": "OpRWWe2doe6z",
        "colab_type": "code",
        "colab": {}
      },
      "source": [
        "from sklearn.linear_model import Lasso, Ridge"
      ],
      "execution_count": 0,
      "outputs": []
    },
    {
      "cell_type": "code",
      "metadata": {
        "id": "VTG-Kyuyn5xn",
        "colab_type": "code",
        "colab": {}
      },
      "source": [
        "# lambda = 0.01\n",
        "\n",
        "#np.logspace(-2,1,100)\n",
        "MSE_lasso_list = []\n",
        "MSE_lasso_list_val = []\n",
        "MSE_ridge_list = []\n",
        "MSE_ridge_list_val = []\n",
        "space = np.logspace(-3,3,100)\n",
        "space = np.concatenate([0,space],axis=None)\n",
        "for lambd in space:\n",
        "    #warning de iteraciones\n",
        "    model = Lasso(alpha=lambd,  max_iter=10e3)\n",
        "    model.fit(standar_data_train,y_train)\n",
        "    mse = mean_squared_error(model.predict(standar_data_train),y_train)\n",
        "    mse_val = mean_squared_error(model.predict(standar_data_val),y_val)\n",
        "    MSE_lasso_list.append(mse)\n",
        "    MSE_lasso_list_val.append(mse_val)\n",
        "    model = Ridge(alpha=lambd)\n",
        "    model.fit(standar_data_train,y_train)\n",
        "    mse = mean_squared_error(model.predict(standar_data_train),y_train)\n",
        "    mse_val = mean_squared_error(model.predict(standar_data_val),y_val)\n",
        "    MSE_ridge_list.append(mse)\n",
        "    MSE_ridge_list_val.append(mse_val)"
      ],
      "execution_count": 0,
      "outputs": []
    },
    {
      "cell_type": "code",
      "metadata": {
        "id": "rtFq2UiQ8DnN",
        "colab_type": "code",
        "outputId": "1c6bd4d2-ff1c-496d-d320-349cba9561f7",
        "colab": {
          "base_uri": "https://localhost:8080/",
          "height": 297
        }
      },
      "source": [
        "f, axs = plt.subplots(1, 2, sharex = True)\n",
        "axs[0].plot(space, MSE_lasso_list)\n",
        "axs[0].plot(space, MSE_lasso_list_val)\n",
        "axs[0].set_title(\"MSE Lasso\")\n",
        "axs[1].plot(space, MSE_ridge_list)\n",
        "axs[1].plot(space, MSE_ridge_list_val)\n",
        "axs[1].set_title(\"MSE Ridge\")\n",
        "f.tight_layout()"
      ],
      "execution_count": 20,
      "outputs": [
        {
          "output_type": "display_data",
          "data": {
            "image/png": "[encoded data removed]",
            "text/plain": [
              "<Figure size 432x288 with 2 Axes>"
            ]
          },
          "metadata": {
            "tags": []
          }
        }
      ]
    },
    {
      "cell_type": "markdown",
      "metadata": {
        "id": "aQaqelPRp2pz",
        "colab_type": "text"
      },
      "source": [
        "* Podemos ver una pronunciación importante para Lasso en valores cercanos a 0, lo cual posiblemente se deba al cambio abrupto en el valor de los coeficientes. Donde al tener un  $\\lambda$ muy grande, estos llegan a 0. Y el modelo finalmente queda constante respecto a las variables. Por otra parte para Ridge notamos un comportamiento más *suave* en la curva, lo que se esperaba de antemano, dado a que ocupa la norma 2."
      ]
    },
    {
      "cell_type": "code",
      "metadata": {
        "id": "EA76kYginkHc",
        "colab_type": "code",
        "outputId": "42da0853-4673-4fdb-fea6-fdf381c4a6f3",
        "colab": {
          "base_uri": "https://localhost:8080/",
          "height": 297
        }
      },
      "source": [
        "x = np.linspace(0,101,num=101)\n",
        "f, axs = plt.subplots(1, 2, sharex = True)\n",
        "axs[0].plot(x, MSE_lasso_list)\n",
        "axs[0].plot(x, MSE_lasso_list_val)\n",
        "axs[0].set_title(\"MSE Lasso\")\n",
        "axs[1].plot(x, MSE_ridge_list)\n",
        "axs[1].plot(x, MSE_ridge_list_val)\n",
        "axs[1].set_title(\"MSE Ridge\")\n",
        "f.tight_layout()"
      ],
      "execution_count": 21,
      "outputs": [
        {
          "output_type": "display_data",
          "data": {
            "image/png": "[encoded data removed]",
            "text/plain": [
              "<Figure size 432x288 with 2 Axes>"
            ]
          },
          "metadata": {
            "tags": []
          }
        }
      ]
    },
    {
      "cell_type": "markdown",
      "metadata": {
        "id": "cgXI2MpJqjpZ",
        "colab_type": "text"
      },
      "source": [
        "* Se visualiza ahora con puntos igualmente espaciados en el eje x, donde podemos notar el cambio abrupto producido por *Lasso*.  "
      ]
    },
    {
      "cell_type": "markdown",
      "metadata": {
        "id": "lduoS4Gc6nLl",
        "colab_type": "text"
      },
      "source": [
        "### 2.d.1 Lasso"
      ]
    },
    {
      "cell_type": "code",
      "metadata": {
        "id": "cty_OKChBFYI",
        "colab_type": "code",
        "outputId": "b26fcf2f-9faf-4d6f-d6aa-51281c37dc83",
        "colab": {
          "base_uri": "https://localhost:8080/",
          "height": 34
        }
      },
      "source": [
        "min_mse_i = np.where(MSE_lasso_list_val == np.amin(MSE_lasso_list_val))[0][0]\n",
        "print(\"[Lasso] Mejor valor para lambda según MSE: \" + str(space[min_mse_i]))"
      ],
      "execution_count": 22,
      "outputs": [
        {
          "output_type": "stream",
          "text": [
            "[Lasso] Mejor valor para lambda según MSE: 0.0030538555088334154\n"
          ],
          "name": "stdout"
        }
      ]
    },
    {
      "cell_type": "code",
      "metadata": {
        "id": "9dUFwk4563P4",
        "colab_type": "code",
        "colab": {}
      },
      "source": [
        "MSE_lasso_list = []\n",
        "MSE_lasso_list_val = []\n",
        "\n",
        "space_lasso = np.linspace(space[min_mse_i-3],space[min_mse_i+3],100)\n",
        "for lambd in space_lasso:\n",
        "    #warning de iteraciones\n",
        "    model = Lasso(alpha=lambd,  max_iter=10e3)\n",
        "    model.fit(standar_data_train,y_train)\n",
        "    mse = mean_squared_error(model.predict(standar_data_train),y_train)\n",
        "    mse_val = mean_squared_error(model.predict(standar_data_val),y_val)\n",
        "    MSE_lasso_list.append(mse)\n",
        "    MSE_lasso_list_val.append(mse_val)"
      ],
      "execution_count": 0,
      "outputs": []
    },
    {
      "cell_type": "code",
      "metadata": {
        "id": "8krpN_xLb2lG",
        "colab_type": "code",
        "outputId": "2bf102d0-f76a-424a-b060-fef7bd96fb99",
        "colab": {
          "base_uri": "https://localhost:8080/",
          "height": 298
        }
      },
      "source": [
        "x = np.linspace(0,len(space_lasso),num=len(space_lasso))\n",
        "plt.plot(x, MSE_lasso_list)\n",
        "plt.plot(x, MSE_lasso_list_val)\n",
        "plt.title(\"MSE Lasso\")"
      ],
      "execution_count": 24,
      "outputs": [
        {
          "output_type": "execute_result",
          "data": {
            "text/plain": [
              "Text(0.5, 1.0, 'MSE Lasso')"
            ]
          },
          "metadata": {
            "tags": []
          },
          "execution_count": 24
        },
        {
          "output_type": "display_data",
          "data": {
            "image/png": "[encoded data removed]",
            "text/plain": [
              "<Figure size 432x288 with 1 Axes>"
            ]
          },
          "metadata": {
            "tags": []
          }
        }
      ]
    },
    {
      "cell_type": "markdown",
      "metadata": {
        "id": "VMCYIygCq8sV",
        "colab_type": "text"
      },
      "source": [
        "* El mejor valor no se da en 0, sin embargo debido a la magnitud de los valores es dificil ver la curva convexa que se esperaría en la optimización del error."
      ]
    },
    {
      "cell_type": "markdown",
      "metadata": {
        "id": "DmF4bwog_-Nw",
        "colab_type": "text"
      },
      "source": [
        "### 2.4.2 Ridge"
      ]
    },
    {
      "cell_type": "code",
      "metadata": {
        "id": "mXmPFrRHI1xK",
        "colab_type": "code",
        "outputId": "764f334b-9b27-4ac6-fbf8-a57ce9b8fb22",
        "colab": {
          "base_uri": "https://localhost:8080/",
          "height": 34
        }
      },
      "source": [
        "min_mse_i = np.where(MSE_ridge_list_val == np.amin(MSE_ridge_list_val))[0][0]\n",
        "print(\"[Ridge] Mejor valor para lambda según MSE: \" + str(space[min_mse_i]))"
      ],
      "execution_count": 25,
      "outputs": [
        {
          "output_type": "stream",
          "text": [
            "[Ridge] Mejor valor para lambda según MSE: 107.22672220103232\n"
          ],
          "name": "stdout"
        }
      ]
    },
    {
      "cell_type": "code",
      "metadata": {
        "id": "yFTnI0bvB1iq",
        "colab_type": "code",
        "outputId": "c5022728-562b-4ed9-a755-6d6abeb98c58",
        "colab": {
          "base_uri": "https://localhost:8080/",
          "height": 298
        }
      },
      "source": [
        "MSE_ridge_list = []\n",
        "MSE_ridge_list_val = []\n",
        "\n",
        "space_ridge = np.linspace(space[min_mse_i-3],space[min_mse_i+3],100)\n",
        "for lambd in space_ridge:\n",
        "    #warning de iteraciones\n",
        "    model = Ridge(alpha=lambd,  max_iter=10e3)\n",
        "    model.fit(standar_data_train,y_train)\n",
        "    mse = mean_squared_error(model.predict(standar_data_train),y_train)\n",
        "    mse_val = mean_squared_error(model.predict(standar_data_val),y_val)\n",
        "    MSE_ridge_list.append(mse)\n",
        "    MSE_ridge_list_val.append(mse_val)\n",
        "    \n",
        "    \n",
        "x = np.linspace(0,len(space_ridge),num=len(space_ridge))\n",
        "plt.plot(x, MSE_ridge_list)\n",
        "plt.plot(x, MSE_ridge_list_val)\n",
        "plt.title(\"MSE Ridge\")"
      ],
      "execution_count": 26,
      "outputs": [
        {
          "output_type": "execute_result",
          "data": {
            "text/plain": [
              "Text(0.5, 1.0, 'MSE Ridge')"
            ]
          },
          "metadata": {
            "tags": []
          },
          "execution_count": 26
        },
        {
          "output_type": "display_data",
          "data": {
            "image/png": "[encoded data removed]",
            "text/plain": [
              "<Figure size 432x288 with 1 Axes>"
            ]
          },
          "metadata": {
            "tags": []
          }
        }
      ]
    },
    {
      "cell_type": "markdown",
      "metadata": {
        "id": "s5NiHbVfCyYj",
        "colab_type": "text"
      },
      "source": [
        "* Se procede a comparar los menores valores obtenidos para cada regularizador en el set de validación:"
      ]
    },
    {
      "cell_type": "code",
      "metadata": {
        "id": "Ja3lrhdtC7Xn",
        "colab_type": "code",
        "outputId": "14b19a77-a603-4b36-ab6c-c77834310e40",
        "colab": {
          "base_uri": "https://localhost:8080/",
          "height": 68
        }
      },
      "source": [
        "min_lasso = np.amin(MSE_lasso_list_val)\n",
        "min_ridge = np.amin(MSE_ridge_list_val)\n",
        "\n",
        "print(\"[Sin reg.]:\" + str(mse_val))\n",
        "print(\"[Lasso]: \" + str(min_lasso))\n",
        "print(\"[Ridge]: \" + str(min_ridge))"
      ],
      "execution_count": 27,
      "outputs": [
        {
          "output_type": "stream",
          "text": [
            "[Sin reg.]:0.33161023025126707\n",
            "[Lasso]: 0.3315040678610171\n",
            "[Ridge]: 0.33159837031681794\n"
          ],
          "name": "stdout"
        }
      ]
    },
    {
      "cell_type": "markdown",
      "metadata": {
        "id": "G4lmQc3VD9tc",
        "colab_type": "text"
      },
      "source": [
        "* Los errores logrados con regularización son casi iguales a los del modelo original, se puede ver que con *Ridge* se logra un mejor resultado. Posiblemente a que la mayoría de las características aportan información, sin embargo la diferencia sigue siendo pequeña."
      ]
    },
    {
      "cell_type": "markdown",
      "metadata": {
        "id": "TSCuIcCS-dq7",
        "colab_type": "text"
      },
      "source": [
        "## 2.e Influencia sobre los coeficientes\n",
        "\n",
        "* Ahora para el análisis veremos como son afectados las coeficientes respectivos a cada  *feature*,  respecto al cambio en $\\lambda$."
      ]
    },
    {
      "cell_type": "markdown",
      "metadata": {
        "id": "RVmbdGBzNbzf",
        "colab_type": "text"
      },
      "source": [
        "### 2.e.1 Lasso"
      ]
    },
    {
      "cell_type": "code",
      "metadata": {
        "id": "6kz0W_ELJxqZ",
        "colab_type": "code",
        "colab": {}
      },
      "source": [
        "x_cols = data_train.columns.values"
      ],
      "execution_count": 0,
      "outputs": []
    },
    {
      "cell_type": "code",
      "metadata": {
        "id": "t7d-fqdqWpPU",
        "colab_type": "code",
        "outputId": "bd71a226-10e9-4611-f39d-1df31483506e",
        "colab": {
          "base_uri": "https://localhost:8080/",
          "height": 584
        }
      },
      "source": [
        "MSE_lasso_list = []\n",
        "MSE_lasso_list_val = []\n",
        "coefs_lasso = []\n",
        "space = pd.np.linspace(0.0001,1,100)\n",
        "space = np.concatenate([0,space],axis=None)\n",
        "for lambd in space:\n",
        "    #warning de iteraciones\n",
        "    model = Lasso(alpha=lambd,  max_iter=10e3)\n",
        "    model.fit(standar_data_train,y_train)\n",
        "    mse = mean_squared_error(model.predict(standar_data_train),y_train)\n",
        "    mse_val = mean_squared_error(model.predict(standar_data_val),y_val)\n",
        "    MSE_lasso_list.append(mse)\n",
        "    MSE_lasso_list_val.append(mse_val)\n",
        "    coefs_lasso.append(model.coef_)\n",
        "\n",
        "plt.figure(figsize=(7,7))\n",
        "plt.title(\"[Lasso] Valor coeficientes según lambda\")\n",
        "for y_arr, label in zip(np.squeeze(coefs_lasso).T, x_cols):\n",
        "    plt.plot(space, y_arr, label=label)\n",
        "plt.legend(fontsize='small')    "
      ],
      "execution_count": 29,
      "outputs": [
        {
          "output_type": "stream",
          "text": [
            "/usr/local/lib/python3.6/dist-packages/ipykernel_launcher.py:9: UserWarning: With alpha=0, this algorithm does not converge well. You are advised to use the LinearRegression estimator\n",
            "  if __name__ == '__main__':\n",
            "/usr/local/lib/python3.6/dist-packages/sklearn/linear_model/coordinate_descent.py:475: UserWarning: Coordinate descent with no regularization may lead to unexpected results and is discouraged.\n",
            "  positive)\n",
            "/usr/local/lib/python3.6/dist-packages/sklearn/linear_model/coordinate_descent.py:475: ConvergenceWarning: Objective did not converge. You might want to increase the number of iterations. Duality gap: 1871.405304017822, tolerance: 1.0805999999999998\n",
            "  positive)\n"
          ],
          "name": "stderr"
        },
        {
          "output_type": "execute_result",
          "data": {
            "text/plain": [
              "<matplotlib.legend.Legend at 0x7f468b856f60>"
            ]
          },
          "metadata": {
            "tags": []
          },
          "execution_count": 29
        },
        {
          "output_type": "display_data",
          "data": {
            "image/png": "[encoded data removed]",
            "text/plain": [
              "<Figure size 504x504 with 1 Axes>"
            ]
          },
          "metadata": {
            "tags": []
          }
        }
      ]
    },
    {
      "cell_type": "markdown",
      "metadata": {
        "id": "VL07ebCorpza",
        "colab_type": "text"
      },
      "source": [
        "* Podemos ver el como las características decaen a 0 a medida que aumenta el valor de $\\lambda$."
      ]
    },
    {
      "cell_type": "markdown",
      "metadata": {
        "id": "3bl23OpPJ1mA",
        "colab_type": "text"
      },
      "source": [
        "### 2.e.2 Ridge"
      ]
    },
    {
      "cell_type": "code",
      "metadata": {
        "id": "e7U5DkACNnlQ",
        "colab_type": "code",
        "outputId": "223f04e4-eec9-4c8f-9150-d1ebb40737dc",
        "colab": {
          "base_uri": "https://localhost:8080/",
          "height": 571
        }
      },
      "source": [
        "MSE_ridge_list = []\n",
        "MSE_ridge_list_val = []\n",
        "coefs_ridge = []\n",
        "space = pd.np.logspace(1,3,100) \n",
        "space = np.concatenate([0,space],axis=None)\n",
        "for lambd in space:\n",
        "    #warning de iteraciones\n",
        "    model = Ridge(alpha=lambd)\n",
        "    model.fit(standar_data_train,y_train)\n",
        "    mse = mean_squared_error(model.predict(standar_data_train),y_train)\n",
        "    mse_val = mean_squared_error(model.predict(standar_data_val),y_val)\n",
        "    MSE_ridge_list.append(mse)\n",
        "    MSE_ridge_list_val.append(mse_val)\n",
        "    coefs_ridge.append(model.coef_)\n",
        "\n",
        "plt.figure(figsize=(8,8))\n",
        "plt.title(\"[Ridge] Valor coeficientes según lambda\")\n",
        "for y_arr, label in zip(np.squeeze(coefs_ridge).T, x_cols):\n",
        "    plt.plot(space, y_arr, label=label)\n",
        "plt.legend(fontsize='small', loc=1)    "
      ],
      "execution_count": 30,
      "outputs": [
        {
          "output_type": "stream",
          "text": [
            "/usr/local/lib/python3.6/dist-packages/sklearn/linear_model/ridge.py:147: LinAlgWarning: Ill-conditioned matrix (rcond=8.09611e-17): result may not be accurate.\n",
            "  overwrite_a=True).T\n"
          ],
          "name": "stderr"
        },
        {
          "output_type": "execute_result",
          "data": {
            "text/plain": [
              "<matplotlib.legend.Legend at 0x7f468bb12f28>"
            ]
          },
          "metadata": {
            "tags": []
          },
          "execution_count": 30
        },
        {
          "output_type": "display_data",
          "data": {
            "image/png": "[encoded data removed]",
            "text/plain": [
              "<Figure size 576x576 with 1 Axes>"
            ]
          },
          "metadata": {
            "tags": []
          }
        }
      ]
    },
    {
      "cell_type": "markdown",
      "metadata": {
        "id": "s3kLdfpzrzzv",
        "colab_type": "text"
      },
      "source": [
        "* En general las características tienden a disminuir su valor, llegando de manera asintótica a 0."
      ]
    },
    {
      "cell_type": "markdown",
      "metadata": {
        "id": "kjnrJCLmOUiq",
        "colab_type": "text"
      },
      "source": [
        "* Además del análisis anterior se incluye una métrica para la corroboración de la información entregada por las características:"
      ]
    },
    {
      "cell_type": "code",
      "metadata": {
        "id": "20a0WPF6Rmez",
        "colab_type": "code",
        "colab": {}
      },
      "source": [
        "from sklearn.feature_selection import mutual_info_regression"
      ],
      "execution_count": 0,
      "outputs": []
    },
    {
      "cell_type": "code",
      "metadata": {
        "id": "nJwZg1CXTkib",
        "colab_type": "code",
        "outputId": "4033bc3b-baa3-465e-e2c1-561c2a9732b0",
        "colab": {
          "base_uri": "https://localhost:8080/",
          "height": 34
        }
      },
      "source": [
        "standar_data_train.shape[1]"
      ],
      "execution_count": 32,
      "outputs": [
        {
          "output_type": "execute_result",
          "data": {
            "text/plain": [
              "17"
            ]
          },
          "metadata": {
            "tags": []
          },
          "execution_count": 32
        }
      ]
    },
    {
      "cell_type": "code",
      "metadata": {
        "id": "Lg_CUlPyRxWH",
        "colab_type": "code",
        "colab": {}
      },
      "source": [
        "\n",
        "mi_list = list()\n",
        "for i in range(standar_data_train.shape[1]):\n",
        "  mi_list.append(mutual_info_regression(standar_data_train[:,i].reshape(-1, 1),y_train))"
      ],
      "execution_count": 0,
      "outputs": []
    },
    {
      "cell_type": "code",
      "metadata": {
        "id": "7LHRJSQyS80s",
        "colab_type": "code",
        "outputId": "0eeda768-ef14-4ea6-9f69-40b8e4335c33",
        "colab": {
          "base_uri": "https://localhost:8080/",
          "height": 499
        }
      },
      "source": [
        "plt.figure(figsize=(8,8))\n",
        "for i in range(standar_data_train.shape[1]):\n",
        "    plt.scatter(i,mi_list[i], label=x_cols[i])\n",
        "_=plt.legend(fontsize='small', loc=1)  \n",
        "_=plt.title(\"Mutual Information features\")"
      ],
      "execution_count": 34,
      "outputs": [
        {
          "output_type": "display_data",
          "data": {
            "image/png": "[encoded data removed]",
            "text/plain": [
              "<Figure size 576x576 with 1 Axes>"
            ]
          },
          "metadata": {
            "tags": []
          }
        }
      ]
    },
    {
      "cell_type": "markdown",
      "metadata": {
        "id": "yVLPo61JsDpO",
        "colab_type": "text"
      },
      "source": [
        "* Se puede ver cierta relación respecto a las características que la regresión *Lasso* eliminaba al final. A  pesar de ello esta regresión no siempre puede ser adecuada para la selección de características, dado que estara muy afectada por el *Split* realizado en los datos"
      ]
    },
    {
      "cell_type": "markdown",
      "metadata": {
        "id": "tWwY-nrNUKuj",
        "colab_type": "text"
      },
      "source": [
        "## 2.f K-fold sobre $\\lambda$\n",
        "\n",
        "*  Ahora se debe ocupar K-Fold en función de ver que valor de $\\lambda$ se mantiene como el mejor al generalizar (ocupar distintos train/val set). Se elige *Lasso*  al ser el que poseía mejores resultados hasta ahora."
      ]
    },
    {
      "cell_type": "code",
      "metadata": {
        "id": "IQNZUT4gVRQf",
        "colab_type": "code",
        "colab": {}
      },
      "source": [
        "from sklearn.model_selection import KFold\n",
        "\n",
        "# se agrupan los datos en los cuales se realizará el k-fold\n",
        "data_train_val, data_val_test = train_test_split(df, test_size= 0.2)\n",
        "\n",
        "\n",
        "\n",
        "y_train_val = data_train_val.pop('price').values.reshape(-1,1)\n",
        "X = data_train_val.values\n",
        "\n",
        "kf = KFold(n_splits=5)\n",
        "kf.get_n_splits(X)\n",
        "\n",
        "\n",
        "mse_lasso_list_mean = np.array([])\n",
        "mse_lasso_list_val_mean = np.array([])\n",
        "coefs_lasso_mean = np.array([])\n",
        "space = np.linspace(0,0.1,25)\n",
        "\n",
        "for train_index, test_index in kf.split(X):\n",
        "  X_train, X_test = X[train_index], X[test_index]\n",
        "  y_train, y_test = y_train_val[train_index], y_train_val[test_index]\n",
        "  \n",
        " \n",
        "  scaler = StandardScaler()\n",
        "  scaler_x = scaler.fit(X_train)\n",
        "  X_train = scaler_x.transform(X_train)\n",
        "  X_test = scaler_x.transform(X_test)\n",
        "\n",
        "  scaler = StandardScaler()\n",
        "  scaler_y = scaler.fit(y_train)\n",
        "  y_train = scaler_y.transform(y_train)\n",
        "  y_test = scaler_y.transform(y_test)\n",
        "\n",
        "  MSE_lasso_list = np.array([])\n",
        "  MSE_lasso_list_val = np.array([])\n",
        "  coefs_lasso = np.array([])\n",
        "  for lambd in space:\n",
        "      #warning de iteraciones\n",
        "      model = Lasso(alpha=lambd)\n",
        "      model.fit(X_train,y_train)\n",
        "      mse = mean_squared_error(model.predict(X_train),y_train)\n",
        "      mse_val = mean_squared_error(model.predict(X_test),y_test)\n",
        "      MSE_lasso_list = np.concatenate((MSE_lasso_list,mse),axis=None)\n",
        "      MSE_lasso_list_val = np.concatenate((MSE_lasso_list_val,mse_val), axis=None)\n",
        "      coefs_lasso =  np.concatenate((coefs_lasso,model.coef_),axis=None)\n",
        "  mse_lasso_list_mean = np.concatenate((mse_lasso_list_mean, MSE_lasso_list), axis= 0)\n",
        "  mse_lasso_list_val_mean = np.concatenate((mse_lasso_list_val_mean, MSE_lasso_list_val), axis= 0)\n",
        "  coefs_lasso_mean = np.concatenate((coefs_lasso_mean, coefs_lasso),  axis= 0)"
      ],
      "execution_count": 0,
      "outputs": []
    },
    {
      "cell_type": "code",
      "metadata": {
        "id": "gYeYfUII2l75",
        "colab_type": "code",
        "outputId": "bc5b3d09-6672-4ecd-a15d-3e20e9221fc2",
        "colab": {
          "base_uri": "https://localhost:8080/",
          "height": 34
        }
      },
      "source": [
        "model.coef_[0]"
      ],
      "execution_count": 36,
      "outputs": [
        {
          "output_type": "execute_result",
          "data": {
            "text/plain": [
              "0.0"
            ]
          },
          "metadata": {
            "tags": []
          },
          "execution_count": 36
        }
      ]
    },
    {
      "cell_type": "code",
      "metadata": {
        "id": "zDpJvLNyzocs",
        "colab_type": "code",
        "colab": {}
      },
      "source": [
        "mse_lasso_list_mean= mse_lasso_list_mean.reshape(5,len(space))\n",
        "mse_lasso_list_val_mean = mse_lasso_list_val_mean.reshape(5,len(space))\n",
        "coefs_lasso_mean =  coefs_lasso_mean.reshape(5,len(space),len(model.coef_))\n",
        "\n",
        "mse_lasso_list_mean = mse_lasso_list_mean.mean(axis = 0)\n",
        "mse_lasso_list_val_mean = mse_lasso_list_val_mean.mean(axis = 0)\n",
        "coefs_lasso_mean =  coefs_lasso_mean.mean(axis = 0)"
      ],
      "execution_count": 0,
      "outputs": []
    },
    {
      "cell_type": "code",
      "metadata": {
        "id": "ASUOEjrM3fGz",
        "colab_type": "code",
        "outputId": "48122207-8f69-4c77-c967-52747d506cb0",
        "colab": {
          "base_uri": "https://localhost:8080/",
          "height": 281
        }
      },
      "source": [
        "plt.plot(space, mse_lasso_list_mean)\n",
        "plt.plot(space, mse_lasso_list_val_mean)\n",
        "_= plt.title(\"MSE Lasso 5-fold\")"
      ],
      "execution_count": 38,
      "outputs": [
        {
          "output_type": "display_data",
          "data": {
            "image/png": "[encoded data removed]",
            "text/plain": [
              "<Figure size 432x288 with 1 Axes>"
            ]
          },
          "metadata": {
            "tags": []
          }
        }
      ]
    },
    {
      "cell_type": "code",
      "metadata": {
        "id": "xg97E0yRMnIm",
        "colab_type": "code",
        "outputId": "21850ea4-6f20-4ccb-f251-c0efc4b1b296",
        "colab": {
          "base_uri": "https://localhost:8080/",
          "height": 34
        }
      },
      "source": [
        "min_mse_i = np.where(mse_lasso_list_mean == np.amin(mse_lasso_list_mean))[0][0]\n",
        "print(\"[Lasso] Mejor valor para lambda según MSE: \" + str(space[min_mse_i]))"
      ],
      "execution_count": 39,
      "outputs": [
        {
          "output_type": "stream",
          "text": [
            "[Lasso] Mejor valor para lambda según MSE: 0.0\n"
          ],
          "name": "stdout"
        }
      ]
    },
    {
      "cell_type": "markdown",
      "metadata": {
        "id": "g2QdzqFqsp6S",
        "colab_type": "text"
      },
      "source": [
        "* Esto es un buen indicador de que el modelo sin regularizar no posee *overfitting*, dado que en caso contrario debería mejorar con regularización. Probablemente sea una clasificación no linealmente separable, y el modelo este teniendo *underfitting*. Por lo cual dificultar más el entrenamiento no sería ventajoso."
      ]
    },
    {
      "cell_type": "code",
      "metadata": {
        "id": "WVY_IbHf5fbF",
        "colab_type": "code",
        "outputId": "8e204433-a71e-48d9-901c-3a5827deec3d",
        "colab": {
          "base_uri": "https://localhost:8080/",
          "height": 461
        }
      },
      "source": [
        "plt.figure(figsize=(7,7))\n",
        "plt.title(\"[Lasso] Valor coeficientes según lambda\")\n",
        "for y_arr, label in zip(np.squeeze(coefs_lasso_mean).T, x_cols):\n",
        "    plt.plot(space, y_arr, label=label)\n",
        "plt.legend(fontsize='small')    "
      ],
      "execution_count": 40,
      "outputs": [
        {
          "output_type": "execute_result",
          "data": {
            "text/plain": [
              "<matplotlib.legend.Legend at 0x7f468b2f3ac8>"
            ]
          },
          "metadata": {
            "tags": []
          },
          "execution_count": 40
        },
        {
          "output_type": "display_data",
          "data": {
            "image/png": "[encoded data removed]",
            "text/plain": [
              "<Figure size 504x504 with 1 Axes>"
            ]
          },
          "metadata": {
            "tags": []
          }
        }
      ]
    },
    {
      "cell_type": "markdown",
      "metadata": {
        "id": "4g7iV3ins9DH",
        "colab_type": "text"
      },
      "source": [
        "* Se puede ver que las mismas características de *sqft_living* y *grade* se mantienen con la mayor magnitud respecto a sus coeficientes. Esto entrega información valiosa respecto a su aporte en la predicción del *price* de la vivienda."
      ]
    },
    {
      "cell_type": "markdown",
      "metadata": {
        "id": "kBhleNp45bke",
        "colab_type": "text"
      },
      "source": [
        "## 2.g Grid search para SVM\n",
        "\n",
        "* Según nuestro análisis anterior, podemos notar que el error cuadrático medio no varia demasiado respecto a las modificaciones respecto a regularización. Sospechamos que nos podríamos encontrar ante un infame problema no separable linealmente, por lo cual probaremos el uso de SVM para realizar un ajuste más adecuado."
      ]
    },
    {
      "cell_type": "code",
      "metadata": {
        "id": "mKfKhbbn8QIj",
        "colab_type": "code",
        "outputId": "88db2358-ae4f-4158-8277-6566d9d05cd1",
        "colab": {
          "base_uri": "https://localhost:8080/",
          "height": 106
        }
      },
      "source": [
        "from sklearn.svm import SVR\n",
        "\n",
        "model = SVR()\n",
        "model.fit(X_train, y_train) \n",
        "\n",
        "mse = mean_squared_error(model.predict(X_train),y_train)\n",
        "mse_val = mean_squared_error(model.predict(X_test),y_test)\n",
        "print(mse)\n",
        "print(mse_val)"
      ],
      "execution_count": 48,
      "outputs": [
        {
          "output_type": "stream",
          "text": [
            "/usr/local/lib/python3.6/dist-packages/sklearn/utils/validation.py:724: DataConversionWarning: A column-vector y was passed when a 1d array was expected. Please change the shape of y to (n_samples, ), for example using ravel().\n",
            "  y = column_or_1d(y, warn=True)\n"
          ],
          "name": "stderr"
        },
        {
          "output_type": "stream",
          "text": [
            "0.2454660807499753\n",
            "0.34166840431608475\n"
          ],
          "name": "stdout"
        }
      ]
    },
    {
      "cell_type": "code",
      "metadata": {
        "id": "vps9ySxH8wab",
        "colab_type": "code",
        "colab": {}
      },
      "source": [
        "Cs, epsilons = np.meshgrid([i for i in range(1,5)],[i/20 for i in range(1,5)])\n",
        "mse_svm_list = list() \n",
        "mse_svm_val_list = list() \n",
        "score_list = list()\n",
        "for C in Cs:\n",
        "  for e in epsilons:\n",
        "    model = SVR(C=C, epsilon=e)\n",
        "    model.fit(X_train, y_train) \n",
        "\n",
        "    mse_svm_list.append(mean_squared_error(model.predict(X_train),y_train))\n",
        "    mse_svm_val_list.append(mean_squared_error(model.predict(X_test),y_test))    "
      ],
      "execution_count": 0,
      "outputs": []
    },
    {
      "cell_type": "code",
      "metadata": {
        "id": "Tl_xlkUh4I4q",
        "colab_type": "code",
        "outputId": "360e5a1f-cc59-401b-d0bc-1c012f3bb259",
        "colab": {
          "base_uri": "https://localhost:8080/",
          "height": 74
        }
      },
      "source": [
        "print(mse_svm_list)\n",
        "print(mse_svm_val_list)"
      ],
      "execution_count": 0,
      "outputs": [
        {
          "output_type": "stream",
          "text": [
            "[0.2470118478184829, 0.2470118478184829, 0.2470118478184829, 0.2470118478184829, 0.2470118478184829, 0.2470118478184829, 0.2470118478184829, 0.2470118478184829, 0.2470118478184829, 0.2470118478184829, 0.2470118478184829, 0.2470118478184829, 0.2470118478184829, 0.2470118478184829, 0.2470118478184829, 0.2470118478184829]\n",
            "[0.2435995268289948, 0.2435995268289948, 0.2435995268289948, 0.2435995268289948, 0.2435995268289948, 0.2435995268289948, 0.2435995268289948, 0.2435995268289948, 0.2435995268289948, 0.2435995268289948, 0.2435995268289948, 0.2435995268289948, 0.2435995268289948, 0.2435995268289948, 0.2435995268289948, 0.2435995268289948]\n"
          ],
          "name": "stdout"
        }
      ]
    }
  ]
}