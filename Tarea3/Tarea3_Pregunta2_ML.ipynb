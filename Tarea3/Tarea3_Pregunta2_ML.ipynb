{
  "nbformat": 4,
  "nbformat_minor": 0,
  "metadata": {
    "colab": {
      "name": "Tarea3-Pregunta2-ML.ipynb",
      "version": "0.3.2",
      "provenance": [],
      "collapsed_sections": [],
      "include_colab_link": true
    },
    "kernelspec": {
      "name": "python3",
      "display_name": "Python 3"
    }
  },
  "cells": [
    {
      "cell_type": "markdown",
      "metadata": {
        "id": "view-in-github",
        "colab_type": "text"
      },
      "source": [
        "<a href=\"https://colab.research.google.com/github/rigonzal/ML-2019-1/blob/master/Tarea3/Tarea3_Pregunta2_ML.ipynb\" target=\"_parent\"><img src=\"https://colab.research.google.com/assets/colab-badge.svg\" alt=\"Open In Colab\"/></a>"
      ]
    },
    {
      "cell_type": "markdown",
      "metadata": {
        "id": "c5r6GjrCp_n-",
        "colab_type": "text"
      },
      "source": [
        "# INF-393: Máquinas de Aprendizaje\n",
        "\n",
        "## Tarea 3 - Pregunta 2\n",
        "\n",
        "13-09-2019\n",
        "\n",
        "\n",
        "\n",
        "*   Rodrigo González Smith           -- 201303026-2\n",
        "*   Ignacio Valenzuela Albornoz   -- 201473055-1\n",
        "\n",
        "## Clasificación con clases desbalanceadas"
      ]
    },
    {
      "cell_type": "code",
      "metadata": {
        "id": "hZaOvqBJuJ5r",
        "colab_type": "code",
        "outputId": "237fe90c-68bb-435b-ce3d-ba7df698f58d",
        "colab": {
          "base_uri": "https://localhost:8080/",
          "height": 187
        }
      },
      "source": [
        "import time\n",
        "import warnings\n",
        "import numpy as np\n",
        "import pandas as pd\n",
        "import seaborn as sns\n",
        "import matplotlib.pyplot as plt\n",
        "\n",
        "from google.colab import drive\n",
        "from sklearn.preprocessing import StandardScaler\n",
        "from sklearn.model_selection import train_test_split\n",
        "from sklearn.linear_model import LogisticRegression\n",
        "from sklearn.metrics import roc_curve, confusion_matrix, roc_auc_score\n",
        "from sklearn.tree import DecisionTreeClassifier\n",
        "from keras.layers import Dense\n",
        "from keras.models import Sequential\n",
        "from imblearn.over_sampling import SMOTE, ADASYN\n",
        "\n",
        "drive.mount('/content/drive')\n",
        "\n",
        "%matplotlib inline"
      ],
      "execution_count": 1,
      "outputs": [
        {
          "output_type": "stream",
          "text": [
            "Using TensorFlow backend.\n",
            "/usr/local/lib/python3.6/dist-packages/sklearn/externals/six.py:31: DeprecationWarning: The module is deprecated in version 0.21 and will be removed in version 0.23 since we've dropped support for Python 2.7. Please rely on the official version of six (https://pypi.org/project/six/).\n",
            "  \"(https://pypi.org/project/six/).\", DeprecationWarning)\n"
          ],
          "name": "stderr"
        },
        {
          "output_type": "stream",
          "text": [
            "Go to this URL in a browser: https://accounts.google.com/o/oauth2/auth?client_id=947318989803-6bn6qk8qdgf4n4g3pfee6491hc0brc4i.apps.googleusercontent.com&redirect_uri=urn%3Aietf%3Awg%3Aoauth%3A2.0%3Aoob&scope=email%20https%3A%2F%2Fwww.googleapis.com%2Fauth%2Fdocs.test%20https%3A%2F%2Fwww.googleapis.com%2Fauth%2Fdrive%20https%3A%2F%2Fwww.googleapis.com%2Fauth%2Fdrive.photos.readonly%20https%3A%2F%2Fwww.googleapis.com%2Fauth%2Fpeopleapi.readonly&response_type=code\n",
            "\n",
            "Enter your authorization code:\n",
            "··········\n",
            "Mounted at /content/drive\n"
          ],
          "name": "stdout"
        }
      ]
    },
    {
      "cell_type": "markdown",
      "metadata": {
        "id": "vr89lunIzAeE",
        "colab_type": "text"
      },
      "source": [
        "Un problema bastante común cuando se quiere aplicar modelos de aprendizaje automático a problemas de clasificación es el desbalanceo de clases. Esto último consiste en que en los datos etiquetados, cada clase del target posee diferentes cantidades de datos que la representen, habiendo problemas con las clases que las representan pocos datos. Esto es un grandísimo problema en problemas de clasificación binaria, por ejemplo, ya que solo obtendremos resultados para una clase. Con lo anterior, tendremos un modelo bastante simple que entre blanco y negro siempre nos devolverá negro, debido a que en toda su vida ha visto este color y pocas veces el blanco.\n",
        "\n",
        "Ocuparemos un dataset que posee una gran cantidad de transacciones bancarias las cuales a sus atributos se les aplicó PCA a excepción de ciertas columnas. El problema en cuestión es identificar que transacciones bancarias son propensas a fraude, pero como es de suponer, la cantidad de transacciones fraudulentas son muy pocas, 487 de un total de 285000. ¿Qué podemos hacer en este caso, donde las transacciones fraudulentas representan casi el 2% del total? Comenzaremos ahora a trabajar este dataset para lograr encontrar soluciones a estos problemas, y no tener que ir al engorroso trabajo de crear datos a mano conociendo los factores que resaltan en estas 487 muestras.\n",
        "\n",
        "## a) Carga de datos\n",
        "Cargaremos los datos mediante pandas y también analizaremos el tipo de datos de cada atributo, su rango y más información importante.\n"
      ]
    },
    {
      "cell_type": "code",
      "metadata": {
        "id": "byj1qPSluQto",
        "colab_type": "code",
        "colab": {}
      },
      "source": [
        "data = pd.read_csv(\"/content/drive/My Drive/creditcard.csv\")"
      ],
      "execution_count": 0,
      "outputs": []
    },
    {
      "cell_type": "code",
      "metadata": {
        "id": "gLJyDRoU1ZbH",
        "colab_type": "code",
        "outputId": "06b54588-b3f7-4524-a7c2-12283589a85e",
        "colab": {
          "base_uri": "https://localhost:8080/",
          "height": 320
        }
      },
      "source": [
        "data.describe()"
      ],
      "execution_count": 0,
      "outputs": [
        {
          "output_type": "execute_result",
          "data": {
            "text/html": [
              "<div>\n",
              "<style scoped>\n",
              "    .dataframe tbody tr th:only-of-type {\n",
              "        vertical-align: middle;\n",
              "    }\n",
              "\n",
              "    .dataframe tbody tr th {\n",
              "        vertical-align: top;\n",
              "    }\n",
              "\n",
              "    .dataframe thead th {\n",
              "        text-align: right;\n",
              "    }\n",
              "</style>\n",
              "<table border=\"1\" class=\"dataframe\">\n",
              "  <thead>\n",
              "    <tr style=\"text-align: right;\">\n",
              "      <th></th>\n",
              "      <th>Time</th>\n",
              "      <th>V1</th>\n",
              "      <th>V2</th>\n",
              "      <th>V3</th>\n",
              "      <th>V4</th>\n",
              "      <th>V5</th>\n",
              "      <th>V6</th>\n",
              "      <th>V7</th>\n",
              "      <th>V8</th>\n",
              "      <th>V9</th>\n",
              "      <th>V10</th>\n",
              "      <th>V11</th>\n",
              "      <th>V12</th>\n",
              "      <th>V13</th>\n",
              "      <th>V14</th>\n",
              "      <th>V15</th>\n",
              "      <th>V16</th>\n",
              "      <th>V17</th>\n",
              "      <th>V18</th>\n",
              "      <th>V19</th>\n",
              "      <th>V20</th>\n",
              "      <th>V21</th>\n",
              "      <th>V22</th>\n",
              "      <th>V23</th>\n",
              "      <th>V24</th>\n",
              "      <th>V25</th>\n",
              "      <th>V26</th>\n",
              "      <th>V27</th>\n",
              "      <th>V28</th>\n",
              "      <th>Amount</th>\n",
              "      <th>Class</th>\n",
              "    </tr>\n",
              "  </thead>\n",
              "  <tbody>\n",
              "    <tr>\n",
              "      <th>count</th>\n",
              "      <td>284807.000000</td>\n",
              "      <td>2.848070e+05</td>\n",
              "      <td>2.848070e+05</td>\n",
              "      <td>2.848070e+05</td>\n",
              "      <td>2.848070e+05</td>\n",
              "      <td>2.848070e+05</td>\n",
              "      <td>2.848070e+05</td>\n",
              "      <td>2.848070e+05</td>\n",
              "      <td>2.848070e+05</td>\n",
              "      <td>2.848070e+05</td>\n",
              "      <td>2.848070e+05</td>\n",
              "      <td>2.848070e+05</td>\n",
              "      <td>2.848070e+05</td>\n",
              "      <td>2.848070e+05</td>\n",
              "      <td>2.848070e+05</td>\n",
              "      <td>2.848070e+05</td>\n",
              "      <td>2.848070e+05</td>\n",
              "      <td>2.848070e+05</td>\n",
              "      <td>2.848070e+05</td>\n",
              "      <td>2.848070e+05</td>\n",
              "      <td>2.848070e+05</td>\n",
              "      <td>2.848070e+05</td>\n",
              "      <td>2.848070e+05</td>\n",
              "      <td>2.848070e+05</td>\n",
              "      <td>2.848070e+05</td>\n",
              "      <td>2.848070e+05</td>\n",
              "      <td>2.848070e+05</td>\n",
              "      <td>2.848070e+05</td>\n",
              "      <td>2.848070e+05</td>\n",
              "      <td>284807.000000</td>\n",
              "      <td>284807.000000</td>\n",
              "    </tr>\n",
              "    <tr>\n",
              "      <th>mean</th>\n",
              "      <td>94813.859575</td>\n",
              "      <td>3.919560e-15</td>\n",
              "      <td>5.688174e-16</td>\n",
              "      <td>-8.769071e-15</td>\n",
              "      <td>2.782312e-15</td>\n",
              "      <td>-1.552563e-15</td>\n",
              "      <td>2.010663e-15</td>\n",
              "      <td>-1.694249e-15</td>\n",
              "      <td>-1.927028e-16</td>\n",
              "      <td>-3.137024e-15</td>\n",
              "      <td>1.768627e-15</td>\n",
              "      <td>9.170318e-16</td>\n",
              "      <td>-1.810658e-15</td>\n",
              "      <td>1.693438e-15</td>\n",
              "      <td>1.479045e-15</td>\n",
              "      <td>3.482336e-15</td>\n",
              "      <td>1.392007e-15</td>\n",
              "      <td>-7.528491e-16</td>\n",
              "      <td>4.328772e-16</td>\n",
              "      <td>9.049732e-16</td>\n",
              "      <td>5.085503e-16</td>\n",
              "      <td>1.537294e-16</td>\n",
              "      <td>7.959909e-16</td>\n",
              "      <td>5.367590e-16</td>\n",
              "      <td>4.458112e-15</td>\n",
              "      <td>1.453003e-15</td>\n",
              "      <td>1.699104e-15</td>\n",
              "      <td>-3.660161e-16</td>\n",
              "      <td>-1.206049e-16</td>\n",
              "      <td>88.349619</td>\n",
              "      <td>0.001727</td>\n",
              "    </tr>\n",
              "    <tr>\n",
              "      <th>std</th>\n",
              "      <td>47488.145955</td>\n",
              "      <td>1.958696e+00</td>\n",
              "      <td>1.651309e+00</td>\n",
              "      <td>1.516255e+00</td>\n",
              "      <td>1.415869e+00</td>\n",
              "      <td>1.380247e+00</td>\n",
              "      <td>1.332271e+00</td>\n",
              "      <td>1.237094e+00</td>\n",
              "      <td>1.194353e+00</td>\n",
              "      <td>1.098632e+00</td>\n",
              "      <td>1.088850e+00</td>\n",
              "      <td>1.020713e+00</td>\n",
              "      <td>9.992014e-01</td>\n",
              "      <td>9.952742e-01</td>\n",
              "      <td>9.585956e-01</td>\n",
              "      <td>9.153160e-01</td>\n",
              "      <td>8.762529e-01</td>\n",
              "      <td>8.493371e-01</td>\n",
              "      <td>8.381762e-01</td>\n",
              "      <td>8.140405e-01</td>\n",
              "      <td>7.709250e-01</td>\n",
              "      <td>7.345240e-01</td>\n",
              "      <td>7.257016e-01</td>\n",
              "      <td>6.244603e-01</td>\n",
              "      <td>6.056471e-01</td>\n",
              "      <td>5.212781e-01</td>\n",
              "      <td>4.822270e-01</td>\n",
              "      <td>4.036325e-01</td>\n",
              "      <td>3.300833e-01</td>\n",
              "      <td>250.120109</td>\n",
              "      <td>0.041527</td>\n",
              "    </tr>\n",
              "    <tr>\n",
              "      <th>min</th>\n",
              "      <td>0.000000</td>\n",
              "      <td>-5.640751e+01</td>\n",
              "      <td>-7.271573e+01</td>\n",
              "      <td>-4.832559e+01</td>\n",
              "      <td>-5.683171e+00</td>\n",
              "      <td>-1.137433e+02</td>\n",
              "      <td>-2.616051e+01</td>\n",
              "      <td>-4.355724e+01</td>\n",
              "      <td>-7.321672e+01</td>\n",
              "      <td>-1.343407e+01</td>\n",
              "      <td>-2.458826e+01</td>\n",
              "      <td>-4.797473e+00</td>\n",
              "      <td>-1.868371e+01</td>\n",
              "      <td>-5.791881e+00</td>\n",
              "      <td>-1.921433e+01</td>\n",
              "      <td>-4.498945e+00</td>\n",
              "      <td>-1.412985e+01</td>\n",
              "      <td>-2.516280e+01</td>\n",
              "      <td>-9.498746e+00</td>\n",
              "      <td>-7.213527e+00</td>\n",
              "      <td>-5.449772e+01</td>\n",
              "      <td>-3.483038e+01</td>\n",
              "      <td>-1.093314e+01</td>\n",
              "      <td>-4.480774e+01</td>\n",
              "      <td>-2.836627e+00</td>\n",
              "      <td>-1.029540e+01</td>\n",
              "      <td>-2.604551e+00</td>\n",
              "      <td>-2.256568e+01</td>\n",
              "      <td>-1.543008e+01</td>\n",
              "      <td>0.000000</td>\n",
              "      <td>0.000000</td>\n",
              "    </tr>\n",
              "    <tr>\n",
              "      <th>25%</th>\n",
              "      <td>54201.500000</td>\n",
              "      <td>-9.203734e-01</td>\n",
              "      <td>-5.985499e-01</td>\n",
              "      <td>-8.903648e-01</td>\n",
              "      <td>-8.486401e-01</td>\n",
              "      <td>-6.915971e-01</td>\n",
              "      <td>-7.682956e-01</td>\n",
              "      <td>-5.540759e-01</td>\n",
              "      <td>-2.086297e-01</td>\n",
              "      <td>-6.430976e-01</td>\n",
              "      <td>-5.354257e-01</td>\n",
              "      <td>-7.624942e-01</td>\n",
              "      <td>-4.055715e-01</td>\n",
              "      <td>-6.485393e-01</td>\n",
              "      <td>-4.255740e-01</td>\n",
              "      <td>-5.828843e-01</td>\n",
              "      <td>-4.680368e-01</td>\n",
              "      <td>-4.837483e-01</td>\n",
              "      <td>-4.988498e-01</td>\n",
              "      <td>-4.562989e-01</td>\n",
              "      <td>-2.117214e-01</td>\n",
              "      <td>-2.283949e-01</td>\n",
              "      <td>-5.423504e-01</td>\n",
              "      <td>-1.618463e-01</td>\n",
              "      <td>-3.545861e-01</td>\n",
              "      <td>-3.171451e-01</td>\n",
              "      <td>-3.269839e-01</td>\n",
              "      <td>-7.083953e-02</td>\n",
              "      <td>-5.295979e-02</td>\n",
              "      <td>5.600000</td>\n",
              "      <td>0.000000</td>\n",
              "    </tr>\n",
              "    <tr>\n",
              "      <th>50%</th>\n",
              "      <td>84692.000000</td>\n",
              "      <td>1.810880e-02</td>\n",
              "      <td>6.548556e-02</td>\n",
              "      <td>1.798463e-01</td>\n",
              "      <td>-1.984653e-02</td>\n",
              "      <td>-5.433583e-02</td>\n",
              "      <td>-2.741871e-01</td>\n",
              "      <td>4.010308e-02</td>\n",
              "      <td>2.235804e-02</td>\n",
              "      <td>-5.142873e-02</td>\n",
              "      <td>-9.291738e-02</td>\n",
              "      <td>-3.275735e-02</td>\n",
              "      <td>1.400326e-01</td>\n",
              "      <td>-1.356806e-02</td>\n",
              "      <td>5.060132e-02</td>\n",
              "      <td>4.807155e-02</td>\n",
              "      <td>6.641332e-02</td>\n",
              "      <td>-6.567575e-02</td>\n",
              "      <td>-3.636312e-03</td>\n",
              "      <td>3.734823e-03</td>\n",
              "      <td>-6.248109e-02</td>\n",
              "      <td>-2.945017e-02</td>\n",
              "      <td>6.781943e-03</td>\n",
              "      <td>-1.119293e-02</td>\n",
              "      <td>4.097606e-02</td>\n",
              "      <td>1.659350e-02</td>\n",
              "      <td>-5.213911e-02</td>\n",
              "      <td>1.342146e-03</td>\n",
              "      <td>1.124383e-02</td>\n",
              "      <td>22.000000</td>\n",
              "      <td>0.000000</td>\n",
              "    </tr>\n",
              "    <tr>\n",
              "      <th>75%</th>\n",
              "      <td>139320.500000</td>\n",
              "      <td>1.315642e+00</td>\n",
              "      <td>8.037239e-01</td>\n",
              "      <td>1.027196e+00</td>\n",
              "      <td>7.433413e-01</td>\n",
              "      <td>6.119264e-01</td>\n",
              "      <td>3.985649e-01</td>\n",
              "      <td>5.704361e-01</td>\n",
              "      <td>3.273459e-01</td>\n",
              "      <td>5.971390e-01</td>\n",
              "      <td>4.539234e-01</td>\n",
              "      <td>7.395934e-01</td>\n",
              "      <td>6.182380e-01</td>\n",
              "      <td>6.625050e-01</td>\n",
              "      <td>4.931498e-01</td>\n",
              "      <td>6.488208e-01</td>\n",
              "      <td>5.232963e-01</td>\n",
              "      <td>3.996750e-01</td>\n",
              "      <td>5.008067e-01</td>\n",
              "      <td>4.589494e-01</td>\n",
              "      <td>1.330408e-01</td>\n",
              "      <td>1.863772e-01</td>\n",
              "      <td>5.285536e-01</td>\n",
              "      <td>1.476421e-01</td>\n",
              "      <td>4.395266e-01</td>\n",
              "      <td>3.507156e-01</td>\n",
              "      <td>2.409522e-01</td>\n",
              "      <td>9.104512e-02</td>\n",
              "      <td>7.827995e-02</td>\n",
              "      <td>77.165000</td>\n",
              "      <td>0.000000</td>\n",
              "    </tr>\n",
              "    <tr>\n",
              "      <th>max</th>\n",
              "      <td>172792.000000</td>\n",
              "      <td>2.454930e+00</td>\n",
              "      <td>2.205773e+01</td>\n",
              "      <td>9.382558e+00</td>\n",
              "      <td>1.687534e+01</td>\n",
              "      <td>3.480167e+01</td>\n",
              "      <td>7.330163e+01</td>\n",
              "      <td>1.205895e+02</td>\n",
              "      <td>2.000721e+01</td>\n",
              "      <td>1.559499e+01</td>\n",
              "      <td>2.374514e+01</td>\n",
              "      <td>1.201891e+01</td>\n",
              "      <td>7.848392e+00</td>\n",
              "      <td>7.126883e+00</td>\n",
              "      <td>1.052677e+01</td>\n",
              "      <td>8.877742e+00</td>\n",
              "      <td>1.731511e+01</td>\n",
              "      <td>9.253526e+00</td>\n",
              "      <td>5.041069e+00</td>\n",
              "      <td>5.591971e+00</td>\n",
              "      <td>3.942090e+01</td>\n",
              "      <td>2.720284e+01</td>\n",
              "      <td>1.050309e+01</td>\n",
              "      <td>2.252841e+01</td>\n",
              "      <td>4.584549e+00</td>\n",
              "      <td>7.519589e+00</td>\n",
              "      <td>3.517346e+00</td>\n",
              "      <td>3.161220e+01</td>\n",
              "      <td>3.384781e+01</td>\n",
              "      <td>25691.160000</td>\n",
              "      <td>1.000000</td>\n",
              "    </tr>\n",
              "  </tbody>\n",
              "</table>\n",
              "</div>"
            ],
            "text/plain": [
              "                Time            V1  ...         Amount          Class\n",
              "count  284807.000000  2.848070e+05  ...  284807.000000  284807.000000\n",
              "mean    94813.859575  3.919560e-15  ...      88.349619       0.001727\n",
              "std     47488.145955  1.958696e+00  ...     250.120109       0.041527\n",
              "min         0.000000 -5.640751e+01  ...       0.000000       0.000000\n",
              "25%     54201.500000 -9.203734e-01  ...       5.600000       0.000000\n",
              "50%     84692.000000  1.810880e-02  ...      22.000000       0.000000\n",
              "75%    139320.500000  1.315642e+00  ...      77.165000       0.000000\n",
              "max    172792.000000  2.454930e+00  ...   25691.160000       1.000000\n",
              "\n",
              "[8 rows x 31 columns]"
            ]
          },
          "metadata": {
            "tags": []
          },
          "execution_count": 3
        }
      ]
    },
    {
      "cell_type": "markdown",
      "metadata": {
        "id": "Ku9Z_1D73wi2",
        "colab_type": "text"
      },
      "source": [
        "Podemos ver cierta estructura de los datos. Vemos que desde v1 a v28 consisten en los vectores resultantes del PCA. Respecto a la variable Time esta representado en segundos respecto a la primera transacción, es decir, esa columna indica el delta T entre la primera transacción y la actual. Por último tenemos Amount que indica la cantidad de dinero que consistió esa transacción (supondremos en dólares) y por último class, donde por los valores tan bajos de media asimilamos que 0 corresponde a no fraude y un 1 como fraude.\n",
        "\n",
        "Ahora crearemos una matriz de correlación para ver como los atributos se relacionan entre sí."
      ]
    },
    {
      "cell_type": "code",
      "metadata": {
        "id": "9utMqlin2a6x",
        "colab_type": "code",
        "outputId": "87e19537-49ad-4384-aace-7ae1dd0fbbda",
        "colab": {
          "base_uri": "https://localhost:8080/",
          "height": 624
        }
      },
      "source": [
        "plt.figure(figsize=(20,10))\n",
        "corr = data.corr()\n",
        "ax = sns.heatmap(\n",
        "    corr, \n",
        "    vmin=-1, vmax=1, center=0,\n",
        "    cmap=sns.diverging_palette(20, 220, n=200),\n",
        "    square=True\n",
        ")"
      ],
      "execution_count": 0,
      "outputs": [
        {
          "output_type": "display_data",
          "data": {
            "image/png": "[encoded data removed]",
            "text/plain": [
              "<Figure size 1440x720 with 2 Axes>"
            ]
          },
          "metadata": {
            "tags": []
          }
        }
      ]
    },
    {
      "cell_type": "markdown",
      "metadata": {
        "id": "eigYWJHePzGU",
        "colab_type": "text"
      },
      "source": [
        "Analizando la matriz, tenemos que un color blanco implica que no hay una correlación entre las variables. Si es verde, implica una correlación positiva y rojo una correlación negativa, y mientras más intenso el color, la magnitud es aún más.\n",
        "\n",
        "Podemos apreciar que entre los vectores producidos por el PCA no poseen correlación entre sí, lo que es esperable y beneficioso para el modelo (considerando que no se puede reducir más la cantidad). \n",
        "\n",
        "Viendo la matriz y analizando tanto los valores del tiempo como su incidencia en el problema, no será una buena opción mantenerlo en el dataset. Esto principalmente a que el tiempo de cada transacción es respecto a la primera de ellas, y en el caso de fraudes no hay tanta implicancia respecto a la secuencia en la que ocurrió. Quizás podríamos obtener alguna información de mes, festividad, año, etc, pero como todo depende la primera transacción, no nos dará ninguna información relevante para le problema, por lo que podemos sacarlo del dataset."
      ]
    },
    {
      "cell_type": "code",
      "metadata": {
        "id": "DCDYibJF74Yd",
        "colab_type": "code",
        "colab": {}
      },
      "source": [
        "data = data.drop([\"Time\"], axis = 1)"
      ],
      "execution_count": 0,
      "outputs": []
    },
    {
      "cell_type": "markdown",
      "metadata": {
        "id": "0brIqEDUQvUL",
        "colab_type": "text"
      },
      "source": [
        "Por último, veremos si realmente tenemos una pequeña cantidad de muestras categorizados como fraude:"
      ]
    },
    {
      "cell_type": "code",
      "metadata": {
        "id": "RZJrf1QbQ0Jl",
        "colab_type": "code",
        "outputId": "a21ddbe6-edcb-4274-cb17-925832da69d6",
        "colab": {
          "base_uri": "https://localhost:8080/",
          "height": 36
        }
      },
      "source": [
        "data.loc[lambda x: x.Class != 0].shape"
      ],
      "execution_count": 0,
      "outputs": [
        {
          "output_type": "execute_result",
          "data": {
            "text/plain": [
              "(492, 30)"
            ]
          },
          "metadata": {
            "tags": []
          },
          "execution_count": 5
        }
      ]
    },
    {
      "cell_type": "markdown",
      "metadata": {
        "id": "ZKlRCFz58sx-",
        "colab_type": "text"
      },
      "source": [
        "## b) Ligero pre-procesamiento\n",
        "\n",
        "Primero que todo debemos realizar un preprocesamiento. Analizando la columna de \"Amount\", tenemos lo siguiente:"
      ]
    },
    {
      "cell_type": "code",
      "metadata": {
        "id": "ZFAChROcRYCz",
        "colab_type": "code",
        "outputId": "3c6e8011-2890-4dc7-df9e-d5f846fbbd46",
        "colab": {
          "base_uri": "https://localhost:8080/",
          "height": 186
        }
      },
      "source": [
        "data[\"Amount\"].describe()"
      ],
      "execution_count": 0,
      "outputs": [
        {
          "output_type": "execute_result",
          "data": {
            "text/plain": [
              "count    284807.000000\n",
              "mean         88.349619\n",
              "std         250.120109\n",
              "min           0.000000\n",
              "25%           5.600000\n",
              "50%          22.000000\n",
              "75%          77.165000\n",
              "max       25691.160000\n",
              "Name: Amount, dtype: float64"
            ]
          },
          "metadata": {
            "tags": []
          },
          "execution_count": 6
        }
      ]
    },
    {
      "cell_type": "markdown",
      "metadata": {
        "id": "GLT5wTxiRb-p",
        "colab_type": "text"
      },
      "source": [
        "Como se aprecia en el describe, esta columna posee un valor mínimo 0 y un máximo de 25691, con una media de 88 y desviación estándar 250. Los valores tienen un rango bastante alto y eso en los modelos puede tender a producir errores también grandes. Escalar estos datos será crucial para poder acotar su valor y también lograr que tomen valores negativos, barriendo así mejor el espacio en el cual pertenecen. Usaremos un escalador estándar entrenado en el mismo atributo para así transformarlo."
      ]
    },
    {
      "cell_type": "code",
      "metadata": {
        "id": "vKiSqzIk8pTU",
        "colab_type": "code",
        "colab": {}
      },
      "source": [
        "scaler = StandardScaler()\n",
        "scaler.fit(data['Amount'].values.reshape(-1,1))\n",
        "data['Amount'] = scaler.transform(data['Amount'].values.reshape(-1,1))"
      ],
      "execution_count": 0,
      "outputs": []
    },
    {
      "cell_type": "markdown",
      "metadata": {
        "id": "ENSi3-a0SRUD",
        "colab_type": "text"
      },
      "source": [
        "Es evidente que el target no es necesario escalarlo como también el atributo Time que fue eliminado. Respecto a los atributos vX, no es necesario escalarlos ya que son resultado de un PCA, por lo que su rango ya está limitado.\n",
        "\n",
        "Separaremos el target de los demás atributos, para finalmente aplicar un train_test_split a la muestra, teniendo así listo todo para los modelos de aprendizaje que utilizaremos."
      ]
    },
    {
      "cell_type": "code",
      "metadata": {
        "id": "hDBNVzFq9z7H",
        "colab_type": "code",
        "colab": {}
      },
      "source": [
        "x = data[data.columns[1:-2]]\n",
        "y = data.Class"
      ],
      "execution_count": 0,
      "outputs": []
    },
    {
      "cell_type": "code",
      "metadata": {
        "id": "koZE-pQO978s",
        "colab_type": "code",
        "colab": {}
      },
      "source": [
        "x_train, x_val, y_train, y_val = train_test_split(x, y, test_size = 0.2)"
      ],
      "execution_count": 0,
      "outputs": []
    },
    {
      "cell_type": "markdown",
      "metadata": {
        "id": "CJudjF1wWLtF",
        "colab_type": "text"
      },
      "source": [
        "Comprobemos que en ambos conjuntos poseemos una proporción parecida de clases."
      ]
    },
    {
      "cell_type": "code",
      "metadata": {
        "id": "f1KKA7tbU1Hx",
        "colab_type": "code",
        "outputId": "b69a5deb-ffb7-4b3e-887b-c8cac0d9e712",
        "colab": {
          "base_uri": "https://localhost:8080/",
          "height": 54
        }
      },
      "source": [
        "print(\"Proportion training: \", round((y_train.value_counts()[1] / len(y_train)) * 100, 2))\n",
        "print(\"Proportion validation: \", round((y_val.value_counts()[1] / len(y_val)) * 100, 2))"
      ],
      "execution_count": 0,
      "outputs": [
        {
          "output_type": "stream",
          "text": [
            "Proportion training:  0.17\n",
            "Proportion validation:  0.17\n"
          ],
          "name": "stdout"
        }
      ]
    },
    {
      "cell_type": "markdown",
      "metadata": {
        "id": "VSnnkK-8W5Mf",
        "colab_type": "text"
      },
      "source": [
        "Como vemos, la proporción es la misma, por lo que tenemos bien distribuida la cantidad de clases en ambos conjuntos.\n",
        "\n",
        "Lo anterior es importante debido a que podemos tener casos donde todas las muestras de clase 1 nos quedasen en el conjunto de validación. Por lo tanto, si entrenamos cualquier modelo con un dataset con una sola clase, tendremos un modelo que solo conoce una salida y no puede dar otra. Por lo tanto cuando intente predecir los datos de otra clase no podrá dar un valor, ya que en el aprendizaje supervisado nunca vió una muestra con clase 1, por lo tanto no la conoce.\n",
        "\n",
        "Además, como tenemos clases desbalanceadas, a pesar de eso igual tendrá un desempeño excelente, debido a que la cantidad de datos que son de clase 1 es cercano al 2%, por lo que a las demás muestras las categorizará perfecto, dandonos una pequeña ilusión de que al fin hicimos algo bien."
      ]
    },
    {
      "cell_type": "markdown",
      "metadata": {
        "id": "aJ5bW50K-i9L",
        "colab_type": "text"
      },
      "source": [
        "## c) Regresor logístico\n",
        "\n",
        "El regresor logístico siempre es un buen modelo de acercamiento a un problema de clasificación, sobre todo binario. Ocuparemos un modelo simple y veremos su desempeño en ambos conjuntos."
      ]
    },
    {
      "cell_type": "code",
      "metadata": {
        "id": "IOqRdbso-Uhk",
        "colab_type": "code",
        "outputId": "a345b5ec-a2b5-4d6e-e7d7-bbc8396a109d",
        "colab": {
          "base_uri": "https://localhost:8080/",
          "height": 73
        }
      },
      "source": [
        "ini = time.time()\n",
        "log_reg = LogisticRegression()\n",
        "log_reg.fit(x_train, y_train)\n",
        "fin = time.time()\n",
        "print(\"Elapsed time: \", fin - ini)"
      ],
      "execution_count": 0,
      "outputs": [
        {
          "output_type": "stream",
          "text": [
            "/usr/local/lib/python3.6/dist-packages/sklearn/linear_model/logistic.py:432: FutureWarning: Default solver will be changed to 'lbfgs' in 0.22. Specify a solver to silence this warning.\n",
            "  FutureWarning)\n"
          ],
          "name": "stderr"
        },
        {
          "output_type": "stream",
          "text": [
            "Elapsed time:  3.72574520111084\n"
          ],
          "name": "stdout"
        }
      ]
    },
    {
      "cell_type": "code",
      "metadata": {
        "id": "r6z2oT05-vvD",
        "colab_type": "code",
        "outputId": "74b86093-66ad-4a38-b89a-26958eac1cd1",
        "colab": {
          "base_uri": "https://localhost:8080/",
          "height": 54
        }
      },
      "source": [
        "print(\"Training score: \", log_reg.score(x_train, y_train))\n",
        "print(\"Validation score: \", log_reg.score(x_val, y_val))"
      ],
      "execution_count": 0,
      "outputs": [
        {
          "output_type": "stream",
          "text": [
            "Training score:  0.9992012113498212\n",
            "Validation score:  0.9992275552122467\n"
          ],
          "name": "stdout"
        }
      ]
    },
    {
      "cell_type": "markdown",
      "metadata": {
        "id": "NLuWE4niZo2z",
        "colab_type": "text"
      },
      "source": [
        "El desempeño es magnífico, pero también nos da indicio que es overfitting. Aún así, era algo sumamente esperable debido al desbalance de clases. En realidad, ¿por qué hacemos esto si sabemos que el conjunto es demasiado injusto con la clase precaria? Quién sabe..."
      ]
    },
    {
      "cell_type": "markdown",
      "metadata": {
        "id": "6blSXiEQBeer",
        "colab_type": "text"
      },
      "source": [
        "## d) Always 0\n",
        "\n",
        "Considerando que hay tan pocas muestras con fraude, ¿que pasaría si nuestro modelo nos devolviera que todos los datos son \"no fraude\"?. Esto sería lo mismo a que un modelo nos devolviera lo siguiente:"
      ]
    },
    {
      "cell_type": "code",
      "metadata": {
        "id": "ppehGSuLAa5W",
        "colab_type": "code",
        "outputId": "81f9f162-3458-463c-cb79-72e93de26e87",
        "colab": {
          "base_uri": "https://localhost:8080/",
          "height": 36
        }
      },
      "source": [
        "y_preds = pd.np.zeros(y_val.shape)\n",
        "y_preds"
      ],
      "execution_count": 7,
      "outputs": [
        {
          "output_type": "execute_result",
          "data": {
            "text/plain": [
              "array([0., 0., 0., ..., 0., 0., 0.])"
            ]
          },
          "metadata": {
            "tags": []
          },
          "execution_count": 7
        }
      ]
    },
    {
      "cell_type": "markdown",
      "metadata": {
        "id": "giOEtEP61FFf",
        "colab_type": "text"
      },
      "source": [
        "Aún teniendo este y_preds, nuestro modelo tendría un score bastante bueno y que, si no conociésemos bien la data, creeríamos que estaría haciendo overfitting. "
      ]
    },
    {
      "cell_type": "markdown",
      "metadata": {
        "id": "pQIYG8l-CkQ1",
        "colab_type": "text"
      },
      "source": [
        "## e) Matriz de confusión\n",
        "\n",
        "Una métrica muy utilizada en modelos de machine learning para analizar su desempeño es generar una matriz de confusión. Esta consiste en una matriz que contea los aciertos para cada target como también los falsos positivos o negativos, en este caso.\n",
        "\n",
        "En esta función de abajo podemos apreciar como es una matriz de confusión."
      ]
    },
    {
      "cell_type": "code",
      "metadata": {
        "id": "6_7etZS6Cl7T",
        "colab_type": "code",
        "colab": {}
      },
      "source": [
        "def createMatrix(y_val, y_pred):\n",
        "  sns.heatmap(confusion_matrix(y_val, y_pred),cmap='summer', annot=True)    "
      ],
      "execution_count": 0,
      "outputs": []
    },
    {
      "cell_type": "code",
      "metadata": {
        "id": "Gk6mxv6az43R",
        "colab_type": "code",
        "outputId": "2e033092-b1c0-4d2c-e27a-7e39063d3f80",
        "colab": {
          "base_uri": "https://localhost:8080/",
          "height": 269
        }
      },
      "source": [
        "createMatrix(y_val, log_reg.predict(x_val))"
      ],
      "execution_count": 0,
      "outputs": [
        {
          "output_type": "display_data",
          "data": {
            "image/png": "[encoded data removed]",
            "text/plain": [
              "<Figure size 432x288 with 2 Axes>"
            ]
          },
          "metadata": {
            "tags": []
          }
        }
      ]
    },
    {
      "cell_type": "markdown",
      "metadata": {
        "id": "gm2sRXu8x6qO",
        "colab_type": "text"
      },
      "source": [
        "Como podemos ver, todos los aciertos se centran en el acierto de la clase 0 y es principalmente por la gran cantidad de muestras que existen con ese label. Aún así, podemos ver que acierta algunas muestras como un fraude a pesar de su poca frecuencia. Aún así, el modelo tiende a tomar muestras que presentan fraude como si no tuvieran (34 de ellas) y muy pocas muestras que no eran fraude las consideró como tal (8 muestras). Lo importante de esto es que podemos apreciar sustancialmente como se enfoca en un solo resultado. \n",
        "\n",
        "Por otra parte, si analizamos el y_pred con lo obtenido en el inciso d:"
      ]
    },
    {
      "cell_type": "code",
      "metadata": {
        "id": "i4xFHIze0BYZ",
        "colab_type": "code",
        "outputId": "c45dbe68-5bef-4b5e-c21e-7a5a556fba61",
        "colab": {
          "base_uri": "https://localhost:8080/",
          "height": 269
        }
      },
      "source": [
        "createMatrix(y_val, y_preds)"
      ],
      "execution_count": 0,
      "outputs": [
        {
          "output_type": "display_data",
          "data": {
            "image/png": "[encoded data removed]",
            "text/plain": [
              "<Figure size 432x288 with 2 Axes>"
            ]
          },
          "metadata": {
            "tags": []
          }
        }
      ]
    },
    {
      "cell_type": "markdown",
      "metadata": {
        "id": "7EZHDvdj0HZQ",
        "colab_type": "text"
      },
      "source": [
        "Como habíamos discutido en el mismo inciso d, el modelo solo tendrá en su conocimiento la clase 0, por lo que claramente tomará cualquier entrada como tal. Por eso no tenemos falsos positivos ni verdaderos positivos. El modelo no conoce ni una muestra con fraude, por lo que nunca nos logrará devolver una muestra con esa etiqueta."
      ]
    },
    {
      "cell_type": "markdown",
      "metadata": {
        "id": "CjzD-2izEu9y",
        "colab_type": "text"
      },
      "source": [
        "## f) Curva ROC\n",
        "\n",
        "La curva ROC es un tipo de gráfico que considerando un problema de clasificación binaria, podemos analizar la habilidad de este modelo mientras su umbral de decisión cambia durante el entrenamiento. \n",
        "\n",
        "Esto consiste en tomar el ratio de los verdaderos positivos y de los falsos positivos y graficarlos en un plot x vs y, donde x son los falsos positivos e y los verdaderos positivos. La idea es obtener una curva que crece bastante rápido en el inicio y luego se mantiene constante como una función y = 1. Esto es principalmente porque mientras aumenta el ratio de los falsos positivos, también el de verdaderos positivos, y un ratio de 1 significa que va logrando tener una mejor clasificación cuando corresponde.\n",
        "\n",
        "Obviamente nos interesa que sean los positivos debido a que esta clase representa los fraudes, la clase desbalanceada, y buscamos que los modelos sean más certeros en esa categorización"
      ]
    },
    {
      "cell_type": "code",
      "metadata": {
        "id": "UNqZXNoxEx8Q",
        "colab_type": "code",
        "colab": {}
      },
      "source": [
        "def constructROC(y_train, x_train):\n",
        "  fpr, tpr, _ = roc_curve(y_train, x_train[:,1],pos_label=1)\n",
        "  plt.plot(fpr, tpr)"
      ],
      "execution_count": 0,
      "outputs": []
    },
    {
      "cell_type": "code",
      "metadata": {
        "id": "ZncTjPVAkeM1",
        "colab_type": "code",
        "outputId": "75c9d04f-a0e9-4dbe-9d80-8d70a2e48a2c",
        "colab": {
          "base_uri": "https://localhost:8080/",
          "height": 269
        }
      },
      "source": [
        "constructROC(y_train, log_reg.predict_proba(x_train))"
      ],
      "execution_count": 0,
      "outputs": [
        {
          "output_type": "display_data",
          "data": {
            "image/png": "[encoded data removed]",
            "text/plain": [
              "<Figure size 432x288 with 1 Axes>"
            ]
          },
          "metadata": {
            "tags": []
          }
        }
      ]
    },
    {
      "cell_type": "markdown",
      "metadata": {
        "id": "LCII3t8hFZpq",
        "colab_type": "text"
      },
      "source": [
        "## g) Árbol de clasificación\n",
        "\n",
        "Ahora debemos buscar otro modelo que le pueda hacer la competencia al regresor logístico. En realidad, ya sabemos que el problema nace de nuestro dataset, pero podemos también analizar el tiempo de cómputo, por ejemplo, como también como se comportan los modelos gracias a las métricas anteriormente mostradas. Utilizaremos 3 árboles que se diferenciarán por su profundidad. "
      ]
    },
    {
      "cell_type": "code",
      "metadata": {
        "id": "hg531BmzFbZW",
        "colab_type": "code",
        "outputId": "9326b5b5-c4b9-4a33-8ddb-fe58c0ad17ca",
        "colab": {
          "base_uri": "https://localhost:8080/",
          "height": 73
        }
      },
      "source": [
        "tree_3 = DecisionTreeClassifier(criterion='gini', max_depth=3)\n",
        "tree_5 = DecisionTreeClassifier(criterion='gini', max_depth=5)\n",
        "tree_7 = DecisionTreeClassifier(criterion='gini', max_depth=7)\n",
        "\n",
        "ini = time.time()\n",
        "tree_3.fit(x_train, y_train)\n",
        "fin = time.time()\n",
        "print(\"3 depth tree time: \", fin - ini)\n",
        "ini = time.time()\n",
        "tree_5.fit(x_train, y_train)\n",
        "fin = time.time()\n",
        "print(\"5 depth tree time: \", fin - ini)\n",
        "ini = time.time()\n",
        "tree_7.fit(x_train, y_train)\n",
        "fin = time.time()\n",
        "print(\"7 depth tree time: \", fin - ini)"
      ],
      "execution_count": 0,
      "outputs": [
        {
          "output_type": "stream",
          "text": [
            "3 depth tree time:  3.6931796073913574\n",
            "5 depth tree time:  5.7682836055755615\n",
            "7 depth tree time:  8.30238652229309\n"
          ],
          "name": "stdout"
        }
      ]
    },
    {
      "cell_type": "markdown",
      "metadata": {
        "id": "bJzfKJOiiY8_",
        "colab_type": "text"
      },
      "source": [
        "Ahora comparemos el desempeño de cada uno de los modelos de árbol con la lineal."
      ]
    },
    {
      "cell_type": "code",
      "metadata": {
        "id": "I5JdUksMFk0R",
        "colab_type": "code",
        "outputId": "cfa1f74b-a1cc-49c5-9dd1-a8ec8cb1e178",
        "colab": {
          "base_uri": "https://localhost:8080/",
          "height": 186
        }
      },
      "source": [
        "print(\"Training score logistic: \", log_reg.score(x_train, y_train))\n",
        "print(\"Training score 3 tree: \", tree_3.score(x_train, y_train))\n",
        "print(\"Training score 5 tree: \", tree_5.score(x_train, y_train))\n",
        "print(\"Training score 7 tree: \", tree_7.score(x_train, y_train))\n",
        "print(\"-------------------------------------\")\n",
        "print(\"Validation score logistic: \", log_reg.score(x_val, y_val))\n",
        "print(\"Validation score 3 tree: \", tree_3.score(x_val, y_val))\n",
        "print(\"Validation score 5 tree: \", tree_5.score(x_val, y_val))\n",
        "print(\"Validation score 7 tree: \", tree_7.score(x_val, y_val))"
      ],
      "execution_count": 0,
      "outputs": [
        {
          "output_type": "stream",
          "text": [
            "Training score logistic:  0.9992012113498212\n",
            "Training score 3 tree:  0.9993416577058966\n",
            "Training score 5 tree:  0.9995654940858917\n",
            "Training score 7 tree:  0.9996752178015756\n",
            "-------------------------------------\n",
            "Validation score logistic:  0.9992275552122467\n",
            "Validation score 3 tree:  0.9992977774656788\n",
            "Validation score 5 tree:  0.9994733330992591\n",
            "Validation score 7 tree:  0.9995435553526912\n"
          ],
          "name": "stdout"
        }
      ]
    },
    {
      "cell_type": "markdown",
      "metadata": {
        "id": "GfjDO63IiCYi",
        "colab_type": "text"
      },
      "source": [
        "Es el momento de las métricas, y aquí utilizaremos matrices de confusión como también la curva ROC"
      ]
    },
    {
      "cell_type": "code",
      "metadata": {
        "id": "9VNxIjiciIca",
        "colab_type": "code",
        "outputId": "049a5d6e-2ed8-4617-919d-8640d4acf7ef",
        "colab": {
          "base_uri": "https://localhost:8080/",
          "height": 607
        }
      },
      "source": [
        "plt.figure(figsize=(10,10))\n",
        "plt.subplot(2, 2, 1)\n",
        "plt.title(\"3 tree\")\n",
        "createMatrix(y_val, tree_3.predict(x_val))\n",
        "plt.subplot(2, 2, 2)\n",
        "plt.title(\"5 tree\")\n",
        "createMatrix(y_val, tree_5.predict(x_val))\n",
        "plt.subplot(2, 2, 3)\n",
        "plt.title(\"7 tree\")\n",
        "createMatrix(y_val, tree_7.predict(x_val))\n",
        "plt.subplot(2, 2, 4)\n",
        "plt.title(\"Logistic Regression\")\n",
        "createMatrix(y_val, log_reg.predict(x_val))"
      ],
      "execution_count": 0,
      "outputs": [
        {
          "output_type": "display_data",
          "data": {
            "image/png": "[encoded data removed]",
            "text/plain": [
              "<Figure size 720x720 with 8 Axes>"
            ]
          },
          "metadata": {
            "tags": []
          }
        }
      ]
    },
    {
      "cell_type": "markdown",
      "metadata": {
        "id": "qhB0Me32j2hQ",
        "colab_type": "text"
      },
      "source": [
        "Lo interesante que podemos ver en los árboles que poseen un mejor desempeño al etiquetar correctamente los 1, es decir, un mejor verdadero positivo. El árbol de 5 hojas es el que posee una menor cantidad de falsos positivos y negativos, por lo que ahora podemos definir que el árbol esta haciendo un mejor trabajo etiquetando las muestras que son fraudes.\n",
        "\n",
        "Ahora, analizando la curva ROC, tenemos lo siguiente:"
      ]
    },
    {
      "cell_type": "code",
      "metadata": {
        "id": "FEp_HfjEkVc0",
        "colab_type": "code",
        "outputId": "429f7064-b9ae-46c9-bf63-89b8f55f5573",
        "colab": {
          "base_uri": "https://localhost:8080/",
          "height": 607
        }
      },
      "source": [
        "plt.figure(figsize=(10,10))\n",
        "plt.subplot(2, 2, 1)\n",
        "plt.title(\"3 tree\")\n",
        "constructROC(y_val, tree_3.predict_proba(x_val))\n",
        "plt.subplot(2, 2, 2)\n",
        "plt.title(\"5 tree\")\n",
        "constructROC(y_val, tree_5.predict_proba(x_val))\n",
        "plt.subplot(2, 2, 3)\n",
        "plt.title(\"7 tree\")\n",
        "constructROC(y_val, tree_7.predict_proba(x_val))\n",
        "plt.subplot(2, 2, 4)\n",
        "plt.title(\"Logistic Regression\")\n",
        "constructROC(y_val, log_reg.predict_proba(x_val))"
      ],
      "execution_count": 0,
      "outputs": [
        {
          "output_type": "display_data",
          "data": {
            "image/png": "[encoded data removed]",
            "text/plain": [
              "<Figure size 720x720 with 4 Axes>"
            ]
          },
          "metadata": {
            "tags": []
          }
        }
      ]
    },
    {
      "cell_type": "markdown",
      "metadata": {
        "id": "X_JpZwgVH50w",
        "colab_type": "text"
      },
      "source": [
        "Respecto a las curvas ROC, vemos que aumenta paulatinamente los ratios de los árboles, mientras la de regresión logística tiende a ser más constante en el transcurso. Una buena forma de ver el desempeño de estas curvas ROC es calcular el AUC (Area Under Curve) de estos modelos, y el que nos devuelva le mayor será el escogido. "
      ]
    },
    {
      "cell_type": "code",
      "metadata": {
        "id": "btIhbFYZM0A3",
        "colab_type": "code",
        "outputId": "5aaeb07a-1145-41fe-e615-2aa82e549381",
        "colab": {
          "base_uri": "https://localhost:8080/",
          "height": 92
        }
      },
      "source": [
        "probs_3 = tree_3.predict_proba(x_val)\n",
        "probs_5 = tree_5.predict_proba(x_val)\n",
        "probs_7 = tree_7.predict_proba(x_val)\n",
        "probs_log = log_reg.predict_proba(x_val)\n",
        "\n",
        "print(\"AUC score 3 tree: \", roc_auc_score(y_val, probs_3[:, 1]))\n",
        "print(\"AUC score 5 tree: \", roc_auc_score(y_val, probs_5[:, 1]))\n",
        "print(\"AUC score 7 tree: \", roc_auc_score(y_val, probs_7[:, 1]))\n",
        "print(\"AUC score logistic: \", roc_auc_score(y_val, probs_log[:, 1]))"
      ],
      "execution_count": 0,
      "outputs": [
        {
          "output_type": "stream",
          "text": [
            "AUC score 3 tree:  0.9232436432648468\n",
            "AUC score 5 tree:  0.9385810792381104\n",
            "AUC score 7 tree:  0.9158098664339117\n",
            "AUC score logistic:  0.978504028229187\n"
          ],
          "name": "stdout"
        }
      ]
    },
    {
      "cell_type": "markdown",
      "metadata": {
        "id": "HYgFtZeDNjXB",
        "colab_type": "text"
      },
      "source": [
        "Y como se puede apreciar, la regresión logística posee una mejor área bajo la curva. "
      ]
    },
    {
      "cell_type": "markdown",
      "metadata": {
        "id": "n3dp4Nl8GUov",
        "colab_type": "text"
      },
      "source": [
        "## h) Undersampling\n",
        "\n",
        "Ocupando diferentes modelos podemos mejorar un poco los verdaderos positivos, pero en caso que tengamos nuevas muestras, la ausencia de un dataset con clases balanceadas siempre será un problema, por lo que debemos generar soluciones que afecten directamente al dataset.\n",
        "\n",
        "Una de ellas es el undersampling, el cual consiste en disminuir la cantidad de muestras con la clase dominante para así tener un equilibrio entre ellas.\n",
        "\n",
        "Para esta misma tarea, generaremos una función que se encargará de esto. Esta función separará las muestras respecto a su target para luego aplicar un random choice. El random choice tomará las muestras con target 0 y devolverá una cantidad \"count_fraud_transaction\" * times, la cual haremos que la muestra 0 sea n veces más grande que la cantidad de muestras 1. Random choice devolverá muestras al azar de los índices normales. Como la idea es tener la cantidad de muestras más variada posible, debemos asignar la variable replace con False. Con replace = False, sabemos que tendremos valores únicos en la nueva variable; si es True, se puede repetir alguna muestra en el conjunto. Nuestra idea es reducir la cantidad de muestras 0 pero a la vez sea lo más variada posible. Luego de esto devolverá los conjuntos de entrenamiento y validación que correspondan."
      ]
    },
    {
      "cell_type": "code",
      "metadata": {
        "id": "UfqNDzl_GJij",
        "colab_type": "code",
        "colab": {}
      },
      "source": [
        "def undersample(df, times = 10, validation_ratio = 0.2):\n",
        "    fraud_indices = pd.np.array(df[df.Class==1].index)\n",
        "    normal_indices = pd.np.array(df[df.Class==0].index)\n",
        "\n",
        "    Count_Fraud_transaction = len(fraud_indices)\n",
        "    \n",
        "    Normal_indices_undersample = pd.np.array(\n",
        "    pd.np.random.choice(normal_indices,\n",
        "        Count_Fraud_transaction * times,\n",
        "        replace = False)\n",
        "    )\n",
        "    \n",
        "    undersample_data = pd.np.concatenate([fraud_indices,Normal_indices_undersample])\n",
        "    undersample_data = df.iloc[undersample_data]\n",
        "    \n",
        "    x = undersample_data[undersample_data.columns[1:-2]]\n",
        "    y = undersample_data.Class\n",
        "        \n",
        "    return train_test_split(x, y, test_size = validation_ratio)"
      ],
      "execution_count": 0,
      "outputs": []
    },
    {
      "cell_type": "markdown",
      "metadata": {
        "id": "ZdburYEoGbXw",
        "colab_type": "text"
      },
      "source": [
        "## i) Entrenar con undersampling\n",
        "\n",
        "Tenemos nuestra función preparada. En esta ocasión, como los árboles mostraron un mejor desempeño que la regresión logística, solo utilizaremos estos para la comparación. Usaremos 4 valores de times diferentes y vemos como va afectando el desempeño del modelo mientras la razón entre las clases va cambiando."
      ]
    },
    {
      "cell_type": "code",
      "metadata": {
        "id": "MzhIlFVRGc7i",
        "colab_type": "code",
        "outputId": "94354268-463e-4ba2-abec-b786c61e35b1",
        "colab": {
          "base_uri": "https://localhost:8080/",
          "height": 129
        }
      },
      "source": [
        "# 1 times\n",
        "\n",
        "x1_train, x1_val, y1_train, y1_val = undersample(data, 1, 0.2)\n",
        "tree1_3 = DecisionTreeClassifier(criterion='gini', max_depth=3)\n",
        "tree1_5 = DecisionTreeClassifier(criterion='gini', max_depth=5)\n",
        "tree1_7 = DecisionTreeClassifier(criterion='gini', max_depth=7)\n",
        "\n",
        "tree1_3.fit(x1_train, y1_train)\n",
        "tree1_5.fit(x1_train, y1_train)\n",
        "tree1_7.fit(x1_train, y1_train)\n",
        "\n",
        "# 10 times\n",
        "\n",
        "x10_train, x10_val, y10_train, y10_val = undersample(data, 10, 0.2)\n",
        "tree10_3 = DecisionTreeClassifier(criterion='gini', max_depth=3)\n",
        "tree10_5 = DecisionTreeClassifier(criterion='gini', max_depth=5)\n",
        "tree10_7 = DecisionTreeClassifier(criterion='gini', max_depth=7)\n",
        "\n",
        "tree10_3.fit(x10_train, y10_train)\n",
        "tree10_5.fit(x10_train, y10_train)\n",
        "tree10_7.fit(x10_train, y10_train)\n",
        "    \n",
        "# 50 times\n",
        "\n",
        "x50_train, x50_val, y50_train, y50_val = undersample(data, 50, 0.2)\n",
        "tree50_3 = DecisionTreeClassifier(criterion='gini', max_depth=3)\n",
        "tree50_5 = DecisionTreeClassifier(criterion='gini', max_depth=5)\n",
        "tree50_7 = DecisionTreeClassifier(criterion='gini', max_depth=7)\n",
        "\n",
        "tree50_3.fit(x50_train, y50_train)\n",
        "tree50_5.fit(x50_train, y50_train)\n",
        "tree50_7.fit(x50_train, y50_train)\n",
        "    \n",
        "# 100 times\n",
        "\n",
        "x100_train, x100_val, y100_train, y100_val = undersample(data, 100, 0.2)\n",
        "tree100_3 = DecisionTreeClassifier(criterion='gini', max_depth=3)\n",
        "tree100_5 = DecisionTreeClassifier(criterion='gini', max_depth=5)\n",
        "tree100_7 = DecisionTreeClassifier(criterion='gini', max_depth=7)\n",
        "\n",
        "tree100_3.fit(x100_train, y100_train)\n",
        "tree100_5.fit(x100_train, y100_train)\n",
        "tree100_7.fit(x100_train, y100_train)"
      ],
      "execution_count": 0,
      "outputs": [
        {
          "output_type": "execute_result",
          "data": {
            "text/plain": [
              "DecisionTreeClassifier(class_weight=None, criterion='gini', max_depth=7,\n",
              "                       max_features=None, max_leaf_nodes=None,\n",
              "                       min_impurity_decrease=0.0, min_impurity_split=None,\n",
              "                       min_samples_leaf=1, min_samples_split=2,\n",
              "                       min_weight_fraction_leaf=0.0, presort=False,\n",
              "                       random_state=None, splitter='best')"
            ]
          },
          "metadata": {
            "tags": []
          },
          "execution_count": 23
        }
      ]
    },
    {
      "cell_type": "code",
      "metadata": {
        "id": "4Fv8tY6ru-pe",
        "colab_type": "code",
        "outputId": "0aa604c7-ec7f-45f8-cd39-4df092f1c54a",
        "colab": {
          "base_uri": "https://localhost:8080/",
          "height": 1000
        }
      },
      "source": [
        "# 1 times\n",
        "plt.figure(figsize=(20,4))\n",
        "plt.suptitle(\"1 time\")\n",
        "plt.subplot(1, 3, 1)\n",
        "plt.title(\"3 tree\")\n",
        "createMatrix(y1_val, tree1_3.predict(x1_val))\n",
        "plt.subplot(1, 3, 2)\n",
        "plt.title(\"5 tree\")\n",
        "createMatrix(y1_val, tree1_5.predict(x1_val))\n",
        "plt.subplot(1, 3, 3)\n",
        "plt.title(\"7 tree\")\n",
        "createMatrix(y1_val, tree1_7.predict(x1_val))\n",
        "\n",
        "# 10 times\n",
        "plt.figure(figsize=(20,4))\n",
        "plt.suptitle(\"10 times\")\n",
        "plt.subplot(1, 3, 1)\n",
        "plt.title(\"3 tree\")\n",
        "createMatrix(y10_val, tree10_3.predict(x10_val))\n",
        "plt.subplot(1, 3, 2)\n",
        "plt.title(\"5 tree\")\n",
        "createMatrix(y10_val, tree10_5.predict(x10_val))\n",
        "plt.subplot(1, 3, 3)\n",
        "plt.title(\"7 tree\")\n",
        "createMatrix(y10_val, tree10_7.predict(x10_val))\n",
        "\n",
        "# 50 times\n",
        "plt.figure(figsize=(20,4))\n",
        "plt.suptitle(\"50 times\")\n",
        "plt.subplot(1, 3, 1)\n",
        "plt.title(\"3 tree\")\n",
        "createMatrix(y50_val, tree50_3.predict(x50_val))\n",
        "plt.subplot(1, 3, 2)\n",
        "plt.title(\"5 tree\")\n",
        "createMatrix(y50_val, tree50_5.predict(x50_val))\n",
        "plt.subplot(1, 3, 3)\n",
        "plt.title(\"7 tree\")\n",
        "createMatrix(y50_val, tree50_7.predict(x50_val))\n",
        "\n",
        "# 100 times\n",
        "plt.figure(figsize=(20,4))\n",
        "plt.suptitle(\"100 times\")\n",
        "plt.subplot(1, 3, 1)\n",
        "plt.title(\"3 tree\")\n",
        "createMatrix(y100_val, tree100_3.predict(x100_val))\n",
        "plt.subplot(1, 3, 2)\n",
        "plt.title(\"5 tree\")\n",
        "createMatrix(y100_val, tree100_5.predict(x100_val))\n",
        "plt.subplot(1, 3, 3)\n",
        "plt.title(\"7 tree\")\n",
        "createMatrix(y100_val, tree100_7.predict(x100_val))"
      ],
      "execution_count": 0,
      "outputs": [
        {
          "output_type": "display_data",
          "data": {
            "image/png": "[encoded data removed]",
            "text/plain": [
              "<Figure size 1440x288 with 6 Axes>"
            ]
          },
          "metadata": {
            "tags": []
          }
        },
        {
          "output_type": "display_data",
          "data": {
            "image/png": "[encoded data removed]",
            "text/plain": [
              "<Figure size 1440x288 with 6 Axes>"
            ]
          },
          "metadata": {
            "tags": []
          }
        },
        {
          "output_type": "display_data",
          "data": {
            "image/png": "[encoded data removed]",
            "text/plain": [
              "<Figure size 1440x288 with 6 Axes>"
            ]
          },
          "metadata": {
            "tags": []
          }
        },
        {
          "output_type": "display_data",
          "data": {
            "image/png": "[encoded data removed]",
            "text/plain": [
              "<Figure size 1440x288 with 6 Axes>"
            ]
          },
          "metadata": {
            "tags": []
          }
        }
      ]
    },
    {
      "cell_type": "markdown",
      "metadata": {
        "id": "p4R0e_sT2cgV",
        "colab_type": "text"
      },
      "source": [
        "Podemos observar que mientras mas equiparamos la cantidad de cada clase obtiene un mejor desempeño en los verdaderos positivos. También mientras aumentamos, disminuye el falso positivo y es claramente al aumentar la cantidad de muestras 0, el modelo obtiene más información respecto a esa clase, por lo que etiquetará mejor. Los falsos negativos también disminuyen mucho cuando los tamaños son parecidos. Respecto a la curva ROC..."
      ]
    },
    {
      "cell_type": "code",
      "metadata": {
        "id": "pX0yyP5u3Vln",
        "colab_type": "code",
        "outputId": "75c5e160-0e99-467f-f8b7-80af9d7858e1",
        "colab": {
          "base_uri": "https://localhost:8080/",
          "height": 1000
        }
      },
      "source": [
        "# 1 time\n",
        "plt.figure(figsize=(20,4))\n",
        "plt.suptitle(\"1 time\")\n",
        "plt.subplot(1, 3, 1)\n",
        "plt.title(\"3 tree\")\n",
        "constructROC(y1_val, tree1_3.predict_proba(x1_val))\n",
        "plt.subplot(1, 3, 2)\n",
        "plt.title(\"5 tree\")\n",
        "constructROC(y1_val, tree1_5.predict_proba(x1_val))\n",
        "plt.subplot(1, 3, 3)\n",
        "plt.title(\"7 tree\")\n",
        "constructROC(y1_val, tree1_7.predict_proba(x1_val))\n",
        "\n",
        "# 10 time\n",
        "\n",
        "plt.figure(figsize=(20,4))\n",
        "plt.suptitle(\"10 time\")\n",
        "plt.subplot(1, 3, 1)\n",
        "plt.title(\"3 tree\")\n",
        "constructROC(y10_val, tree10_3.predict_proba(x10_val))\n",
        "plt.subplot(1, 3, 2)\n",
        "plt.title(\"5 tree\")\n",
        "constructROC(y10_val, tree10_5.predict_proba(x10_val))\n",
        "plt.subplot(1, 3, 3)\n",
        "plt.title(\"7 tree\")\n",
        "constructROC(y10_val, tree10_7.predict_proba(x10_val))\n",
        "\n",
        "# 50 time\n",
        "\n",
        "plt.figure(figsize=(20,4))\n",
        "plt.suptitle(\"1 time\")\n",
        "plt.subplot(1, 3, 1)\n",
        "plt.title(\"3 tree\")\n",
        "constructROC(y50_val, tree50_3.predict_proba(x50_val))\n",
        "plt.subplot(1, 3, 2)\n",
        "plt.title(\"5 tree\")\n",
        "constructROC(y50_val, tree50_5.predict_proba(x50_val))\n",
        "plt.subplot(1, 3, 3)\n",
        "plt.title(\"7 tree\")\n",
        "constructROC(y50_val, tree50_7.predict_proba(x50_val))\n",
        "\n",
        "# 100 time\n",
        "\n",
        "plt.figure(figsize=(20,4))\n",
        "plt.suptitle(\"1 time\")\n",
        "plt.subplot(1, 3, 1)\n",
        "plt.title(\"3 tree\")\n",
        "constructROC(y100_val, tree100_3.predict_proba(x100_val))\n",
        "plt.subplot(1, 3, 2)\n",
        "plt.title(\"5 tree\")\n",
        "constructROC(y100_val, tree100_5.predict_proba(x100_val))\n",
        "plt.subplot(1, 3, 3)\n",
        "plt.title(\"7 tree\")\n",
        "constructROC(y100_val, tree100_7.predict_proba(x100_val))"
      ],
      "execution_count": 0,
      "outputs": [
        {
          "output_type": "display_data",
          "data": {
            "image/png": "[encoded data removed]",
            "text/plain": [
              "<Figure size 1440x288 with 3 Axes>"
            ]
          },
          "metadata": {
            "tags": []
          }
        },
        {
          "output_type": "display_data",
          "data": {
            "image/png": "[encoded data removed]",
            "text/plain": [
              "<Figure size 1440x288 with 3 Axes>"
            ]
          },
          "metadata": {
            "tags": []
          }
        },
        {
          "output_type": "display_data",
          "data": {
            "image/png": "[encoded data removed]",
            "text/plain": [
              "<Figure size 1440x288 with 3 Axes>"
            ]
          },
          "metadata": {
            "tags": []
          }
        },
        {
          "output_type": "display_data",
          "data": {
            "image/png": "[encoded data removed]",
            "text/plain": [
              "<Figure size 1440x288 with 3 Axes>"
            ]
          },
          "metadata": {
            "tags": []
          }
        }
      ]
    },
    {
      "cell_type": "markdown",
      "metadata": {
        "id": "SLh0cZU7O6Yu",
        "colab_type": "text"
      },
      "source": [
        "Finalmente, probaremos con los AUC para analizar el mejor modelo."
      ]
    },
    {
      "cell_type": "code",
      "metadata": {
        "id": "Ty98samVO-bc",
        "colab_type": "code",
        "outputId": "01412252-478f-4d8c-fbe0-0964dbf93337",
        "colab": {
          "base_uri": "https://localhost:8080/",
          "height": 317
        }
      },
      "source": [
        "probs1_3 = tree1_3.predict_proba(x1_val)\n",
        "probs1_5 = tree1_5.predict_proba(x1_val)\n",
        "probs1_7 = tree1_7.predict_proba(x1_val)\n",
        "\n",
        "print(\"---- 1 times ----\")\n",
        "print(\"AUC score 3 tree: \", roc_auc_score(y1_val, probs1_3[:, 1]))\n",
        "print(\"AUC score 5 tree: \", roc_auc_score(y1_val, probs1_5[:, 1]))\n",
        "print(\"AUC score 7 tree: \", roc_auc_score(y1_val, probs1_7[:, 1]))\n",
        "\n",
        "probs10_3 = tree10_3.predict_proba(x10_val)\n",
        "probs10_5 = tree10_5.predict_proba(x10_val)\n",
        "probs10_7 = tree10_7.predict_proba(x10_val)\n",
        "\n",
        "print(\"---- 10 times ----\")\n",
        "print(\"AUC score 3 tree: \", roc_auc_score(y10_val, probs10_3[:, 1]))\n",
        "print(\"AUC score 5 tree: \", roc_auc_score(y10_val, probs10_5[:, 1]))\n",
        "print(\"AUC score 7 tree: \", roc_auc_score(y10_val, probs10_7[:, 1]))\n",
        "\n",
        "probs50_3 = tree50_3.predict_proba(x50_val)\n",
        "probs50_5 = tree50_5.predict_proba(x50_val)\n",
        "probs50_7 = tree50_7.predict_proba(x50_val)\n",
        "\n",
        "print(\"---- 50 times ----\")\n",
        "print(\"AUC score 3 tree: \", roc_auc_score(y50_val, probs50_3[:, 1]))\n",
        "print(\"AUC score 5 tree: \", roc_auc_score(y50_val, probs50_5[:, 1]))\n",
        "print(\"AUC score 7 tree: \", roc_auc_score(y50_val, probs50_7[:, 1]))\n",
        "\n",
        "probs100_3 = tree100_3.predict_proba(x100_val)\n",
        "probs100_5 = tree100_5.predict_proba(x100_val)\n",
        "probs100_7 = tree100_7.predict_proba(x100_val)\n",
        "\n",
        "print(\"---- 100 times ----\")\n",
        "print(\"AUC score 3 tree: \", roc_auc_score(y100_val, probs100_3[:, 1]))\n",
        "print(\"AUC score 5 tree: \", roc_auc_score(y100_val, probs100_5[:, 1]))\n",
        "print(\"AUC score 7 tree: \", roc_auc_score(y100_val, probs100_7[:, 1]))"
      ],
      "execution_count": 0,
      "outputs": [
        {
          "output_type": "stream",
          "text": [
            "---- 1 times ----\n",
            "AUC score 3 tree:  0.958041237113402\n",
            "AUC score 5 tree:  0.953659793814433\n",
            "AUC score 7 tree:  0.9218556701030929\n",
            "---- 10 times ----\n",
            "AUC score 3 tree:  0.8928105252253186\n",
            "AUC score 5 tree:  0.893395835491557\n",
            "AUC score 7 tree:  0.8852947270278669\n",
            "---- 50 times ----\n",
            "AUC score 3 tree:  0.9111229602545872\n",
            "AUC score 5 tree:  0.9224336024781636\n",
            "AUC score 7 tree:  0.8876500186200827\n",
            "---- 100 times ----\n",
            "AUC score 3 tree:  0.8794902937290374\n",
            "AUC score 5 tree:  0.8853857099298709\n",
            "AUC score 7 tree:  0.8859045634718976\n"
          ],
          "name": "stdout"
        }
      ]
    },
    {
      "cell_type": "markdown",
      "metadata": {
        "id": "OQ4HC2h0QEYi",
        "colab_type": "text"
      },
      "source": [
        "Podemos apreciar que el mejor desempeño tiene la de 1 time, y tiene sentido, debido a que posee la muestra más equitativa entre las demás. Aún así, la que es 50 veces presenta un buen score."
      ]
    },
    {
      "cell_type": "markdown",
      "metadata": {
        "id": "JP5AR5KeGekA",
        "colab_type": "text"
      },
      "source": [
        "## j) Oversampling\n",
        "\n",
        "Otra técnica para equiparar el dataset es el oversampling, aunque es más complicado debido a que implica crear nuevos datos sintéticos, y claramente el criterio para crearlos no suele ser tan fácil de establecer. Existen varios métodos, y aquí analizaremos dos de ellos que se llaman SMOTE and ADASYN.\n",
        "\n",
        "SMOTE: Este es un algoritmo que utilizara KNN. Aplica k nearest neighbors a las muestras con menos presencia a las otras muestras de su misma clase. Cuando encuentra estos vecinos, traza una línea desde la muestra hacia los vecinos y crea nuevas muestras que se sitúan en aquella línea. Por lo tanto genera datos sintéticos considerando los datos de la muestra deficiente y comparándolo con su entorno.\n",
        "\n",
        "ADASYN: Este algoritmo es una mejora de SMOTE, y lo que busca es evitar cierta correlación entre los datos reales y los generados, debido a que como se realizan con un KNN y la distancia entre la muestra y sus vecinos, la correlación puede estar muy presente en los datos. Por lo tanto, a las muestras les agrega cierto valor random aplicandole cierta varianza y así reducir la correlación.\n",
        "\n",
        "En esta ocasión utilizaremos ADASYN ya que nos interesa que los datos no presenten cierta correlación entre ellos, principalmente porque haría a estos datos linealmente dependientes en caso de SMOTE (ya que la nueva muestra se genera en la misma línea entre un punto y su vecino) lo que nos permite ingresar cierto ruido a la muestra y así el modelo se adapte mejor, ya que probablemente cuando se ingresen nuevos datos en el futuro, las transacciones fraudulentas también pueden representar cierto ruido en comparación con las muestras que ya poseemos.\n",
        "\n",
        "Para esta ocasión utilizaremos los parámetros por defecto, pero es igualmente analizar cual es la implicancia de ellos en el algoritmo:\n",
        "\n",
        "\n",
        "*   sampling_strategy: Es un parámetro bastante complejo, ya que dependiendo del tipo de variable que se le asigne realiza cierta acción, además que si es un string, por ejemplo, puede ser muchos valores distintos. Pero a grandes rasgos, implica la estrategia para re-ordenar los datos después de la generación.\n",
        "*   random_state: Define el estado aleatorio del algoritmo, principalmente generado por una semilla. Se puede definir una para que siempre genere los mismos números o dejarla como None para que la semilla de numpy realize el trabajo.\n",
        "*   n_neighbors: Define la cantidad de vecinos que se comparará por cada muestra. \n",
        "*   n_jobs: La cantidad de hilos que se usarán en el algoritmo.\n",
        "\n",
        "Generaremos un nuevo dataset con esta muestra y separaremos en training y validación. Luego, probaremos con los 3 árboles que definimos anteriormente y aplicaremos las mismas métricas.\n"
      ]
    },
    {
      "cell_type": "code",
      "metadata": {
        "id": "LnTkEV-BGf5i",
        "colab_type": "code",
        "colab": {}
      },
      "source": [
        "ada = ADASYN()\n",
        "x_tr_r, y_tr_r  = ada.fit_resample(x_train,y_train)"
      ],
      "execution_count": 0,
      "outputs": []
    },
    {
      "cell_type": "code",
      "metadata": {
        "id": "nu4D67Tk_9ol",
        "colab_type": "code",
        "outputId": "e04d0fe5-d551-4d8c-baf8-832eb1a99c45",
        "colab": {
          "base_uri": "https://localhost:8080/",
          "height": 129
        }
      },
      "source": [
        "tree_over_3 = DecisionTreeClassifier(criterion='gini', max_depth=3)\n",
        "tree_over_5 = DecisionTreeClassifier(criterion='gini', max_depth=5)\n",
        "tree_over_7 = DecisionTreeClassifier(criterion='gini', max_depth=7)\n",
        "\n",
        "tree_over_3.fit(x_tr_r, y_tr_r)\n",
        "tree_over_5.fit(x_tr_r, y_tr_r)\n",
        "tree_over_7.fit(x_tr_r, y_tr_r)"
      ],
      "execution_count": 13,
      "outputs": [
        {
          "output_type": "execute_result",
          "data": {
            "text/plain": [
              "DecisionTreeClassifier(class_weight=None, criterion='gini', max_depth=7,\n",
              "                       max_features=None, max_leaf_nodes=None,\n",
              "                       min_impurity_decrease=0.0, min_impurity_split=None,\n",
              "                       min_samples_leaf=1, min_samples_split=2,\n",
              "                       min_weight_fraction_leaf=0.0, presort=False,\n",
              "                       random_state=None, splitter='best')"
            ]
          },
          "metadata": {
            "tags": []
          },
          "execution_count": 13
        }
      ]
    },
    {
      "cell_type": "markdown",
      "metadata": {
        "id": "YJOrfY-iAHgo",
        "colab_type": "text"
      },
      "source": [
        "Y ahora veremos las métricas..."
      ]
    },
    {
      "cell_type": "code",
      "metadata": {
        "id": "AvbYR6AhAJzp",
        "colab_type": "code",
        "outputId": "1fbaf4d2-ce64-4eb9-bd85-c50132e88806",
        "colab": {
          "base_uri": "https://localhost:8080/",
          "height": 281
        }
      },
      "source": [
        "plt.figure(figsize=(20,4))\n",
        "plt.subplot(1, 3, 1)\n",
        "plt.title(\"3 tree\")\n",
        "createMatrix(y_val, tree_over_3.predict(x_val))\n",
        "plt.subplot(1, 3, 2)\n",
        "plt.title(\"5 tree\")\n",
        "createMatrix(y_val, tree_over_5.predict(x_val))\n",
        "plt.subplot(1, 3, 3)\n",
        "plt.title(\"7 tree\")\n",
        "createMatrix(y_val, tree_over_7.predict(x_val))"
      ],
      "execution_count": 15,
      "outputs": [
        {
          "output_type": "display_data",
          "data": {
            "image/png": "[encoded data removed]",
            "text/plain": [
              "<Figure size 1440x288 with 6 Axes>"
            ]
          },
          "metadata": {
            "tags": []
          }
        }
      ]
    },
    {
      "cell_type": "markdown",
      "metadata": {
        "id": "jCYJh28nAjpk",
        "colab_type": "text"
      },
      "source": [
        "Podemos apreciar que incluso los verdaderos positivos superaron a los verdaderos negativos. Aún así, los falsos aumentaron considerablemente en el mismo nivel de magnitud, lo que nos debería dar un score más bajo. De hecho:"
      ]
    },
    {
      "cell_type": "code",
      "metadata": {
        "id": "7J_rGuGkAumM",
        "colab_type": "code",
        "outputId": "96eb3b46-96dc-453e-9f93-51ee9b627326",
        "colab": {
          "base_uri": "https://localhost:8080/",
          "height": 73
        }
      },
      "source": [
        "print(tree_over_3.score(x_val, y_val))\n",
        "print(tree_over_5.score(x_val, y_val))\n",
        "print(tree_over_7.score(x_val, y_val))"
      ],
      "execution_count": 16,
      "outputs": [
        {
          "output_type": "stream",
          "text": [
            "0.8932797303465468\n",
            "0.8806221691654085\n",
            "0.932042414241073\n"
          ],
          "name": "stdout"
        }
      ]
    },
    {
      "cell_type": "markdown",
      "metadata": {
        "id": "CjBMR-H8BAB5",
        "colab_type": "text"
      },
      "source": [
        "Aún así, obtenemos un gran score, incluso el árbol con menos nodos con un score que tiende menos al overfitting. Analizando las curvas ROC."
      ]
    },
    {
      "cell_type": "code",
      "metadata": {
        "id": "o9IV64d8BIvj",
        "colab_type": "code",
        "outputId": "4e056c40-fd43-4d7e-9379-fcb85a778433",
        "colab": {
          "base_uri": "https://localhost:8080/",
          "height": 281
        }
      },
      "source": [
        "plt.figure(figsize=(20,4))\n",
        "plt.subplot(1, 3, 1)\n",
        "plt.title(\"3 tree\")\n",
        "constructROC(y_val, tree_over_3.predict_proba(x_val))\n",
        "plt.subplot(1, 3, 2)\n",
        "plt.title(\"5 tree\")\n",
        "constructROC(y_val, tree_over_5.predict_proba(x_val))\n",
        "plt.subplot(1, 3, 3)\n",
        "plt.title(\"7 tree\")\n",
        "constructROC(y_val, tree_over_7.predict_proba(x_val))\n"
      ],
      "execution_count": 17,
      "outputs": [
        {
          "output_type": "display_data",
          "data": {
            "image/png": "[encoded data removed]",
            "text/plain": [
              "<Figure size 1440x288 with 3 Axes>"
            ]
          },
          "metadata": {
            "tags": []
          }
        }
      ]
    },
    {
      "cell_type": "markdown",
      "metadata": {
        "id": "yMUX0BZzQuMQ",
        "colab_type": "text"
      },
      "source": [
        "Podemos apreciar a simple vista que el modelo de 7 nodos posee una buena gráfica. Analizando las áres bajo la curva:"
      ]
    },
    {
      "cell_type": "code",
      "metadata": {
        "id": "N4OOJ2ZgQzJj",
        "colab_type": "code",
        "outputId": "d27f0293-0bcb-465a-9ecb-e15bdb0c4226",
        "colab": {
          "base_uri": "https://localhost:8080/",
          "height": 92
        }
      },
      "source": [
        "probs_over_3 = tree_over_3.predict_proba(x_val)\n",
        "probs_over_5 = tree_over_5.predict_proba(x_val)\n",
        "probs_over_7 = tree_over_7.predict_proba(x_val)\n",
        "\n",
        "print(\"---- 1 times ----\")\n",
        "print(\"AUC score 3 tree: \", roc_auc_score(y_val, probs_over_3[:, 1]))\n",
        "print(\"AUC score 5 tree: \", roc_auc_score(y_val, probs_over_5[:, 1]))\n",
        "print(\"AUC score 7 tree: \", roc_auc_score(y_val, probs_over_7[:, 1]))"
      ],
      "execution_count": 18,
      "outputs": [
        {
          "output_type": "stream",
          "text": [
            "---- 1 times ----\n",
            "AUC score 3 tree:  0.9452420972386892\n",
            "AUC score 5 tree:  0.9636808433837527\n",
            "AUC score 7 tree:  0.9678499470917529\n"
          ],
          "name": "stdout"
        }
      ]
    },
    {
      "cell_type": "markdown",
      "metadata": {
        "id": "e-mzSljcRSCm",
        "colab_type": "text"
      },
      "source": [
        "Como habíamos predicho, el área bajo la curva del árbol de 7 nodos presenta el mayor valor. También se entiende ya que obtiene el mejor desempeño para los verdaderos positivos y negativos."
      ]
    },
    {
      "cell_type": "markdown",
      "metadata": {
        "id": "g0Ms8WZvGnT6",
        "colab_type": "text"
      },
      "source": [
        "## k) Redes neuronales Feed Forward\n",
        "\n",
        "Por último, nos queda probar el modelo del momento: redes neuronales. Aunque las redes neuronales en la actualidad obtienen un gran desempeño, son subseptibles al desbalanceo de clases y también a la poca cantidad de datos. Pero estos dos factores ya los hemos resuelto en las etapas anteriores, por lo que no hay problemas para implementarlo. Primero crearemos una capa densa con 256 neuronas con una función de activación ReLU y finalizando con una capa de salida con una neurona y función de activación sigmoidal. \n",
        "\n",
        "Debemos definir los parámetros para el entrenamiento, definiendo un optimizador con gradiente descendente estocástico, una función de pérdida de crossentropy binario y, por ahora, nos interesa el accuracy del modelo. Finalmente lo entrenaremos con los datos obtenidos con el oversampling con 20 épocas (o iteraciones), utilizando un conjunto de validación para ir analizando el avance del algoritmo, para así en caso de estancamiento del score de validación podamos detenerlo de forma prematura."
      ]
    },
    {
      "cell_type": "code",
      "metadata": {
        "id": "T1u16VtdGq7U",
        "colab_type": "code",
        "outputId": "9b80d624-aeae-4de4-fe0e-e608cb81fbdd",
        "colab": {
          "base_uri": "https://localhost:8080/",
          "height": 1000
        }
      },
      "source": [
        "model = Sequential()\n",
        "\n",
        "model.add(Dense(256,activation='relu'))\n",
        "model.add(Dense(1, activation='sigmoid'))\n",
        "model.compile(optimizer='sgd',\n",
        "             loss='binary_crossentropy',\n",
        "             metrics=['accuracy'])\n",
        "ini = time.time()\n",
        "history = model.fit(x_tr_r,y_tr_r, epochs=20, validation_data=(x_val,y_val))\n",
        "fin = time.time()\n",
        "print(\"Elapsed time: \", fin - ini, \"[s]\")"
      ],
      "execution_count": 20,
      "outputs": [
        {
          "output_type": "stream",
          "text": [
            "WARNING:tensorflow:From /usr/local/lib/python3.6/dist-packages/keras/backend/tensorflow_backend.py:541: The name tf.placeholder is deprecated. Please use tf.compat.v1.placeholder instead.\n",
            "\n",
            "WARNING:tensorflow:From /usr/local/lib/python3.6/dist-packages/keras/backend/tensorflow_backend.py:4432: The name tf.random_uniform is deprecated. Please use tf.random.uniform instead.\n",
            "\n",
            "WARNING:tensorflow:From /usr/local/lib/python3.6/dist-packages/keras/backend/tensorflow_backend.py:3657: The name tf.log is deprecated. Please use tf.math.log instead.\n",
            "\n",
            "WARNING:tensorflow:From /usr/local/lib/python3.6/dist-packages/tensorflow/python/ops/nn_impl.py:180: add_dispatch_support.<locals>.wrapper (from tensorflow.python.ops.array_ops) is deprecated and will be removed in a future version.\n",
            "Instructions for updating:\n",
            "Use tf.where in 2.0, which has the same broadcast rule as np.where\n",
            "WARNING:tensorflow:From /usr/local/lib/python3.6/dist-packages/keras/backend/tensorflow_backend.py:1033: The name tf.assign_add is deprecated. Please use tf.compat.v1.assign_add instead.\n",
            "\n",
            "Train on 454895 samples, validate on 56962 samples\n",
            "Epoch 1/20\n",
            "454895/454895 [==============================] - 18s 39us/step - loss: 0.1293 - acc: 0.9632 - val_loss: 0.0857 - val_acc: 0.9706\n",
            "Epoch 2/20\n",
            "454895/454895 [==============================] - 17s 37us/step - loss: 0.0494 - acc: 0.9891 - val_loss: 0.0529 - val_acc: 0.9808\n",
            "Epoch 3/20\n",
            "454895/454895 [==============================] - 17s 37us/step - loss: 0.0324 - acc: 0.9927 - val_loss: 0.0394 - val_acc: 0.9863\n",
            "Epoch 4/20\n",
            "454895/454895 [==============================] - 17s 38us/step - loss: 0.0244 - acc: 0.9946 - val_loss: 0.0315 - val_acc: 0.9898\n",
            "Epoch 5/20\n",
            "454895/454895 [==============================] - 17s 37us/step - loss: 0.0196 - acc: 0.9957 - val_loss: 0.0276 - val_acc: 0.9916\n",
            "Epoch 6/20\n",
            "454895/454895 [==============================] - 17s 38us/step - loss: 0.0165 - acc: 0.9964 - val_loss: 0.0254 - val_acc: 0.9922\n",
            "Epoch 7/20\n",
            "454895/454895 [==============================] - 17s 38us/step - loss: 0.0142 - acc: 0.9969 - val_loss: 0.0236 - val_acc: 0.9931\n",
            "Epoch 8/20\n",
            "454895/454895 [==============================] - 17s 38us/step - loss: 0.0126 - acc: 0.9973 - val_loss: 0.0207 - val_acc: 0.9941\n",
            "Epoch 9/20\n",
            "454895/454895 [==============================] - 17s 37us/step - loss: 0.0113 - acc: 0.9976 - val_loss: 0.0194 - val_acc: 0.9948\n",
            "Epoch 10/20\n",
            "454895/454895 [==============================] - 18s 39us/step - loss: 0.0103 - acc: 0.9978 - val_loss: 0.0185 - val_acc: 0.9953\n",
            "Epoch 11/20\n",
            "454895/454895 [==============================] - 17s 38us/step - loss: 0.0094 - acc: 0.9981 - val_loss: 0.0179 - val_acc: 0.9957\n",
            "Epoch 12/20\n",
            "454895/454895 [==============================] - 18s 40us/step - loss: 0.0087 - acc: 0.9982 - val_loss: 0.0166 - val_acc: 0.9963\n",
            "Epoch 13/20\n",
            "454895/454895 [==============================] - 18s 39us/step - loss: 0.0082 - acc: 0.9984 - val_loss: 0.0158 - val_acc: 0.9966\n",
            "Epoch 14/20\n",
            "454895/454895 [==============================] - 17s 38us/step - loss: 0.0077 - acc: 0.9985 - val_loss: 0.0153 - val_acc: 0.9969\n",
            "Epoch 15/20\n",
            "454895/454895 [==============================] - 18s 39us/step - loss: 0.0072 - acc: 0.9986 - val_loss: 0.0147 - val_acc: 0.9971\n",
            "Epoch 16/20\n",
            "454895/454895 [==============================] - 18s 39us/step - loss: 0.0068 - acc: 0.9987 - val_loss: 0.0146 - val_acc: 0.9971\n",
            "Epoch 17/20\n",
            "454895/454895 [==============================] - 18s 39us/step - loss: 0.0065 - acc: 0.9988 - val_loss: 0.0132 - val_acc: 0.9975\n",
            "Epoch 18/20\n",
            "454895/454895 [==============================] - 18s 39us/step - loss: 0.0062 - acc: 0.9988 - val_loss: 0.0140 - val_acc: 0.9973\n",
            "Epoch 19/20\n",
            "454895/454895 [==============================] - 17s 38us/step - loss: 0.0060 - acc: 0.9989 - val_loss: 0.0145 - val_acc: 0.9972\n",
            "Epoch 20/20\n",
            "454895/454895 [==============================] - 17s 38us/step - loss: 0.0057 - acc: 0.9990 - val_loss: 0.0142 - val_acc: 0.9974\n",
            "Elapsed time:  347.8983566761017 [s]\n"
          ],
          "name": "stdout"
        }
      ]
    },
    {
      "cell_type": "markdown",
      "metadata": {
        "id": "nvrvZO0gTnoy",
        "colab_type": "text"
      },
      "source": [
        "Tras entrenar, podemos graficar el accuracy con el error en ambos dataset, y también realizar la matriz de confusión y la curva ROC."
      ]
    },
    {
      "cell_type": "code",
      "metadata": {
        "id": "UHHS8FvrHDAH",
        "colab_type": "code",
        "outputId": "7ed595b5-8c5c-492a-8c64-54446d352ebf",
        "colab": {
          "base_uri": "https://localhost:8080/",
          "height": 409
        }
      },
      "source": [
        "plt.figure(figsize=(20,6))\n",
        "plt.title(\"Accuracy of FFNN\")\n",
        "plt.plot(range(0, 20), history.history['acc'])\n",
        "plt.plot(range(0, 20), history.history['val_acc'])\n",
        "plt.legend([\"Training\", \"Validation\"])"
      ],
      "execution_count": 21,
      "outputs": [
        {
          "output_type": "execute_result",
          "data": {
            "text/plain": [
              "<matplotlib.legend.Legend at 0x7f082c886588>"
            ]
          },
          "metadata": {
            "tags": []
          },
          "execution_count": 21
        },
        {
          "output_type": "display_data",
          "data": {
            "image/png": "[encoded data removed]",
            "text/plain": [
              "<Figure size 1440x432 with 1 Axes>"
            ]
          },
          "metadata": {
            "tags": []
          }
        }
      ]
    },
    {
      "cell_type": "markdown",
      "metadata": {
        "id": "KV2ybJpTUCIM",
        "colab_type": "text"
      },
      "source": [
        "Podemos apreciar que el accuracy aumenta casi en la misma cantidad y siempre aumenta o mantiene constante, por lo que el desempeño se ve bastante bien. Analizando la pérdida:"
      ]
    },
    {
      "cell_type": "code",
      "metadata": {
        "id": "1Iir9h6iTyFq",
        "colab_type": "code",
        "outputId": "0a2cc8c8-e10a-464b-e87f-5cd99ffeaa6c",
        "colab": {
          "base_uri": "https://localhost:8080/",
          "height": 409
        }
      },
      "source": [
        "plt.figure(figsize=(20,6))\n",
        "plt.title(\"Loss of FFNN\")\n",
        "plt.plot(range(0, 20), history.history['loss'])\n",
        "plt.plot(range(0, 20), history.history['val_loss'])\n",
        "plt.legend([\"Training\", \"Validation\"])"
      ],
      "execution_count": 22,
      "outputs": [
        {
          "output_type": "execute_result",
          "data": {
            "text/plain": [
              "<matplotlib.legend.Legend at 0x7f08279f7198>"
            ]
          },
          "metadata": {
            "tags": []
          },
          "execution_count": 22
        },
        {
          "output_type": "display_data",
          "data": {
            "image/png": "[encoded data removed]",
            "text/plain": [
              "<Figure size 1440x432 with 1 Axes>"
            ]
          },
          "metadata": {
            "tags": []
          }
        }
      ]
    },
    {
      "cell_type": "markdown",
      "metadata": {
        "id": "AYizm518Ub2x",
        "colab_type": "text"
      },
      "source": [
        "Lo que también toma bastante sentido. Ahora debemos crear las matrices y curvas ROC para poder comparar con los otros modelos."
      ]
    },
    {
      "cell_type": "code",
      "metadata": {
        "id": "W6PSggyUUagO",
        "colab_type": "code",
        "outputId": "2a263356-e82d-468a-ad8c-da80878c537e",
        "colab": {
          "base_uri": "https://localhost:8080/",
          "height": 281
        }
      },
      "source": [
        "plt.figure(figsize=(20,4))\n",
        "plt.title(\"Neural Network\")\n",
        "createMatrix(y_val, model.predict_classes(x_val))"
      ],
      "execution_count": 23,
      "outputs": [
        {
          "output_type": "display_data",
          "data": {
            "image/png": "[encoded data removed]",
            "text/plain": [
              "<Figure size 1440x288 with 2 Axes>"
            ]
          },
          "metadata": {
            "tags": []
          }
        }
      ]
    },
    {
      "cell_type": "markdown",
      "metadata": {
        "id": "nHQnKkEdWVRM",
        "colab_type": "text"
      },
      "source": [
        "Podemos apreciar que no presenta ningún falso positivo. Aún así, nuestra intención es poder reducir los falsos negativos, ya que son las muestras que corresponden ser positivas."
      ]
    },
    {
      "cell_type": "code",
      "metadata": {
        "id": "kCsCgZGAVujX",
        "colab_type": "code",
        "colab": {}
      },
      "source": [
        ""
      ],
      "execution_count": 0,
      "outputs": []
    }
  ]
}