{
  "nbformat": 4,
  "nbformat_minor": 0,
  "metadata": {
    "colab": {
      "name": "Pregunta1.ipynb",
      "version": "0.3.2",
      "provenance": [],
      "collapsed_sections": [
        "qvSIVLv5TZ-W"
      ],
      "include_colab_link": true
    },
    "kernelspec": {
      "name": "python3",
      "display_name": "Python 3"
    }
  },
  "cells": [
    {
      "cell_type": "markdown",
      "metadata": {
        "id": "view-in-github",
        "colab_type": "text"
      },
      "source": [
        "<a href=\"https://colab.research.google.com/github/rigonzal/ML-2019-1/blob/master/Tarea1/Pregunta1.ipynb\" target=\"_parent\"><img src=\"https://colab.research.google.com/assets/colab-badge.svg\" alt=\"Open In Colab\"/></a>"
      ]
    },
    {
      "metadata": {
        "id": "qvSIVLv5TZ-W",
        "colab_type": "text"
      },
      "cell_type": "markdown",
      "source": [
        "# INF-393: Máquinas de Aprendizaje\n",
        "## Tarea 1 - Pregunta 1\n",
        "### 26-04-2019\n",
        "\n",
        "\n",
        "* Rodrigo González - 201303026-2\n",
        "* Ignacio Valenzuela - 201473055-1\n",
        "\n",
        "\n",
        "# Introducción\n",
        "\n",
        "En esta primera parte de la tarea, se analizará un modelamiento por medio de regresión lineal. Los datos vendrán del registros respecto a las compras del famoso evento \"*Black Friday*\", donde el *target* inicial corresponde a predecir el valor de compra según los atributos del cliente. Es por ello que responde a ser una tarea aparentemente simple, en donde se puede analizar el como aplicar una técnica como la regresión lineal teniendo como fin la predicción del precio de compra según atributos del comprador. Cada fila del set de datos corresponde a una compra, con el *id* asociado a un cliente."
      ]
    },
    {
      "metadata": {
        "id": "0OHDci_YUBcr",
        "colab_type": "text"
      },
      "cell_type": "markdown",
      "source": [
        "# 1. Aprendizaje con regresión lineal.\n",
        "\n",
        "Primero procedemos a cargar las librerías de *Python* que serán de utilidad en nuestro trabajo:"
      ]
    },
    {
      "metadata": {
        "id": "LoykK_7jrYMG",
        "colab_type": "code",
        "outputId": "6001886b-c62f-4a32-816e-98b629b6e62e",
        "colab": {
          "base_uri": "https://localhost:8080/",
          "height": 34
        }
      },
      "cell_type": "code",
      "source": [
        "import pandas as pd\n",
        "import matplotlib.pyplot as plt\n",
        "import numpy as np\n",
        "from sklearn.preprocessing import StandardScaler\n",
        "from sklearn.model_selection import train_test_split, KFold\n",
        "from sklearn.linear_model import LinearRegression\n",
        "from google.colab import drive\n",
        "drive.mount('/content/gdrive')\n"
      ],
      "execution_count": 2,
      "outputs": [
        {
          "output_type": "stream",
          "text": [
            "Drive already mounted at /content/gdrive; to attempt to forcibly remount, call drive.mount(\"/content/gdrive\", force_remount=True).\n"
          ],
          "name": "stdout"
        }
      ]
    },
    {
      "metadata": {
        "id": "gYRGqC9_DErd",
        "colab_type": "text"
      },
      "cell_type": "markdown",
      "source": [
        "Ahora se montaran los datos que usaremos para el trabajo:"
      ]
    },
    {
      "metadata": {
        "id": "1A0MnZbSrhtT",
        "colab_type": "code",
        "outputId": "c45173e2-afd5-4715-a8e3-b34b3a2bfcf3",
        "colab": {
          "base_uri": "https://localhost:8080/",
          "height": 282
        }
      },
      "cell_type": "code",
      "source": [
        "df = pd.read_csv(\"gdrive/My Drive/2019-1/ML/Pregunta 1/BlackFriday.csv\")\n",
        "df.head()"
      ],
      "execution_count": 3,
      "outputs": [
        {
          "output_type": "execute_result",
          "data": {
            "text/html": [
              "<div>\n",
              "<style scoped>\n",
              "    .dataframe tbody tr th:only-of-type {\n",
              "        vertical-align: middle;\n",
              "    }\n",
              "\n",
              "    .dataframe tbody tr th {\n",
              "        vertical-align: top;\n",
              "    }\n",
              "\n",
              "    .dataframe thead th {\n",
              "        text-align: right;\n",
              "    }\n",
              "</style>\n",
              "<table border=\"1\" class=\"dataframe\">\n",
              "  <thead>\n",
              "    <tr style=\"text-align: right;\">\n",
              "      <th></th>\n",
              "      <th>User_ID</th>\n",
              "      <th>Product_ID</th>\n",
              "      <th>Gender</th>\n",
              "      <th>Age</th>\n",
              "      <th>Occupation</th>\n",
              "      <th>City_Category</th>\n",
              "      <th>Stay_In_Current_City_Years</th>\n",
              "      <th>Marital_Status</th>\n",
              "      <th>Product_Category_1</th>\n",
              "      <th>Product_Category_2</th>\n",
              "      <th>Product_Category_3</th>\n",
              "      <th>Purchase</th>\n",
              "    </tr>\n",
              "  </thead>\n",
              "  <tbody>\n",
              "    <tr>\n",
              "      <th>0</th>\n",
              "      <td>1000001</td>\n",
              "      <td>P00069042</td>\n",
              "      <td>F</td>\n",
              "      <td>0-17</td>\n",
              "      <td>10</td>\n",
              "      <td>A</td>\n",
              "      <td>2</td>\n",
              "      <td>0</td>\n",
              "      <td>3</td>\n",
              "      <td>NaN</td>\n",
              "      <td>NaN</td>\n",
              "      <td>8370</td>\n",
              "    </tr>\n",
              "    <tr>\n",
              "      <th>1</th>\n",
              "      <td>1000001</td>\n",
              "      <td>P00248942</td>\n",
              "      <td>F</td>\n",
              "      <td>0-17</td>\n",
              "      <td>10</td>\n",
              "      <td>A</td>\n",
              "      <td>2</td>\n",
              "      <td>0</td>\n",
              "      <td>1</td>\n",
              "      <td>6.0</td>\n",
              "      <td>14.0</td>\n",
              "      <td>15200</td>\n",
              "    </tr>\n",
              "    <tr>\n",
              "      <th>2</th>\n",
              "      <td>1000001</td>\n",
              "      <td>P00087842</td>\n",
              "      <td>F</td>\n",
              "      <td>0-17</td>\n",
              "      <td>10</td>\n",
              "      <td>A</td>\n",
              "      <td>2</td>\n",
              "      <td>0</td>\n",
              "      <td>12</td>\n",
              "      <td>NaN</td>\n",
              "      <td>NaN</td>\n",
              "      <td>1422</td>\n",
              "    </tr>\n",
              "    <tr>\n",
              "      <th>3</th>\n",
              "      <td>1000001</td>\n",
              "      <td>P00085442</td>\n",
              "      <td>F</td>\n",
              "      <td>0-17</td>\n",
              "      <td>10</td>\n",
              "      <td>A</td>\n",
              "      <td>2</td>\n",
              "      <td>0</td>\n",
              "      <td>12</td>\n",
              "      <td>14.0</td>\n",
              "      <td>NaN</td>\n",
              "      <td>1057</td>\n",
              "    </tr>\n",
              "    <tr>\n",
              "      <th>4</th>\n",
              "      <td>1000002</td>\n",
              "      <td>P00285442</td>\n",
              "      <td>M</td>\n",
              "      <td>55+</td>\n",
              "      <td>16</td>\n",
              "      <td>C</td>\n",
              "      <td>4+</td>\n",
              "      <td>0</td>\n",
              "      <td>8</td>\n",
              "      <td>NaN</td>\n",
              "      <td>NaN</td>\n",
              "      <td>7969</td>\n",
              "    </tr>\n",
              "  </tbody>\n",
              "</table>\n",
              "</div>"
            ],
            "text/plain": [
              "   User_ID Product_ID Gender   Age  Occupation City_Category  \\\n",
              "0  1000001  P00069042      F  0-17          10             A   \n",
              "1  1000001  P00248942      F  0-17          10             A   \n",
              "2  1000001  P00087842      F  0-17          10             A   \n",
              "3  1000001  P00085442      F  0-17          10             A   \n",
              "4  1000002  P00285442      M   55+          16             C   \n",
              "\n",
              "  Stay_In_Current_City_Years  Marital_Status  Product_Category_1  \\\n",
              "0                          2               0                   3   \n",
              "1                          2               0                   1   \n",
              "2                          2               0                  12   \n",
              "3                          2               0                  12   \n",
              "4                         4+               0                   8   \n",
              "\n",
              "   Product_Category_2  Product_Category_3  Purchase  \n",
              "0                 NaN                 NaN      8370  \n",
              "1                 6.0                14.0     15200  \n",
              "2                 NaN                 NaN      1422  \n",
              "3                14.0                 NaN      1057  \n",
              "4                 NaN                 NaN      7969  "
            ]
          },
          "metadata": {
            "tags": []
          },
          "execution_count": 3
        }
      ]
    },
    {
      "metadata": {
        "id": "n3aIZhIEDKRI",
        "colab_type": "text"
      },
      "cell_type": "markdown",
      "source": [
        "Desde ya podemos ver que existen distintos tipos de valores, como también características intrínsecas según cada columna. Por ejemplo del tipo categórico o ordinal, como también si/no númericos."
      ]
    },
    {
      "metadata": {
        "id": "kF-lvQLNv8MV",
        "colab_type": "text"
      },
      "cell_type": "markdown",
      "source": [
        "## 1.a Modulos y carga de datos"
      ]
    },
    {
      "metadata": {
        "id": "wEc9QV4wtOlX",
        "colab_type": "text"
      },
      "cell_type": "markdown",
      "source": [
        "* Análisis casos datos indefinidos.\n",
        "\n",
        "Antes de realizar la regresión se deben \"limpiar\" y preparar los datos, es por ello que veremos las columnas que posean filas nulas."
      ]
    },
    {
      "metadata": {
        "id": "W--veYu6v_UM",
        "colab_type": "code",
        "outputId": "4ef04d0b-1aa8-4f65-eef5-faaa71b4d2bc",
        "colab": {
          "base_uri": "https://localhost:8080/",
          "height": 287
        }
      },
      "cell_type": "code",
      "source": [
        "print(\"El total de datos es: \" + str(len(df)))\n",
        "print(\"Cantidad de datos nulos según columna: \")\n",
        "print(df.isna().sum())"
      ],
      "execution_count": 0,
      "outputs": [
        {
          "output_type": "stream",
          "text": [
            "El total de datos es: 537577\n",
            "Cantidad de datos nulos según columna: \n",
            "User_ID                            0\n",
            "Product_ID                         0\n",
            "Gender                             0\n",
            "Age                                0\n",
            "Occupation                         0\n",
            "City_Category                      0\n",
            "Stay_In_Current_City_Years         0\n",
            "Marital_Status                     0\n",
            "Product_Category_1                 0\n",
            "Product_Category_2            166986\n",
            "Product_Category_3            373299\n",
            "Purchase                           0\n",
            "dtype: int64\n"
          ],
          "name": "stdout"
        }
      ]
    },
    {
      "metadata": {
        "id": "CQJEabv6wCD_",
        "colab_type": "text"
      },
      "cell_type": "markdown",
      "source": [
        "Vemos que sería adecuado eliminar los atributos correspondientes a la categoría 2 y 3 del producto. Dado que además de ser los únicos que contienen valores nulos, son muchos estos casos. Por lo cual *a-priori* consideraremos no tomar en cuenta estas columnas para la regresión."
      ]
    },
    {
      "metadata": {
        "id": "uP_XHziQxL9j",
        "colab_type": "text"
      },
      "cell_type": "markdown",
      "source": [
        "* Descripción set de datos.\n",
        "\n",
        "Iniciamos analizando las columnas:"
      ]
    },
    {
      "metadata": {
        "id": "NWxkexAXxb7K",
        "colab_type": "code",
        "outputId": "783f4d67-4026-48b2-88ba-d593b6d25758",
        "colab": {
          "base_uri": "https://localhost:8080/",
          "height": 359
        }
      },
      "cell_type": "code",
      "source": [
        "print(df.describe())"
      ],
      "execution_count": 0,
      "outputs": [
        {
          "output_type": "stream",
          "text": [
            "            User_ID    Occupation  Marital_Status  Product_Category_1  \\\n",
            "count  5.375770e+05  537577.00000   537577.000000       537577.000000   \n",
            "mean   1.002992e+06       8.08271        0.408797            5.295546   \n",
            "std    1.714393e+03       6.52412        0.491612            3.750701   \n",
            "min    1.000001e+06       0.00000        0.000000            1.000000   \n",
            "25%    1.001495e+06       2.00000        0.000000            1.000000   \n",
            "50%    1.003031e+06       7.00000        0.000000            5.000000   \n",
            "75%    1.004417e+06      14.00000        1.000000            8.000000   \n",
            "max    1.006040e+06      20.00000        1.000000           18.000000   \n",
            "\n",
            "       Product_Category_2  Product_Category_3       Purchase  \n",
            "count       370591.000000       164278.000000  537577.000000  \n",
            "mean             9.842144           12.669840    9333.859853  \n",
            "std              5.087259            4.124341    4981.022133  \n",
            "min              2.000000            3.000000     185.000000  \n",
            "25%              5.000000            9.000000    5866.000000  \n",
            "50%              9.000000           14.000000    8062.000000  \n",
            "75%             15.000000           16.000000   12073.000000  \n",
            "max             18.000000           18.000000   23961.000000  \n"
          ],
          "name": "stdout"
        }
      ]
    },
    {
      "metadata": {
        "id": "cNP832Be4XcW",
        "colab_type": "text"
      },
      "cell_type": "markdown",
      "source": [
        "De lo anterior podemos listar métricas interesantes como:\n",
        "  *   El promedio de compra el cual corresponde a  alrededor de $ 9333.\n",
        "  *  También podemos ciertos sesgos por medio de los cuartiles respecto a la ocupación y la categoría de producto. Lo cual analizaremos mejor con histogramas:"
      ]
    },
    {
      "metadata": {
        "id": "nVXx1D_aRZjX",
        "colab_type": "code",
        "outputId": "b7631bd6-f8d7-4647-c2be-0ba6c3d15e1e",
        "colab": {
          "base_uri": "https://localhost:8080/",
          "height": 336
        }
      },
      "cell_type": "code",
      "source": [
        "_ = df.hist(column=['Occupation','Product_Category_1', 'Purchase'],bins = 20, figsize=(15,5))"
      ],
      "execution_count": 0,
      "outputs": [
        {
          "output_type": "display_data",
          "data": {
            "image/png": "[encoded data removed]",
            "text/plain": [
              "<Figure size 1080x360 with 4 Axes>"
            ]
          },
          "metadata": {
            "tags": []
          }
        }
      ]
    },
    {
      "metadata": {
        "id": "rljQlCWgSGXo",
        "colab_type": "text"
      },
      "cell_type": "markdown",
      "source": [
        "Se puede notar una concentración para la ocupación y categoría del producto para pocos *labels*. Por otra parte para las compras se ve que existe un rango de estas en que se distribuye una gran cantidad, entre  $5.000 y 9.000. Esto desde ya nos hace tener la idea de que pueden existir *outliers*, posiblemente respecto a compras muy caras."
      ]
    },
    {
      "metadata": {
        "id": "VIdiJEedSkV8",
        "colab_type": "text"
      },
      "cell_type": "markdown",
      "source": [
        "* Conteo hombres y mujeres únicos en los registros."
      ]
    },
    {
      "metadata": {
        "id": "kRt3mTZTxf8N",
        "colab_type": "code",
        "outputId": "b73486e0-351e-4be4-9ae7-de7ea05eb1ae",
        "colab": {
          "base_uri": "https://localhost:8080/",
          "height": 89
        }
      },
      "cell_type": "code",
      "source": [
        "print(df.groupby([\"Gender\"]).User_ID.nunique())"
      ],
      "execution_count": 0,
      "outputs": [
        {
          "output_type": "stream",
          "text": [
            "Gender\n",
            "F    1666\n",
            "M    4225\n",
            "Name: User_ID, dtype: int64\n"
          ],
          "name": "stdout"
        }
      ]
    },
    {
      "metadata": {
        "id": "nJzbdemc0aeI",
        "colab_type": "text"
      },
      "cell_type": "markdown",
      "source": [
        "Notamos que existe una cantidad mucho mayor de población masculina, siendo casi 3 veces la población femenina. Se debe tomar en cuenta también que es esto solo nos dice los clientes únicos, sin embargo es posible que uno tenga muchas más compras que otro.\n",
        "\n",
        "\n",
        "Ahora bien junto a este análisis, procedemos a ver el comportamiento de las compras respecto a la edad y género."
      ]
    },
    {
      "metadata": {
        "id": "7YUk046iMmbs",
        "colab_type": "code",
        "colab": {
          "base_uri": "https://localhost:8080/",
          "height": 281
        },
        "outputId": "1c2a5bab-74a8-4f7a-9713-11ce7fa9b9b9"
      },
      "cell_type": "code",
      "source": [
        "plt.title(\"Cantidad de compras por usuario\")\n",
        "_= plt.plot(df['User_ID'].value_counts().values)"
      ],
      "execution_count": 12,
      "outputs": [
        {
          "output_type": "display_data",
          "data": {
            "image/png": "[encoded data removed]",
            "text/plain": [
              "<Figure size 432x288 with 1 Axes>"
            ]
          },
          "metadata": {
            "tags": []
          }
        }
      ]
    },
    {
      "metadata": {
        "id": "gHANym2GNfch",
        "colab_type": "text"
      },
      "cell_type": "markdown",
      "source": [
        "Podemos rescatar que existe una concentración de usuarios que realizaron más de 200 compras cada uno. Ahora bien veremos el promedio de compras analizando las edades más el género."
      ]
    },
    {
      "metadata": {
        "id": "p6Y9ZWF-3Kvb",
        "colab_type": "code",
        "outputId": "4edbb89a-d638-4caa-b4d7-0b3ccca15e91",
        "colab": {
          "base_uri": "https://localhost:8080/",
          "height": 552
        }
      },
      "cell_type": "code",
      "source": [
        "W = df.groupby([\"Age\"]).mean()['Purchase']\n",
        "print(W)\n",
        "X = df.groupby([\"Age\"]).mean()['Purchase'].index.values\n",
        "Y = df[df.Gender == 'F'].groupby([\"Age\",\"Gender\"]).mean()['Purchase']\n",
        "Z = df[df.Gender == 'M'].groupby([\"Age\",\"Gender\"]).mean()['Purchase']\n",
        "\n",
        "_X = np.arange(len(X))\n",
        "plt.figure(num=None, figsize=(8, 6))\n",
        "plt.title(\"Promedio precio de compras M/F por Rango de Edad\")\n",
        "_ =plt.bar(_X - 0.2, Y, 0.4, label = 'F' ,color='violet')\n",
        "_ =plt.bar(_X + 0.2 , Z, 0.4, label = 'M')\n",
        "_= plt.axis([-1,7,7000,10000])\n",
        "_ =plt.legend(loc='best')\n",
        "_ = plt.hlines(W.values,np.arange(10) - 0.2,np.arange(10) + 0.2)\n",
        "_ =plt.xticks(_X, X) # set labels manually"
      ],
      "execution_count": 0,
      "outputs": [
        {
          "output_type": "stream",
          "text": [
            "Age\n",
            "0-17     9020.126878\n",
            "18-25    9235.197575\n",
            "26-35    9314.588970\n",
            "36-45    9401.478758\n",
            "46-50    9284.872277\n",
            "51-55    9620.616620\n",
            "55+      9453.898579\n",
            "Name: Purchase, dtype: float64\n"
          ],
          "name": "stdout"
        },
        {
          "output_type": "display_data",
          "data": {
            "image/png": "[encoded data removed]",
            "text/plain": [
              "<Figure size 576x432 with 1 Axes>"
            ]
          },
          "metadata": {
            "tags": []
          }
        }
      ]
    },
    {
      "metadata": {
        "id": "eLuUluvhNv2D",
        "colab_type": "text"
      },
      "cell_type": "markdown",
      "source": [
        "A pesar de lo que se podría creer, las poblaciones mayores poseen un promedio más alto en las compras. Además los articulos adquiridos por los hombres son en promedio más caros respecto a los obtenidos por las mujeres, independiente de la edad."
      ]
    },
    {
      "metadata": {
        "id": "CJYR5nTJM6I8",
        "colab_type": "text"
      },
      "cell_type": "markdown",
      "source": [
        "## 1.b Columnas descartadas\n",
        "\n",
        "Se debe decidir que columnas serán descartadas para lograr realizar una regresión más adecuada. Para ello primero se verán los valores posibles de las columnas, su tipo y cantidad."
      ]
    },
    {
      "metadata": {
        "id": "n85JV_egSepK",
        "colab_type": "code",
        "outputId": "42f6487c-3dd8-4fa2-f3dd-4532912e23b0",
        "colab": {
          "base_uri": "https://localhost:8080/",
          "height": 421
        }
      },
      "cell_type": "code",
      "source": [
        "pd.DataFrame({'Tipo':df.dtypes.values,'Valores únicos':[df[col].unique() for col in df.columns], 'Total':[len(df[col].unique()) for col in df.columns]}, index = df.columns )"
      ],
      "execution_count": 0,
      "outputs": [
        {
          "output_type": "execute_result",
          "data": {
            "text/html": [
              "<div>\n",
              "<style scoped>\n",
              "    .dataframe tbody tr th:only-of-type {\n",
              "        vertical-align: middle;\n",
              "    }\n",
              "\n",
              "    .dataframe tbody tr th {\n",
              "        vertical-align: top;\n",
              "    }\n",
              "\n",
              "    .dataframe thead th {\n",
              "        text-align: right;\n",
              "    }\n",
              "</style>\n",
              "<table border=\"1\" class=\"dataframe\">\n",
              "  <thead>\n",
              "    <tr style=\"text-align: right;\">\n",
              "      <th></th>\n",
              "      <th>Tipo</th>\n",
              "      <th>Valores únicos</th>\n",
              "      <th>Total</th>\n",
              "    </tr>\n",
              "  </thead>\n",
              "  <tbody>\n",
              "    <tr>\n",
              "      <th>User_ID</th>\n",
              "      <td>int64</td>\n",
              "      <td>[1000001, 1000002, 1000003, 1000004, 1000005, ...</td>\n",
              "      <td>5891</td>\n",
              "    </tr>\n",
              "    <tr>\n",
              "      <th>Product_ID</th>\n",
              "      <td>object</td>\n",
              "      <td>[P00069042, P00248942, P00087842, P00085442, P...</td>\n",
              "      <td>3623</td>\n",
              "    </tr>\n",
              "    <tr>\n",
              "      <th>Gender</th>\n",
              "      <td>object</td>\n",
              "      <td>[F, M]</td>\n",
              "      <td>2</td>\n",
              "    </tr>\n",
              "    <tr>\n",
              "      <th>Age</th>\n",
              "      <td>object</td>\n",
              "      <td>[0-17, 55+, 26-35, 46-50, 51-55, 36-45, 18-25]</td>\n",
              "      <td>7</td>\n",
              "    </tr>\n",
              "    <tr>\n",
              "      <th>Occupation</th>\n",
              "      <td>int64</td>\n",
              "      <td>[10, 16, 15, 7, 20, 9, 1, 12, 17, 0, 3, 4, 11,...</td>\n",
              "      <td>21</td>\n",
              "    </tr>\n",
              "    <tr>\n",
              "      <th>City_Category</th>\n",
              "      <td>object</td>\n",
              "      <td>[A, C, B]</td>\n",
              "      <td>3</td>\n",
              "    </tr>\n",
              "    <tr>\n",
              "      <th>Stay_In_Current_City_Years</th>\n",
              "      <td>object</td>\n",
              "      <td>[2, 4+, 3, 1, 0]</td>\n",
              "      <td>5</td>\n",
              "    </tr>\n",
              "    <tr>\n",
              "      <th>Marital_Status</th>\n",
              "      <td>int64</td>\n",
              "      <td>[0, 1]</td>\n",
              "      <td>2</td>\n",
              "    </tr>\n",
              "    <tr>\n",
              "      <th>Product_Category_1</th>\n",
              "      <td>int64</td>\n",
              "      <td>[3, 1, 12, 8, 5, 4, 2, 6, 14, 11, 13, 15, 7, 1...</td>\n",
              "      <td>18</td>\n",
              "    </tr>\n",
              "    <tr>\n",
              "      <th>Product_Category_2</th>\n",
              "      <td>float64</td>\n",
              "      <td>[nan, 6.0, 14.0, 2.0, 8.0, 15.0, 16.0, 11.0, 5...</td>\n",
              "      <td>18</td>\n",
              "    </tr>\n",
              "    <tr>\n",
              "      <th>Product_Category_3</th>\n",
              "      <td>float64</td>\n",
              "      <td>[nan, 14.0, 17.0, 5.0, 4.0, 16.0, 15.0, 8.0, 9...</td>\n",
              "      <td>16</td>\n",
              "    </tr>\n",
              "    <tr>\n",
              "      <th>Purchase</th>\n",
              "      <td>int64</td>\n",
              "      <td>[8370, 15200, 1422, 1057, 7969, 15227, 19215, ...</td>\n",
              "      <td>17959</td>\n",
              "    </tr>\n",
              "  </tbody>\n",
              "</table>\n",
              "</div>"
            ],
            "text/plain": [
              "                               Tipo  \\\n",
              "User_ID                       int64   \n",
              "Product_ID                   object   \n",
              "Gender                       object   \n",
              "Age                          object   \n",
              "Occupation                    int64   \n",
              "City_Category                object   \n",
              "Stay_In_Current_City_Years   object   \n",
              "Marital_Status                int64   \n",
              "Product_Category_1            int64   \n",
              "Product_Category_2          float64   \n",
              "Product_Category_3          float64   \n",
              "Purchase                      int64   \n",
              "\n",
              "                                                               Valores únicos  \\\n",
              "User_ID                     [1000001, 1000002, 1000003, 1000004, 1000005, ...   \n",
              "Product_ID                  [P00069042, P00248942, P00087842, P00085442, P...   \n",
              "Gender                                                                 [F, M]   \n",
              "Age                            [0-17, 55+, 26-35, 46-50, 51-55, 36-45, 18-25]   \n",
              "Occupation                  [10, 16, 15, 7, 20, 9, 1, 12, 17, 0, 3, 4, 11,...   \n",
              "City_Category                                                       [A, C, B]   \n",
              "Stay_In_Current_City_Years                                   [2, 4+, 3, 1, 0]   \n",
              "Marital_Status                                                         [0, 1]   \n",
              "Product_Category_1          [3, 1, 12, 8, 5, 4, 2, 6, 14, 11, 13, 15, 7, 1...   \n",
              "Product_Category_2          [nan, 6.0, 14.0, 2.0, 8.0, 15.0, 16.0, 11.0, 5...   \n",
              "Product_Category_3          [nan, 14.0, 17.0, 5.0, 4.0, 16.0, 15.0, 8.0, 9...   \n",
              "Purchase                    [8370, 15200, 1422, 1057, 7969, 15227, 19215, ...   \n",
              "\n",
              "                            Total  \n",
              "User_ID                      5891  \n",
              "Product_ID                   3623  \n",
              "Gender                          2  \n",
              "Age                             7  \n",
              "Occupation                     21  \n",
              "City_Category                   3  \n",
              "Stay_In_Current_City_Years      5  \n",
              "Marital_Status                  2  \n",
              "Product_Category_1             18  \n",
              "Product_Category_2             18  \n",
              "Product_Category_3             16  \n",
              "Purchase                    17959  "
            ]
          },
          "metadata": {
            "tags": []
          },
          "execution_count": 8
        }
      ]
    },
    {
      "metadata": {
        "id": "2TWVBk83S1rV",
        "colab_type": "text"
      },
      "cell_type": "markdown",
      "source": [
        "De lo anterior podemos ver que:\n",
        "\n",
        "* *User_ID* y *Product_ID* resultarían problemáticos para realizar la regresión dado que son valores respectivos a indices, por lo cual sirven para *indexar*  pero no para tener relaciones con otros atributos. Además que no es de interés para nuestro análisis ver casos de clientes por separado.\n",
        "* Las categorías de productos 2 y 3 deben ser eliminadas dada su cantidad de elementos nulos. Además se eliminará la categoría de producto 1 también, ya que se desea hacer regresión lineal y este atributo a pesar de ser númerico es categórico con muchos valores únicos. Por lo cual si se usa tal y como viene en el set, provocaría una mala regresión.\n",
        "* Se mantendrá la ocupación dado que a pesar de ser categórico contiene pocas categorías.\n",
        "* La edad y la estadía en la ciudad se consideran ordinales, por ello se mantienen para la regresión. Además que se pueden codificar númericamente débido a la relación entre sus valores posibles.\n",
        "* El *target* de predicción en próximos pasos se separará de los datos con los que se realizará la combinación lineal.\n"
      ]
    },
    {
      "metadata": {
        "id": "Gz2nl3IdZBHs",
        "colab_type": "code",
        "colab": {}
      },
      "cell_type": "code",
      "source": [
        "df = df.drop(columns=['User_ID','Product_ID','Product_Category_1','Product_Category_2','Product_Category_3']) "
      ],
      "execution_count": 0,
      "outputs": []
    },
    {
      "metadata": {
        "id": "S9h3ZnqeY20c",
        "colab_type": "text"
      },
      "cell_type": "markdown",
      "source": [
        "## 1.c Datos Categóricos\n",
        "\n",
        "Ahora se deben manejar los datos no númericos para poder ser ocupados en la regresión.  Según columna se realizará un tipo distinto de transformación:\n",
        "\n",
        "* **Gender**: Se utiliza una representación binaria, para lo cual cualquiera de los 2 géneros será representado con un 1 ó 0 para poder ser usado en la regresión. Además tendría consistencia con la codificación del estado marital. Por otra parte dado que cada fila debe tener 1 género, se puede usar solo una columna binaria y no es necesario separar en 2 *dummies*.\n",
        "* **City_category**: Al ser una variable categórica se decide centrar en 0, sin embargo se podría haber usado *one_hot_encoding*.\n",
        "* **Age**: Se considera ordinal no númerico, por lo cual cualquier codificación que represente un orden estará bien, tal como \"1,2,3,4\" para cada rango. Lo importante es que se mantenga la misma distancia entre elementos adyacentes.\n",
        "* **Stay_In_Current_City_Years**: Al igual que el caso anterior, se transforma a un representación ordinal númerica. Cambiando su último valor único \"4+\" por \"4\".\n",
        "* **Ocupación**: Dado que a pesar de que es un dato númerico, cumple con ser categórico por lo cual podemos codificar cada label a una posición de un arreglo de 1s y 0s."
      ]
    },
    {
      "metadata": {
        "id": "RNLIa-Gz4vKD",
        "colab_type": "code",
        "outputId": "7ea9553b-e835-40ff-b2c1-e409cc07eed2",
        "colab": {
          "base_uri": "https://localhost:8080/",
          "height": 71
        }
      },
      "cell_type": "code",
      "source": [
        "df.columns"
      ],
      "execution_count": 0,
      "outputs": [
        {
          "output_type": "execute_result",
          "data": {
            "text/plain": [
              "Index(['Gender', 'Age', 'Occupation', 'City_Category',\n",
              "       'Stay_In_Current_City_Years', 'Marital_Status', 'Purchase'],\n",
              "      dtype='object')"
            ]
          },
          "metadata": {
            "tags": []
          },
          "execution_count": 10
        }
      ]
    },
    {
      "metadata": {
        "id": "dFXkS4nNTOUe",
        "colab_type": "text"
      },
      "cell_type": "markdown",
      "source": [
        "Se generá el mapeo de las variables categóricas a númericas:"
      ]
    },
    {
      "metadata": {
        "id": "-DEo6YUK3Sv4",
        "colab_type": "code",
        "colab": {}
      },
      "cell_type": "code",
      "source": [
        "#mapeo\n",
        "mapper = {}\n",
        "mapper['Gender'] = {'F':1,'M':0}\n",
        "mapper['City_Category'] =  {'A':-1, 'C':0, 'B':1}\n",
        "mapper['Age'] =  {'0-17':0,'18-25':1,'26-35':2,'36-45':3,'46-50':4,'51-55':5,'55+':6}\n",
        "mapper['Stay_In_Current_City_Years'] = {'0':0,'1':1,'2':2,'3':3,'4+':4}"
      ],
      "execution_count": 0,
      "outputs": []
    },
    {
      "metadata": {
        "id": "rhEkbA76m75r",
        "colab_type": "code",
        "colab": {}
      },
      "cell_type": "code",
      "source": [
        "for mapp in list(mapper):\n",
        "  df[mapp] = df[mapp].apply(lambda x: mapper[mapp][x])\n",
        "\n",
        "data_pre = pd.get_dummies(df.Occupation)\n",
        "col = list(df.columns)\n",
        "col.remove('Occupation')\n",
        "data_pre[col] = df[col]"
      ],
      "execution_count": 0,
      "outputs": []
    },
    {
      "metadata": {
        "id": "FZvHSGvgnYx2",
        "colab_type": "code",
        "outputId": "803f78b8-317b-4e8d-b54d-b9649ac5fc25",
        "colab": {
          "base_uri": "https://localhost:8080/",
          "height": 1969
        }
      },
      "cell_type": "code",
      "source": [
        "data_pre"
      ],
      "execution_count": 0,
      "outputs": [
        {
          "output_type": "execute_result",
          "data": {
            "text/html": [
              "<div>\n",
              "<style scoped>\n",
              "    .dataframe tbody tr th:only-of-type {\n",
              "        vertical-align: middle;\n",
              "    }\n",
              "\n",
              "    .dataframe tbody tr th {\n",
              "        vertical-align: top;\n",
              "    }\n",
              "\n",
              "    .dataframe thead th {\n",
              "        text-align: right;\n",
              "    }\n",
              "</style>\n",
              "<table border=\"1\" class=\"dataframe\">\n",
              "  <thead>\n",
              "    <tr style=\"text-align: right;\">\n",
              "      <th></th>\n",
              "      <th>0</th>\n",
              "      <th>1</th>\n",
              "      <th>2</th>\n",
              "      <th>3</th>\n",
              "      <th>4</th>\n",
              "      <th>5</th>\n",
              "      <th>6</th>\n",
              "      <th>7</th>\n",
              "      <th>8</th>\n",
              "      <th>9</th>\n",
              "      <th>...</th>\n",
              "      <th>17</th>\n",
              "      <th>18</th>\n",
              "      <th>19</th>\n",
              "      <th>20</th>\n",
              "      <th>Gender</th>\n",
              "      <th>Age</th>\n",
              "      <th>City_Category</th>\n",
              "      <th>Stay_In_Current_City_Years</th>\n",
              "      <th>Marital_Status</th>\n",
              "      <th>Purchase</th>\n",
              "    </tr>\n",
              "  </thead>\n",
              "  <tbody>\n",
              "    <tr>\n",
              "      <th>0</th>\n",
              "      <td>0</td>\n",
              "      <td>0</td>\n",
              "      <td>0</td>\n",
              "      <td>0</td>\n",
              "      <td>0</td>\n",
              "      <td>0</td>\n",
              "      <td>0</td>\n",
              "      <td>0</td>\n",
              "      <td>0</td>\n",
              "      <td>0</td>\n",
              "      <td>...</td>\n",
              "      <td>0</td>\n",
              "      <td>0</td>\n",
              "      <td>0</td>\n",
              "      <td>0</td>\n",
              "      <td>1</td>\n",
              "      <td>0</td>\n",
              "      <td>-1</td>\n",
              "      <td>2</td>\n",
              "      <td>0</td>\n",
              "      <td>8370</td>\n",
              "    </tr>\n",
              "    <tr>\n",
              "      <th>1</th>\n",
              "      <td>0</td>\n",
              "      <td>0</td>\n",
              "      <td>0</td>\n",
              "      <td>0</td>\n",
              "      <td>0</td>\n",
              "      <td>0</td>\n",
              "      <td>0</td>\n",
              "      <td>0</td>\n",
              "      <td>0</td>\n",
              "      <td>0</td>\n",
              "      <td>...</td>\n",
              "      <td>0</td>\n",
              "      <td>0</td>\n",
              "      <td>0</td>\n",
              "      <td>0</td>\n",
              "      <td>1</td>\n",
              "      <td>0</td>\n",
              "      <td>-1</td>\n",
              "      <td>2</td>\n",
              "      <td>0</td>\n",
              "      <td>15200</td>\n",
              "    </tr>\n",
              "    <tr>\n",
              "      <th>2</th>\n",
              "      <td>0</td>\n",
              "      <td>0</td>\n",
              "      <td>0</td>\n",
              "      <td>0</td>\n",
              "      <td>0</td>\n",
              "      <td>0</td>\n",
              "      <td>0</td>\n",
              "      <td>0</td>\n",
              "      <td>0</td>\n",
              "      <td>0</td>\n",
              "      <td>...</td>\n",
              "      <td>0</td>\n",
              "      <td>0</td>\n",
              "      <td>0</td>\n",
              "      <td>0</td>\n",
              "      <td>1</td>\n",
              "      <td>0</td>\n",
              "      <td>-1</td>\n",
              "      <td>2</td>\n",
              "      <td>0</td>\n",
              "      <td>1422</td>\n",
              "    </tr>\n",
              "    <tr>\n",
              "      <th>3</th>\n",
              "      <td>0</td>\n",
              "      <td>0</td>\n",
              "      <td>0</td>\n",
              "      <td>0</td>\n",
              "      <td>0</td>\n",
              "      <td>0</td>\n",
              "      <td>0</td>\n",
              "      <td>0</td>\n",
              "      <td>0</td>\n",
              "      <td>0</td>\n",
              "      <td>...</td>\n",
              "      <td>0</td>\n",
              "      <td>0</td>\n",
              "      <td>0</td>\n",
              "      <td>0</td>\n",
              "      <td>1</td>\n",
              "      <td>0</td>\n",
              "      <td>-1</td>\n",
              "      <td>2</td>\n",
              "      <td>0</td>\n",
              "      <td>1057</td>\n",
              "    </tr>\n",
              "    <tr>\n",
              "      <th>4</th>\n",
              "      <td>0</td>\n",
              "      <td>0</td>\n",
              "      <td>0</td>\n",
              "      <td>0</td>\n",
              "      <td>0</td>\n",
              "      <td>0</td>\n",
              "      <td>0</td>\n",
              "      <td>0</td>\n",
              "      <td>0</td>\n",
              "      <td>0</td>\n",
              "      <td>...</td>\n",
              "      <td>0</td>\n",
              "      <td>0</td>\n",
              "      <td>0</td>\n",
              "      <td>0</td>\n",
              "      <td>0</td>\n",
              "      <td>6</td>\n",
              "      <td>0</td>\n",
              "      <td>4</td>\n",
              "      <td>0</td>\n",
              "      <td>7969</td>\n",
              "    </tr>\n",
              "    <tr>\n",
              "      <th>5</th>\n",
              "      <td>0</td>\n",
              "      <td>0</td>\n",
              "      <td>0</td>\n",
              "      <td>0</td>\n",
              "      <td>0</td>\n",
              "      <td>0</td>\n",
              "      <td>0</td>\n",
              "      <td>0</td>\n",
              "      <td>0</td>\n",
              "      <td>0</td>\n",
              "      <td>...</td>\n",
              "      <td>0</td>\n",
              "      <td>0</td>\n",
              "      <td>0</td>\n",
              "      <td>0</td>\n",
              "      <td>0</td>\n",
              "      <td>2</td>\n",
              "      <td>-1</td>\n",
              "      <td>3</td>\n",
              "      <td>0</td>\n",
              "      <td>15227</td>\n",
              "    </tr>\n",
              "    <tr>\n",
              "      <th>6</th>\n",
              "      <td>0</td>\n",
              "      <td>0</td>\n",
              "      <td>0</td>\n",
              "      <td>0</td>\n",
              "      <td>0</td>\n",
              "      <td>0</td>\n",
              "      <td>0</td>\n",
              "      <td>1</td>\n",
              "      <td>0</td>\n",
              "      <td>0</td>\n",
              "      <td>...</td>\n",
              "      <td>0</td>\n",
              "      <td>0</td>\n",
              "      <td>0</td>\n",
              "      <td>0</td>\n",
              "      <td>0</td>\n",
              "      <td>4</td>\n",
              "      <td>1</td>\n",
              "      <td>2</td>\n",
              "      <td>1</td>\n",
              "      <td>19215</td>\n",
              "    </tr>\n",
              "    <tr>\n",
              "      <th>7</th>\n",
              "      <td>0</td>\n",
              "      <td>0</td>\n",
              "      <td>0</td>\n",
              "      <td>0</td>\n",
              "      <td>0</td>\n",
              "      <td>0</td>\n",
              "      <td>0</td>\n",
              "      <td>1</td>\n",
              "      <td>0</td>\n",
              "      <td>0</td>\n",
              "      <td>...</td>\n",
              "      <td>0</td>\n",
              "      <td>0</td>\n",
              "      <td>0</td>\n",
              "      <td>0</td>\n",
              "      <td>0</td>\n",
              "      <td>4</td>\n",
              "      <td>1</td>\n",
              "      <td>2</td>\n",
              "      <td>1</td>\n",
              "      <td>15854</td>\n",
              "    </tr>\n",
              "    <tr>\n",
              "      <th>8</th>\n",
              "      <td>0</td>\n",
              "      <td>0</td>\n",
              "      <td>0</td>\n",
              "      <td>0</td>\n",
              "      <td>0</td>\n",
              "      <td>0</td>\n",
              "      <td>0</td>\n",
              "      <td>1</td>\n",
              "      <td>0</td>\n",
              "      <td>0</td>\n",
              "      <td>...</td>\n",
              "      <td>0</td>\n",
              "      <td>0</td>\n",
              "      <td>0</td>\n",
              "      <td>0</td>\n",
              "      <td>0</td>\n",
              "      <td>4</td>\n",
              "      <td>1</td>\n",
              "      <td>2</td>\n",
              "      <td>1</td>\n",
              "      <td>15686</td>\n",
              "    </tr>\n",
              "    <tr>\n",
              "      <th>9</th>\n",
              "      <td>0</td>\n",
              "      <td>0</td>\n",
              "      <td>0</td>\n",
              "      <td>0</td>\n",
              "      <td>0</td>\n",
              "      <td>0</td>\n",
              "      <td>0</td>\n",
              "      <td>0</td>\n",
              "      <td>0</td>\n",
              "      <td>0</td>\n",
              "      <td>...</td>\n",
              "      <td>0</td>\n",
              "      <td>0</td>\n",
              "      <td>0</td>\n",
              "      <td>1</td>\n",
              "      <td>0</td>\n",
              "      <td>2</td>\n",
              "      <td>-1</td>\n",
              "      <td>1</td>\n",
              "      <td>1</td>\n",
              "      <td>7871</td>\n",
              "    </tr>\n",
              "    <tr>\n",
              "      <th>10</th>\n",
              "      <td>0</td>\n",
              "      <td>0</td>\n",
              "      <td>0</td>\n",
              "      <td>0</td>\n",
              "      <td>0</td>\n",
              "      <td>0</td>\n",
              "      <td>0</td>\n",
              "      <td>0</td>\n",
              "      <td>0</td>\n",
              "      <td>0</td>\n",
              "      <td>...</td>\n",
              "      <td>0</td>\n",
              "      <td>0</td>\n",
              "      <td>0</td>\n",
              "      <td>1</td>\n",
              "      <td>0</td>\n",
              "      <td>2</td>\n",
              "      <td>-1</td>\n",
              "      <td>1</td>\n",
              "      <td>1</td>\n",
              "      <td>5254</td>\n",
              "    </tr>\n",
              "    <tr>\n",
              "      <th>11</th>\n",
              "      <td>0</td>\n",
              "      <td>0</td>\n",
              "      <td>0</td>\n",
              "      <td>0</td>\n",
              "      <td>0</td>\n",
              "      <td>0</td>\n",
              "      <td>0</td>\n",
              "      <td>0</td>\n",
              "      <td>0</td>\n",
              "      <td>0</td>\n",
              "      <td>...</td>\n",
              "      <td>0</td>\n",
              "      <td>0</td>\n",
              "      <td>0</td>\n",
              "      <td>1</td>\n",
              "      <td>0</td>\n",
              "      <td>2</td>\n",
              "      <td>-1</td>\n",
              "      <td>1</td>\n",
              "      <td>1</td>\n",
              "      <td>3957</td>\n",
              "    </tr>\n",
              "    <tr>\n",
              "      <th>12</th>\n",
              "      <td>0</td>\n",
              "      <td>0</td>\n",
              "      <td>0</td>\n",
              "      <td>0</td>\n",
              "      <td>0</td>\n",
              "      <td>0</td>\n",
              "      <td>0</td>\n",
              "      <td>0</td>\n",
              "      <td>0</td>\n",
              "      <td>0</td>\n",
              "      <td>...</td>\n",
              "      <td>0</td>\n",
              "      <td>0</td>\n",
              "      <td>0</td>\n",
              "      <td>1</td>\n",
              "      <td>0</td>\n",
              "      <td>2</td>\n",
              "      <td>-1</td>\n",
              "      <td>1</td>\n",
              "      <td>1</td>\n",
              "      <td>6073</td>\n",
              "    </tr>\n",
              "    <tr>\n",
              "      <th>13</th>\n",
              "      <td>0</td>\n",
              "      <td>0</td>\n",
              "      <td>0</td>\n",
              "      <td>0</td>\n",
              "      <td>0</td>\n",
              "      <td>0</td>\n",
              "      <td>0</td>\n",
              "      <td>0</td>\n",
              "      <td>0</td>\n",
              "      <td>0</td>\n",
              "      <td>...</td>\n",
              "      <td>0</td>\n",
              "      <td>0</td>\n",
              "      <td>0</td>\n",
              "      <td>1</td>\n",
              "      <td>0</td>\n",
              "      <td>2</td>\n",
              "      <td>-1</td>\n",
              "      <td>1</td>\n",
              "      <td>1</td>\n",
              "      <td>15665</td>\n",
              "    </tr>\n",
              "    <tr>\n",
              "      <th>14</th>\n",
              "      <td>0</td>\n",
              "      <td>0</td>\n",
              "      <td>0</td>\n",
              "      <td>0</td>\n",
              "      <td>0</td>\n",
              "      <td>0</td>\n",
              "      <td>0</td>\n",
              "      <td>0</td>\n",
              "      <td>0</td>\n",
              "      <td>1</td>\n",
              "      <td>...</td>\n",
              "      <td>0</td>\n",
              "      <td>0</td>\n",
              "      <td>0</td>\n",
              "      <td>0</td>\n",
              "      <td>1</td>\n",
              "      <td>5</td>\n",
              "      <td>-1</td>\n",
              "      <td>1</td>\n",
              "      <td>0</td>\n",
              "      <td>5378</td>\n",
              "    </tr>\n",
              "    <tr>\n",
              "      <th>15</th>\n",
              "      <td>0</td>\n",
              "      <td>0</td>\n",
              "      <td>0</td>\n",
              "      <td>0</td>\n",
              "      <td>0</td>\n",
              "      <td>0</td>\n",
              "      <td>0</td>\n",
              "      <td>0</td>\n",
              "      <td>0</td>\n",
              "      <td>1</td>\n",
              "      <td>...</td>\n",
              "      <td>0</td>\n",
              "      <td>0</td>\n",
              "      <td>0</td>\n",
              "      <td>0</td>\n",
              "      <td>1</td>\n",
              "      <td>5</td>\n",
              "      <td>-1</td>\n",
              "      <td>1</td>\n",
              "      <td>0</td>\n",
              "      <td>2079</td>\n",
              "    </tr>\n",
              "    <tr>\n",
              "      <th>16</th>\n",
              "      <td>0</td>\n",
              "      <td>0</td>\n",
              "      <td>0</td>\n",
              "      <td>0</td>\n",
              "      <td>0</td>\n",
              "      <td>0</td>\n",
              "      <td>0</td>\n",
              "      <td>0</td>\n",
              "      <td>0</td>\n",
              "      <td>1</td>\n",
              "      <td>...</td>\n",
              "      <td>0</td>\n",
              "      <td>0</td>\n",
              "      <td>0</td>\n",
              "      <td>0</td>\n",
              "      <td>1</td>\n",
              "      <td>5</td>\n",
              "      <td>-1</td>\n",
              "      <td>1</td>\n",
              "      <td>0</td>\n",
              "      <td>13055</td>\n",
              "    </tr>\n",
              "    <tr>\n",
              "      <th>17</th>\n",
              "      <td>0</td>\n",
              "      <td>0</td>\n",
              "      <td>0</td>\n",
              "      <td>0</td>\n",
              "      <td>0</td>\n",
              "      <td>0</td>\n",
              "      <td>0</td>\n",
              "      <td>0</td>\n",
              "      <td>0</td>\n",
              "      <td>1</td>\n",
              "      <td>...</td>\n",
              "      <td>0</td>\n",
              "      <td>0</td>\n",
              "      <td>0</td>\n",
              "      <td>0</td>\n",
              "      <td>1</td>\n",
              "      <td>5</td>\n",
              "      <td>-1</td>\n",
              "      <td>1</td>\n",
              "      <td>0</td>\n",
              "      <td>8851</td>\n",
              "    </tr>\n",
              "    <tr>\n",
              "      <th>18</th>\n",
              "      <td>0</td>\n",
              "      <td>1</td>\n",
              "      <td>0</td>\n",
              "      <td>0</td>\n",
              "      <td>0</td>\n",
              "      <td>0</td>\n",
              "      <td>0</td>\n",
              "      <td>0</td>\n",
              "      <td>0</td>\n",
              "      <td>0</td>\n",
              "      <td>...</td>\n",
              "      <td>0</td>\n",
              "      <td>0</td>\n",
              "      <td>0</td>\n",
              "      <td>0</td>\n",
              "      <td>0</td>\n",
              "      <td>3</td>\n",
              "      <td>1</td>\n",
              "      <td>1</td>\n",
              "      <td>1</td>\n",
              "      <td>11788</td>\n",
              "    </tr>\n",
              "    <tr>\n",
              "      <th>19</th>\n",
              "      <td>0</td>\n",
              "      <td>0</td>\n",
              "      <td>0</td>\n",
              "      <td>0</td>\n",
              "      <td>0</td>\n",
              "      <td>0</td>\n",
              "      <td>0</td>\n",
              "      <td>0</td>\n",
              "      <td>0</td>\n",
              "      <td>0</td>\n",
              "      <td>...</td>\n",
              "      <td>0</td>\n",
              "      <td>0</td>\n",
              "      <td>0</td>\n",
              "      <td>0</td>\n",
              "      <td>0</td>\n",
              "      <td>2</td>\n",
              "      <td>0</td>\n",
              "      <td>4</td>\n",
              "      <td>1</td>\n",
              "      <td>19614</td>\n",
              "    </tr>\n",
              "    <tr>\n",
              "      <th>20</th>\n",
              "      <td>0</td>\n",
              "      <td>0</td>\n",
              "      <td>0</td>\n",
              "      <td>0</td>\n",
              "      <td>0</td>\n",
              "      <td>0</td>\n",
              "      <td>0</td>\n",
              "      <td>0</td>\n",
              "      <td>0</td>\n",
              "      <td>0</td>\n",
              "      <td>...</td>\n",
              "      <td>0</td>\n",
              "      <td>0</td>\n",
              "      <td>0</td>\n",
              "      <td>0</td>\n",
              "      <td>0</td>\n",
              "      <td>2</td>\n",
              "      <td>0</td>\n",
              "      <td>4</td>\n",
              "      <td>1</td>\n",
              "      <td>8584</td>\n",
              "    </tr>\n",
              "    <tr>\n",
              "      <th>21</th>\n",
              "      <td>0</td>\n",
              "      <td>0</td>\n",
              "      <td>0</td>\n",
              "      <td>0</td>\n",
              "      <td>0</td>\n",
              "      <td>0</td>\n",
              "      <td>0</td>\n",
              "      <td>0</td>\n",
              "      <td>0</td>\n",
              "      <td>0</td>\n",
              "      <td>...</td>\n",
              "      <td>0</td>\n",
              "      <td>0</td>\n",
              "      <td>0</td>\n",
              "      <td>0</td>\n",
              "      <td>0</td>\n",
              "      <td>2</td>\n",
              "      <td>0</td>\n",
              "      <td>4</td>\n",
              "      <td>1</td>\n",
              "      <td>9872</td>\n",
              "    </tr>\n",
              "    <tr>\n",
              "      <th>22</th>\n",
              "      <td>0</td>\n",
              "      <td>0</td>\n",
              "      <td>0</td>\n",
              "      <td>0</td>\n",
              "      <td>0</td>\n",
              "      <td>0</td>\n",
              "      <td>0</td>\n",
              "      <td>0</td>\n",
              "      <td>0</td>\n",
              "      <td>0</td>\n",
              "      <td>...</td>\n",
              "      <td>0</td>\n",
              "      <td>0</td>\n",
              "      <td>0</td>\n",
              "      <td>0</td>\n",
              "      <td>0</td>\n",
              "      <td>2</td>\n",
              "      <td>0</td>\n",
              "      <td>4</td>\n",
              "      <td>1</td>\n",
              "      <td>9743</td>\n",
              "    </tr>\n",
              "    <tr>\n",
              "      <th>23</th>\n",
              "      <td>0</td>\n",
              "      <td>0</td>\n",
              "      <td>0</td>\n",
              "      <td>0</td>\n",
              "      <td>0</td>\n",
              "      <td>0</td>\n",
              "      <td>0</td>\n",
              "      <td>0</td>\n",
              "      <td>0</td>\n",
              "      <td>0</td>\n",
              "      <td>...</td>\n",
              "      <td>0</td>\n",
              "      <td>0</td>\n",
              "      <td>0</td>\n",
              "      <td>0</td>\n",
              "      <td>0</td>\n",
              "      <td>2</td>\n",
              "      <td>0</td>\n",
              "      <td>4</td>\n",
              "      <td>1</td>\n",
              "      <td>5982</td>\n",
              "    </tr>\n",
              "    <tr>\n",
              "      <th>24</th>\n",
              "      <td>0</td>\n",
              "      <td>0</td>\n",
              "      <td>0</td>\n",
              "      <td>0</td>\n",
              "      <td>0</td>\n",
              "      <td>0</td>\n",
              "      <td>0</td>\n",
              "      <td>0</td>\n",
              "      <td>0</td>\n",
              "      <td>0</td>\n",
              "      <td>...</td>\n",
              "      <td>0</td>\n",
              "      <td>0</td>\n",
              "      <td>0</td>\n",
              "      <td>0</td>\n",
              "      <td>0</td>\n",
              "      <td>2</td>\n",
              "      <td>0</td>\n",
              "      <td>4</td>\n",
              "      <td>1</td>\n",
              "      <td>11927</td>\n",
              "    </tr>\n",
              "    <tr>\n",
              "      <th>25</th>\n",
              "      <td>0</td>\n",
              "      <td>0</td>\n",
              "      <td>0</td>\n",
              "      <td>0</td>\n",
              "      <td>0</td>\n",
              "      <td>0</td>\n",
              "      <td>0</td>\n",
              "      <td>0</td>\n",
              "      <td>0</td>\n",
              "      <td>0</td>\n",
              "      <td>...</td>\n",
              "      <td>1</td>\n",
              "      <td>0</td>\n",
              "      <td>0</td>\n",
              "      <td>0</td>\n",
              "      <td>0</td>\n",
              "      <td>2</td>\n",
              "      <td>0</td>\n",
              "      <td>0</td>\n",
              "      <td>0</td>\n",
              "      <td>16662</td>\n",
              "    </tr>\n",
              "    <tr>\n",
              "      <th>26</th>\n",
              "      <td>0</td>\n",
              "      <td>0</td>\n",
              "      <td>0</td>\n",
              "      <td>0</td>\n",
              "      <td>0</td>\n",
              "      <td>0</td>\n",
              "      <td>0</td>\n",
              "      <td>0</td>\n",
              "      <td>0</td>\n",
              "      <td>0</td>\n",
              "      <td>...</td>\n",
              "      <td>1</td>\n",
              "      <td>0</td>\n",
              "      <td>0</td>\n",
              "      <td>0</td>\n",
              "      <td>0</td>\n",
              "      <td>2</td>\n",
              "      <td>0</td>\n",
              "      <td>0</td>\n",
              "      <td>0</td>\n",
              "      <td>5887</td>\n",
              "    </tr>\n",
              "    <tr>\n",
              "      <th>27</th>\n",
              "      <td>0</td>\n",
              "      <td>0</td>\n",
              "      <td>0</td>\n",
              "      <td>0</td>\n",
              "      <td>0</td>\n",
              "      <td>0</td>\n",
              "      <td>0</td>\n",
              "      <td>0</td>\n",
              "      <td>0</td>\n",
              "      <td>0</td>\n",
              "      <td>...</td>\n",
              "      <td>1</td>\n",
              "      <td>0</td>\n",
              "      <td>0</td>\n",
              "      <td>0</td>\n",
              "      <td>0</td>\n",
              "      <td>2</td>\n",
              "      <td>0</td>\n",
              "      <td>0</td>\n",
              "      <td>0</td>\n",
              "      <td>6973</td>\n",
              "    </tr>\n",
              "    <tr>\n",
              "      <th>28</th>\n",
              "      <td>0</td>\n",
              "      <td>0</td>\n",
              "      <td>0</td>\n",
              "      <td>0</td>\n",
              "      <td>0</td>\n",
              "      <td>0</td>\n",
              "      <td>0</td>\n",
              "      <td>0</td>\n",
              "      <td>0</td>\n",
              "      <td>0</td>\n",
              "      <td>...</td>\n",
              "      <td>1</td>\n",
              "      <td>0</td>\n",
              "      <td>0</td>\n",
              "      <td>0</td>\n",
              "      <td>0</td>\n",
              "      <td>2</td>\n",
              "      <td>0</td>\n",
              "      <td>0</td>\n",
              "      <td>0</td>\n",
              "      <td>5391</td>\n",
              "    </tr>\n",
              "    <tr>\n",
              "      <th>29</th>\n",
              "      <td>0</td>\n",
              "      <td>1</td>\n",
              "      <td>0</td>\n",
              "      <td>0</td>\n",
              "      <td>0</td>\n",
              "      <td>0</td>\n",
              "      <td>0</td>\n",
              "      <td>0</td>\n",
              "      <td>0</td>\n",
              "      <td>0</td>\n",
              "      <td>...</td>\n",
              "      <td>0</td>\n",
              "      <td>0</td>\n",
              "      <td>0</td>\n",
              "      <td>0</td>\n",
              "      <td>1</td>\n",
              "      <td>3</td>\n",
              "      <td>1</td>\n",
              "      <td>4</td>\n",
              "      <td>1</td>\n",
              "      <td>16352</td>\n",
              "    </tr>\n",
              "    <tr>\n",
              "      <th>...</th>\n",
              "      <td>...</td>\n",
              "      <td>...</td>\n",
              "      <td>...</td>\n",
              "      <td>...</td>\n",
              "      <td>...</td>\n",
              "      <td>...</td>\n",
              "      <td>...</td>\n",
              "      <td>...</td>\n",
              "      <td>...</td>\n",
              "      <td>...</td>\n",
              "      <td>...</td>\n",
              "      <td>...</td>\n",
              "      <td>...</td>\n",
              "      <td>...</td>\n",
              "      <td>...</td>\n",
              "      <td>...</td>\n",
              "      <td>...</td>\n",
              "      <td>...</td>\n",
              "      <td>...</td>\n",
              "      <td>...</td>\n",
              "      <td>...</td>\n",
              "    </tr>\n",
              "    <tr>\n",
              "      <th>537547</th>\n",
              "      <td>0</td>\n",
              "      <td>0</td>\n",
              "      <td>0</td>\n",
              "      <td>0</td>\n",
              "      <td>0</td>\n",
              "      <td>0</td>\n",
              "      <td>0</td>\n",
              "      <td>0</td>\n",
              "      <td>0</td>\n",
              "      <td>0</td>\n",
              "      <td>...</td>\n",
              "      <td>0</td>\n",
              "      <td>1</td>\n",
              "      <td>0</td>\n",
              "      <td>0</td>\n",
              "      <td>0</td>\n",
              "      <td>1</td>\n",
              "      <td>0</td>\n",
              "      <td>1</td>\n",
              "      <td>0</td>\n",
              "      <td>11543</td>\n",
              "    </tr>\n",
              "    <tr>\n",
              "      <th>537548</th>\n",
              "      <td>0</td>\n",
              "      <td>1</td>\n",
              "      <td>0</td>\n",
              "      <td>0</td>\n",
              "      <td>0</td>\n",
              "      <td>0</td>\n",
              "      <td>0</td>\n",
              "      <td>0</td>\n",
              "      <td>0</td>\n",
              "      <td>0</td>\n",
              "      <td>...</td>\n",
              "      <td>0</td>\n",
              "      <td>0</td>\n",
              "      <td>0</td>\n",
              "      <td>0</td>\n",
              "      <td>0</td>\n",
              "      <td>5</td>\n",
              "      <td>1</td>\n",
              "      <td>1</td>\n",
              "      <td>1</td>\n",
              "      <td>20924</td>\n",
              "    </tr>\n",
              "    <tr>\n",
              "      <th>537549</th>\n",
              "      <td>0</td>\n",
              "      <td>1</td>\n",
              "      <td>0</td>\n",
              "      <td>0</td>\n",
              "      <td>0</td>\n",
              "      <td>0</td>\n",
              "      <td>0</td>\n",
              "      <td>0</td>\n",
              "      <td>0</td>\n",
              "      <td>0</td>\n",
              "      <td>...</td>\n",
              "      <td>0</td>\n",
              "      <td>0</td>\n",
              "      <td>0</td>\n",
              "      <td>0</td>\n",
              "      <td>0</td>\n",
              "      <td>5</td>\n",
              "      <td>1</td>\n",
              "      <td>1</td>\n",
              "      <td>1</td>\n",
              "      <td>13082</td>\n",
              "    </tr>\n",
              "    <tr>\n",
              "      <th>537550</th>\n",
              "      <td>0</td>\n",
              "      <td>0</td>\n",
              "      <td>0</td>\n",
              "      <td>1</td>\n",
              "      <td>0</td>\n",
              "      <td>0</td>\n",
              "      <td>0</td>\n",
              "      <td>0</td>\n",
              "      <td>0</td>\n",
              "      <td>0</td>\n",
              "      <td>...</td>\n",
              "      <td>0</td>\n",
              "      <td>0</td>\n",
              "      <td>0</td>\n",
              "      <td>0</td>\n",
              "      <td>0</td>\n",
              "      <td>4</td>\n",
              "      <td>0</td>\n",
              "      <td>3</td>\n",
              "      <td>0</td>\n",
              "      <td>11658</td>\n",
              "    </tr>\n",
              "    <tr>\n",
              "      <th>537551</th>\n",
              "      <td>0</td>\n",
              "      <td>0</td>\n",
              "      <td>0</td>\n",
              "      <td>1</td>\n",
              "      <td>0</td>\n",
              "      <td>0</td>\n",
              "      <td>0</td>\n",
              "      <td>0</td>\n",
              "      <td>0</td>\n",
              "      <td>0</td>\n",
              "      <td>...</td>\n",
              "      <td>0</td>\n",
              "      <td>0</td>\n",
              "      <td>0</td>\n",
              "      <td>0</td>\n",
              "      <td>0</td>\n",
              "      <td>4</td>\n",
              "      <td>0</td>\n",
              "      <td>3</td>\n",
              "      <td>0</td>\n",
              "      <td>6863</td>\n",
              "    </tr>\n",
              "    <tr>\n",
              "      <th>537552</th>\n",
              "      <td>0</td>\n",
              "      <td>0</td>\n",
              "      <td>0</td>\n",
              "      <td>1</td>\n",
              "      <td>0</td>\n",
              "      <td>0</td>\n",
              "      <td>0</td>\n",
              "      <td>0</td>\n",
              "      <td>0</td>\n",
              "      <td>0</td>\n",
              "      <td>...</td>\n",
              "      <td>0</td>\n",
              "      <td>0</td>\n",
              "      <td>0</td>\n",
              "      <td>0</td>\n",
              "      <td>0</td>\n",
              "      <td>4</td>\n",
              "      <td>0</td>\n",
              "      <td>3</td>\n",
              "      <td>0</td>\n",
              "      <td>16415</td>\n",
              "    </tr>\n",
              "    <tr>\n",
              "      <th>537553</th>\n",
              "      <td>0</td>\n",
              "      <td>0</td>\n",
              "      <td>0</td>\n",
              "      <td>1</td>\n",
              "      <td>0</td>\n",
              "      <td>0</td>\n",
              "      <td>0</td>\n",
              "      <td>0</td>\n",
              "      <td>0</td>\n",
              "      <td>0</td>\n",
              "      <td>...</td>\n",
              "      <td>0</td>\n",
              "      <td>0</td>\n",
              "      <td>0</td>\n",
              "      <td>0</td>\n",
              "      <td>0</td>\n",
              "      <td>4</td>\n",
              "      <td>0</td>\n",
              "      <td>3</td>\n",
              "      <td>0</td>\n",
              "      <td>18526</td>\n",
              "    </tr>\n",
              "    <tr>\n",
              "      <th>537554</th>\n",
              "      <td>0</td>\n",
              "      <td>0</td>\n",
              "      <td>0</td>\n",
              "      <td>1</td>\n",
              "      <td>0</td>\n",
              "      <td>0</td>\n",
              "      <td>0</td>\n",
              "      <td>0</td>\n",
              "      <td>0</td>\n",
              "      <td>0</td>\n",
              "      <td>...</td>\n",
              "      <td>0</td>\n",
              "      <td>0</td>\n",
              "      <td>0</td>\n",
              "      <td>0</td>\n",
              "      <td>0</td>\n",
              "      <td>4</td>\n",
              "      <td>0</td>\n",
              "      <td>3</td>\n",
              "      <td>0</td>\n",
              "      <td>7099</td>\n",
              "    </tr>\n",
              "    <tr>\n",
              "      <th>537555</th>\n",
              "      <td>0</td>\n",
              "      <td>0</td>\n",
              "      <td>0</td>\n",
              "      <td>1</td>\n",
              "      <td>0</td>\n",
              "      <td>0</td>\n",
              "      <td>0</td>\n",
              "      <td>0</td>\n",
              "      <td>0</td>\n",
              "      <td>0</td>\n",
              "      <td>...</td>\n",
              "      <td>0</td>\n",
              "      <td>0</td>\n",
              "      <td>0</td>\n",
              "      <td>0</td>\n",
              "      <td>0</td>\n",
              "      <td>4</td>\n",
              "      <td>0</td>\n",
              "      <td>3</td>\n",
              "      <td>0</td>\n",
              "      <td>578</td>\n",
              "    </tr>\n",
              "    <tr>\n",
              "      <th>537556</th>\n",
              "      <td>0</td>\n",
              "      <td>0</td>\n",
              "      <td>0</td>\n",
              "      <td>0</td>\n",
              "      <td>0</td>\n",
              "      <td>0</td>\n",
              "      <td>0</td>\n",
              "      <td>0</td>\n",
              "      <td>0</td>\n",
              "      <td>0</td>\n",
              "      <td>...</td>\n",
              "      <td>0</td>\n",
              "      <td>0</td>\n",
              "      <td>0</td>\n",
              "      <td>1</td>\n",
              "      <td>0</td>\n",
              "      <td>1</td>\n",
              "      <td>-1</td>\n",
              "      <td>1</td>\n",
              "      <td>1</td>\n",
              "      <td>2183</td>\n",
              "    </tr>\n",
              "    <tr>\n",
              "      <th>537557</th>\n",
              "      <td>0</td>\n",
              "      <td>0</td>\n",
              "      <td>0</td>\n",
              "      <td>0</td>\n",
              "      <td>0</td>\n",
              "      <td>0</td>\n",
              "      <td>0</td>\n",
              "      <td>0</td>\n",
              "      <td>0</td>\n",
              "      <td>0</td>\n",
              "      <td>...</td>\n",
              "      <td>0</td>\n",
              "      <td>0</td>\n",
              "      <td>0</td>\n",
              "      <td>1</td>\n",
              "      <td>0</td>\n",
              "      <td>1</td>\n",
              "      <td>-1</td>\n",
              "      <td>1</td>\n",
              "      <td>1</td>\n",
              "      <td>12724</td>\n",
              "    </tr>\n",
              "    <tr>\n",
              "      <th>537558</th>\n",
              "      <td>0</td>\n",
              "      <td>0</td>\n",
              "      <td>0</td>\n",
              "      <td>0</td>\n",
              "      <td>0</td>\n",
              "      <td>0</td>\n",
              "      <td>0</td>\n",
              "      <td>0</td>\n",
              "      <td>0</td>\n",
              "      <td>0</td>\n",
              "      <td>...</td>\n",
              "      <td>0</td>\n",
              "      <td>0</td>\n",
              "      <td>0</td>\n",
              "      <td>1</td>\n",
              "      <td>0</td>\n",
              "      <td>1</td>\n",
              "      <td>-1</td>\n",
              "      <td>1</td>\n",
              "      <td>1</td>\n",
              "      <td>7796</td>\n",
              "    </tr>\n",
              "    <tr>\n",
              "      <th>537559</th>\n",
              "      <td>0</td>\n",
              "      <td>0</td>\n",
              "      <td>0</td>\n",
              "      <td>0</td>\n",
              "      <td>0</td>\n",
              "      <td>0</td>\n",
              "      <td>0</td>\n",
              "      <td>0</td>\n",
              "      <td>0</td>\n",
              "      <td>0</td>\n",
              "      <td>...</td>\n",
              "      <td>0</td>\n",
              "      <td>0</td>\n",
              "      <td>0</td>\n",
              "      <td>1</td>\n",
              "      <td>0</td>\n",
              "      <td>1</td>\n",
              "      <td>-1</td>\n",
              "      <td>1</td>\n",
              "      <td>1</td>\n",
              "      <td>7770</td>\n",
              "    </tr>\n",
              "    <tr>\n",
              "      <th>537560</th>\n",
              "      <td>0</td>\n",
              "      <td>0</td>\n",
              "      <td>0</td>\n",
              "      <td>0</td>\n",
              "      <td>0</td>\n",
              "      <td>0</td>\n",
              "      <td>0</td>\n",
              "      <td>0</td>\n",
              "      <td>0</td>\n",
              "      <td>0</td>\n",
              "      <td>...</td>\n",
              "      <td>0</td>\n",
              "      <td>0</td>\n",
              "      <td>0</td>\n",
              "      <td>1</td>\n",
              "      <td>0</td>\n",
              "      <td>1</td>\n",
              "      <td>-1</td>\n",
              "      <td>1</td>\n",
              "      <td>1</td>\n",
              "      <td>5940</td>\n",
              "    </tr>\n",
              "    <tr>\n",
              "      <th>537561</th>\n",
              "      <td>0</td>\n",
              "      <td>0</td>\n",
              "      <td>0</td>\n",
              "      <td>0</td>\n",
              "      <td>0</td>\n",
              "      <td>0</td>\n",
              "      <td>0</td>\n",
              "      <td>0</td>\n",
              "      <td>0</td>\n",
              "      <td>0</td>\n",
              "      <td>...</td>\n",
              "      <td>0</td>\n",
              "      <td>0</td>\n",
              "      <td>0</td>\n",
              "      <td>1</td>\n",
              "      <td>0</td>\n",
              "      <td>1</td>\n",
              "      <td>-1</td>\n",
              "      <td>1</td>\n",
              "      <td>1</td>\n",
              "      <td>7834</td>\n",
              "    </tr>\n",
              "    <tr>\n",
              "      <th>537562</th>\n",
              "      <td>0</td>\n",
              "      <td>0</td>\n",
              "      <td>0</td>\n",
              "      <td>0</td>\n",
              "      <td>0</td>\n",
              "      <td>0</td>\n",
              "      <td>0</td>\n",
              "      <td>0</td>\n",
              "      <td>0</td>\n",
              "      <td>0</td>\n",
              "      <td>...</td>\n",
              "      <td>0</td>\n",
              "      <td>0</td>\n",
              "      <td>0</td>\n",
              "      <td>1</td>\n",
              "      <td>0</td>\n",
              "      <td>1</td>\n",
              "      <td>-1</td>\n",
              "      <td>1</td>\n",
              "      <td>1</td>\n",
              "      <td>11508</td>\n",
              "    </tr>\n",
              "    <tr>\n",
              "      <th>537563</th>\n",
              "      <td>0</td>\n",
              "      <td>0</td>\n",
              "      <td>0</td>\n",
              "      <td>0</td>\n",
              "      <td>0</td>\n",
              "      <td>0</td>\n",
              "      <td>0</td>\n",
              "      <td>0</td>\n",
              "      <td>0</td>\n",
              "      <td>0</td>\n",
              "      <td>...</td>\n",
              "      <td>0</td>\n",
              "      <td>0</td>\n",
              "      <td>0</td>\n",
              "      <td>1</td>\n",
              "      <td>0</td>\n",
              "      <td>1</td>\n",
              "      <td>-1</td>\n",
              "      <td>1</td>\n",
              "      <td>1</td>\n",
              "      <td>6074</td>\n",
              "    </tr>\n",
              "    <tr>\n",
              "      <th>537564</th>\n",
              "      <td>0</td>\n",
              "      <td>0</td>\n",
              "      <td>0</td>\n",
              "      <td>0</td>\n",
              "      <td>0</td>\n",
              "      <td>0</td>\n",
              "      <td>0</td>\n",
              "      <td>0</td>\n",
              "      <td>0</td>\n",
              "      <td>0</td>\n",
              "      <td>...</td>\n",
              "      <td>0</td>\n",
              "      <td>0</td>\n",
              "      <td>0</td>\n",
              "      <td>1</td>\n",
              "      <td>0</td>\n",
              "      <td>1</td>\n",
              "      <td>-1</td>\n",
              "      <td>1</td>\n",
              "      <td>1</td>\n",
              "      <td>7084</td>\n",
              "    </tr>\n",
              "    <tr>\n",
              "      <th>537565</th>\n",
              "      <td>0</td>\n",
              "      <td>0</td>\n",
              "      <td>0</td>\n",
              "      <td>0</td>\n",
              "      <td>0</td>\n",
              "      <td>0</td>\n",
              "      <td>0</td>\n",
              "      <td>0</td>\n",
              "      <td>0</td>\n",
              "      <td>0</td>\n",
              "      <td>...</td>\n",
              "      <td>0</td>\n",
              "      <td>0</td>\n",
              "      <td>0</td>\n",
              "      <td>1</td>\n",
              "      <td>0</td>\n",
              "      <td>1</td>\n",
              "      <td>-1</td>\n",
              "      <td>1</td>\n",
              "      <td>1</td>\n",
              "      <td>7934</td>\n",
              "    </tr>\n",
              "    <tr>\n",
              "      <th>537566</th>\n",
              "      <td>0</td>\n",
              "      <td>0</td>\n",
              "      <td>0</td>\n",
              "      <td>0</td>\n",
              "      <td>0</td>\n",
              "      <td>0</td>\n",
              "      <td>0</td>\n",
              "      <td>0</td>\n",
              "      <td>0</td>\n",
              "      <td>0</td>\n",
              "      <td>...</td>\n",
              "      <td>0</td>\n",
              "      <td>0</td>\n",
              "      <td>0</td>\n",
              "      <td>1</td>\n",
              "      <td>0</td>\n",
              "      <td>1</td>\n",
              "      <td>-1</td>\n",
              "      <td>1</td>\n",
              "      <td>1</td>\n",
              "      <td>5350</td>\n",
              "    </tr>\n",
              "    <tr>\n",
              "      <th>537567</th>\n",
              "      <td>0</td>\n",
              "      <td>0</td>\n",
              "      <td>0</td>\n",
              "      <td>0</td>\n",
              "      <td>0</td>\n",
              "      <td>0</td>\n",
              "      <td>0</td>\n",
              "      <td>0</td>\n",
              "      <td>0</td>\n",
              "      <td>0</td>\n",
              "      <td>...</td>\n",
              "      <td>0</td>\n",
              "      <td>0</td>\n",
              "      <td>0</td>\n",
              "      <td>1</td>\n",
              "      <td>0</td>\n",
              "      <td>1</td>\n",
              "      <td>-1</td>\n",
              "      <td>1</td>\n",
              "      <td>1</td>\n",
              "      <td>1994</td>\n",
              "    </tr>\n",
              "    <tr>\n",
              "      <th>537568</th>\n",
              "      <td>0</td>\n",
              "      <td>0</td>\n",
              "      <td>0</td>\n",
              "      <td>0</td>\n",
              "      <td>0</td>\n",
              "      <td>0</td>\n",
              "      <td>0</td>\n",
              "      <td>0</td>\n",
              "      <td>0</td>\n",
              "      <td>0</td>\n",
              "      <td>...</td>\n",
              "      <td>0</td>\n",
              "      <td>0</td>\n",
              "      <td>0</td>\n",
              "      <td>1</td>\n",
              "      <td>0</td>\n",
              "      <td>1</td>\n",
              "      <td>-1</td>\n",
              "      <td>1</td>\n",
              "      <td>1</td>\n",
              "      <td>5930</td>\n",
              "    </tr>\n",
              "    <tr>\n",
              "      <th>537569</th>\n",
              "      <td>0</td>\n",
              "      <td>0</td>\n",
              "      <td>0</td>\n",
              "      <td>0</td>\n",
              "      <td>0</td>\n",
              "      <td>0</td>\n",
              "      <td>0</td>\n",
              "      <td>0</td>\n",
              "      <td>0</td>\n",
              "      <td>0</td>\n",
              "      <td>...</td>\n",
              "      <td>0</td>\n",
              "      <td>0</td>\n",
              "      <td>0</td>\n",
              "      <td>1</td>\n",
              "      <td>0</td>\n",
              "      <td>1</td>\n",
              "      <td>-1</td>\n",
              "      <td>1</td>\n",
              "      <td>1</td>\n",
              "      <td>7042</td>\n",
              "    </tr>\n",
              "    <tr>\n",
              "      <th>537570</th>\n",
              "      <td>0</td>\n",
              "      <td>0</td>\n",
              "      <td>0</td>\n",
              "      <td>0</td>\n",
              "      <td>0</td>\n",
              "      <td>0</td>\n",
              "      <td>0</td>\n",
              "      <td>0</td>\n",
              "      <td>0</td>\n",
              "      <td>0</td>\n",
              "      <td>...</td>\n",
              "      <td>0</td>\n",
              "      <td>0</td>\n",
              "      <td>0</td>\n",
              "      <td>1</td>\n",
              "      <td>0</td>\n",
              "      <td>1</td>\n",
              "      <td>-1</td>\n",
              "      <td>1</td>\n",
              "      <td>1</td>\n",
              "      <td>15491</td>\n",
              "    </tr>\n",
              "    <tr>\n",
              "      <th>537571</th>\n",
              "      <td>0</td>\n",
              "      <td>0</td>\n",
              "      <td>0</td>\n",
              "      <td>0</td>\n",
              "      <td>0</td>\n",
              "      <td>0</td>\n",
              "      <td>0</td>\n",
              "      <td>0</td>\n",
              "      <td>0</td>\n",
              "      <td>0</td>\n",
              "      <td>...</td>\n",
              "      <td>0</td>\n",
              "      <td>0</td>\n",
              "      <td>0</td>\n",
              "      <td>0</td>\n",
              "      <td>0</td>\n",
              "      <td>3</td>\n",
              "      <td>0</td>\n",
              "      <td>1</td>\n",
              "      <td>0</td>\n",
              "      <td>11852</td>\n",
              "    </tr>\n",
              "    <tr>\n",
              "      <th>537572</th>\n",
              "      <td>0</td>\n",
              "      <td>0</td>\n",
              "      <td>0</td>\n",
              "      <td>0</td>\n",
              "      <td>0</td>\n",
              "      <td>0</td>\n",
              "      <td>0</td>\n",
              "      <td>0</td>\n",
              "      <td>0</td>\n",
              "      <td>0</td>\n",
              "      <td>...</td>\n",
              "      <td>0</td>\n",
              "      <td>0</td>\n",
              "      <td>0</td>\n",
              "      <td>0</td>\n",
              "      <td>0</td>\n",
              "      <td>3</td>\n",
              "      <td>0</td>\n",
              "      <td>1</td>\n",
              "      <td>0</td>\n",
              "      <td>11664</td>\n",
              "    </tr>\n",
              "    <tr>\n",
              "      <th>537573</th>\n",
              "      <td>0</td>\n",
              "      <td>0</td>\n",
              "      <td>0</td>\n",
              "      <td>0</td>\n",
              "      <td>0</td>\n",
              "      <td>0</td>\n",
              "      <td>0</td>\n",
              "      <td>0</td>\n",
              "      <td>0</td>\n",
              "      <td>0</td>\n",
              "      <td>...</td>\n",
              "      <td>0</td>\n",
              "      <td>0</td>\n",
              "      <td>0</td>\n",
              "      <td>0</td>\n",
              "      <td>0</td>\n",
              "      <td>3</td>\n",
              "      <td>0</td>\n",
              "      <td>1</td>\n",
              "      <td>0</td>\n",
              "      <td>19196</td>\n",
              "    </tr>\n",
              "    <tr>\n",
              "      <th>537574</th>\n",
              "      <td>0</td>\n",
              "      <td>0</td>\n",
              "      <td>0</td>\n",
              "      <td>0</td>\n",
              "      <td>0</td>\n",
              "      <td>0</td>\n",
              "      <td>0</td>\n",
              "      <td>0</td>\n",
              "      <td>0</td>\n",
              "      <td>0</td>\n",
              "      <td>...</td>\n",
              "      <td>0</td>\n",
              "      <td>0</td>\n",
              "      <td>0</td>\n",
              "      <td>0</td>\n",
              "      <td>0</td>\n",
              "      <td>3</td>\n",
              "      <td>0</td>\n",
              "      <td>1</td>\n",
              "      <td>0</td>\n",
              "      <td>8043</td>\n",
              "    </tr>\n",
              "    <tr>\n",
              "      <th>537575</th>\n",
              "      <td>0</td>\n",
              "      <td>0</td>\n",
              "      <td>0</td>\n",
              "      <td>0</td>\n",
              "      <td>0</td>\n",
              "      <td>0</td>\n",
              "      <td>0</td>\n",
              "      <td>0</td>\n",
              "      <td>0</td>\n",
              "      <td>0</td>\n",
              "      <td>...</td>\n",
              "      <td>0</td>\n",
              "      <td>0</td>\n",
              "      <td>0</td>\n",
              "      <td>0</td>\n",
              "      <td>0</td>\n",
              "      <td>3</td>\n",
              "      <td>0</td>\n",
              "      <td>1</td>\n",
              "      <td>0</td>\n",
              "      <td>7172</td>\n",
              "    </tr>\n",
              "    <tr>\n",
              "      <th>537576</th>\n",
              "      <td>0</td>\n",
              "      <td>0</td>\n",
              "      <td>0</td>\n",
              "      <td>0</td>\n",
              "      <td>0</td>\n",
              "      <td>0</td>\n",
              "      <td>0</td>\n",
              "      <td>0</td>\n",
              "      <td>0</td>\n",
              "      <td>0</td>\n",
              "      <td>...</td>\n",
              "      <td>0</td>\n",
              "      <td>0</td>\n",
              "      <td>0</td>\n",
              "      <td>0</td>\n",
              "      <td>0</td>\n",
              "      <td>3</td>\n",
              "      <td>0</td>\n",
              "      <td>1</td>\n",
              "      <td>0</td>\n",
              "      <td>6875</td>\n",
              "    </tr>\n",
              "  </tbody>\n",
              "</table>\n",
              "<p>537577 rows × 27 columns</p>\n",
              "</div>"
            ],
            "text/plain": [
              "        0  1  2  3  4  5  6  7  8  9  ...  17  18  19  20  Gender  Age  \\\n",
              "0       0  0  0  0  0  0  0  0  0  0  ...   0   0   0   0       1    0   \n",
              "1       0  0  0  0  0  0  0  0  0  0  ...   0   0   0   0       1    0   \n",
              "2       0  0  0  0  0  0  0  0  0  0  ...   0   0   0   0       1    0   \n",
              "3       0  0  0  0  0  0  0  0  0  0  ...   0   0   0   0       1    0   \n",
              "4       0  0  0  0  0  0  0  0  0  0  ...   0   0   0   0       0    6   \n",
              "5       0  0  0  0  0  0  0  0  0  0  ...   0   0   0   0       0    2   \n",
              "6       0  0  0  0  0  0  0  1  0  0  ...   0   0   0   0       0    4   \n",
              "7       0  0  0  0  0  0  0  1  0  0  ...   0   0   0   0       0    4   \n",
              "8       0  0  0  0  0  0  0  1  0  0  ...   0   0   0   0       0    4   \n",
              "9       0  0  0  0  0  0  0  0  0  0  ...   0   0   0   1       0    2   \n",
              "10      0  0  0  0  0  0  0  0  0  0  ...   0   0   0   1       0    2   \n",
              "11      0  0  0  0  0  0  0  0  0  0  ...   0   0   0   1       0    2   \n",
              "12      0  0  0  0  0  0  0  0  0  0  ...   0   0   0   1       0    2   \n",
              "13      0  0  0  0  0  0  0  0  0  0  ...   0   0   0   1       0    2   \n",
              "14      0  0  0  0  0  0  0  0  0  1  ...   0   0   0   0       1    5   \n",
              "15      0  0  0  0  0  0  0  0  0  1  ...   0   0   0   0       1    5   \n",
              "16      0  0  0  0  0  0  0  0  0  1  ...   0   0   0   0       1    5   \n",
              "17      0  0  0  0  0  0  0  0  0  1  ...   0   0   0   0       1    5   \n",
              "18      0  1  0  0  0  0  0  0  0  0  ...   0   0   0   0       0    3   \n",
              "19      0  0  0  0  0  0  0  0  0  0  ...   0   0   0   0       0    2   \n",
              "20      0  0  0  0  0  0  0  0  0  0  ...   0   0   0   0       0    2   \n",
              "21      0  0  0  0  0  0  0  0  0  0  ...   0   0   0   0       0    2   \n",
              "22      0  0  0  0  0  0  0  0  0  0  ...   0   0   0   0       0    2   \n",
              "23      0  0  0  0  0  0  0  0  0  0  ...   0   0   0   0       0    2   \n",
              "24      0  0  0  0  0  0  0  0  0  0  ...   0   0   0   0       0    2   \n",
              "25      0  0  0  0  0  0  0  0  0  0  ...   1   0   0   0       0    2   \n",
              "26      0  0  0  0  0  0  0  0  0  0  ...   1   0   0   0       0    2   \n",
              "27      0  0  0  0  0  0  0  0  0  0  ...   1   0   0   0       0    2   \n",
              "28      0  0  0  0  0  0  0  0  0  0  ...   1   0   0   0       0    2   \n",
              "29      0  1  0  0  0  0  0  0  0  0  ...   0   0   0   0       1    3   \n",
              "...    .. .. .. .. .. .. .. .. .. ..  ...  ..  ..  ..  ..     ...  ...   \n",
              "537547  0  0  0  0  0  0  0  0  0  0  ...   0   1   0   0       0    1   \n",
              "537548  0  1  0  0  0  0  0  0  0  0  ...   0   0   0   0       0    5   \n",
              "537549  0  1  0  0  0  0  0  0  0  0  ...   0   0   0   0       0    5   \n",
              "537550  0  0  0  1  0  0  0  0  0  0  ...   0   0   0   0       0    4   \n",
              "537551  0  0  0  1  0  0  0  0  0  0  ...   0   0   0   0       0    4   \n",
              "537552  0  0  0  1  0  0  0  0  0  0  ...   0   0   0   0       0    4   \n",
              "537553  0  0  0  1  0  0  0  0  0  0  ...   0   0   0   0       0    4   \n",
              "537554  0  0  0  1  0  0  0  0  0  0  ...   0   0   0   0       0    4   \n",
              "537555  0  0  0  1  0  0  0  0  0  0  ...   0   0   0   0       0    4   \n",
              "537556  0  0  0  0  0  0  0  0  0  0  ...   0   0   0   1       0    1   \n",
              "537557  0  0  0  0  0  0  0  0  0  0  ...   0   0   0   1       0    1   \n",
              "537558  0  0  0  0  0  0  0  0  0  0  ...   0   0   0   1       0    1   \n",
              "537559  0  0  0  0  0  0  0  0  0  0  ...   0   0   0   1       0    1   \n",
              "537560  0  0  0  0  0  0  0  0  0  0  ...   0   0   0   1       0    1   \n",
              "537561  0  0  0  0  0  0  0  0  0  0  ...   0   0   0   1       0    1   \n",
              "537562  0  0  0  0  0  0  0  0  0  0  ...   0   0   0   1       0    1   \n",
              "537563  0  0  0  0  0  0  0  0  0  0  ...   0   0   0   1       0    1   \n",
              "537564  0  0  0  0  0  0  0  0  0  0  ...   0   0   0   1       0    1   \n",
              "537565  0  0  0  0  0  0  0  0  0  0  ...   0   0   0   1       0    1   \n",
              "537566  0  0  0  0  0  0  0  0  0  0  ...   0   0   0   1       0    1   \n",
              "537567  0  0  0  0  0  0  0  0  0  0  ...   0   0   0   1       0    1   \n",
              "537568  0  0  0  0  0  0  0  0  0  0  ...   0   0   0   1       0    1   \n",
              "537569  0  0  0  0  0  0  0  0  0  0  ...   0   0   0   1       0    1   \n",
              "537570  0  0  0  0  0  0  0  0  0  0  ...   0   0   0   1       0    1   \n",
              "537571  0  0  0  0  0  0  0  0  0  0  ...   0   0   0   0       0    3   \n",
              "537572  0  0  0  0  0  0  0  0  0  0  ...   0   0   0   0       0    3   \n",
              "537573  0  0  0  0  0  0  0  0  0  0  ...   0   0   0   0       0    3   \n",
              "537574  0  0  0  0  0  0  0  0  0  0  ...   0   0   0   0       0    3   \n",
              "537575  0  0  0  0  0  0  0  0  0  0  ...   0   0   0   0       0    3   \n",
              "537576  0  0  0  0  0  0  0  0  0  0  ...   0   0   0   0       0    3   \n",
              "\n",
              "        City_Category  Stay_In_Current_City_Years  Marital_Status  Purchase  \n",
              "0                  -1                           2               0      8370  \n",
              "1                  -1                           2               0     15200  \n",
              "2                  -1                           2               0      1422  \n",
              "3                  -1                           2               0      1057  \n",
              "4                   0                           4               0      7969  \n",
              "5                  -1                           3               0     15227  \n",
              "6                   1                           2               1     19215  \n",
              "7                   1                           2               1     15854  \n",
              "8                   1                           2               1     15686  \n",
              "9                  -1                           1               1      7871  \n",
              "10                 -1                           1               1      5254  \n",
              "11                 -1                           1               1      3957  \n",
              "12                 -1                           1               1      6073  \n",
              "13                 -1                           1               1     15665  \n",
              "14                 -1                           1               0      5378  \n",
              "15                 -1                           1               0      2079  \n",
              "16                 -1                           1               0     13055  \n",
              "17                 -1                           1               0      8851  \n",
              "18                  1                           1               1     11788  \n",
              "19                  0                           4               1     19614  \n",
              "20                  0                           4               1      8584  \n",
              "21                  0                           4               1      9872  \n",
              "22                  0                           4               1      9743  \n",
              "23                  0                           4               1      5982  \n",
              "24                  0                           4               1     11927  \n",
              "25                  0                           0               0     16662  \n",
              "26                  0                           0               0      5887  \n",
              "27                  0                           0               0      6973  \n",
              "28                  0                           0               0      5391  \n",
              "29                  1                           4               1     16352  \n",
              "...               ...                         ...             ...       ...  \n",
              "537547              0                           1               0     11543  \n",
              "537548              1                           1               1     20924  \n",
              "537549              1                           1               1     13082  \n",
              "537550              0                           3               0     11658  \n",
              "537551              0                           3               0      6863  \n",
              "537552              0                           3               0     16415  \n",
              "537553              0                           3               0     18526  \n",
              "537554              0                           3               0      7099  \n",
              "537555              0                           3               0       578  \n",
              "537556             -1                           1               1      2183  \n",
              "537557             -1                           1               1     12724  \n",
              "537558             -1                           1               1      7796  \n",
              "537559             -1                           1               1      7770  \n",
              "537560             -1                           1               1      5940  \n",
              "537561             -1                           1               1      7834  \n",
              "537562             -1                           1               1     11508  \n",
              "537563             -1                           1               1      6074  \n",
              "537564             -1                           1               1      7084  \n",
              "537565             -1                           1               1      7934  \n",
              "537566             -1                           1               1      5350  \n",
              "537567             -1                           1               1      1994  \n",
              "537568             -1                           1               1      5930  \n",
              "537569             -1                           1               1      7042  \n",
              "537570             -1                           1               1     15491  \n",
              "537571              0                           1               0     11852  \n",
              "537572              0                           1               0     11664  \n",
              "537573              0                           1               0     19196  \n",
              "537574              0                           1               0      8043  \n",
              "537575              0                           1               0      7172  \n",
              "537576              0                           1               0      6875  \n",
              "\n",
              "[537577 rows x 27 columns]"
            ]
          },
          "metadata": {
            "tags": []
          },
          "execution_count": 13
        }
      ]
    },
    {
      "metadata": {
        "id": "54BbL-iiQo1x",
        "colab_type": "code",
        "outputId": "a89315b9-2a4c-4667-a69e-f3cf61b5e4f1",
        "colab": {
          "base_uri": "https://localhost:8080/",
          "height": 35
        }
      },
      "cell_type": "code",
      "source": [
        "data_pre.shape"
      ],
      "execution_count": 0,
      "outputs": [
        {
          "output_type": "execute_result",
          "data": {
            "text/plain": [
              "(537577, 27)"
            ]
          },
          "metadata": {
            "tags": []
          },
          "execution_count": 14
        }
      ]
    },
    {
      "metadata": {
        "id": "wj-HxXHsQqcD",
        "colab_type": "text"
      },
      "cell_type": "markdown",
      "source": [
        "Ahora nuestra data queda solo con valores númericos y con un total de 26 atributos para realizar la regresión."
      ]
    },
    {
      "metadata": {
        "id": "w5SKnagw9WeI",
        "colab_type": "text"
      },
      "cell_type": "markdown",
      "source": [
        "## 1.d Separación de datos\n",
        "\n",
        "Como toda técnica de predicción, debemos separar los datos en 3 sets respectivos: entrenamiento (con el cual se realiza el ajuste del modelo), validación (se ve el *score* obtenido por el modelo después de entrenar) y test (set objetivo después de las validaciones).  Se realiza la partición en porcenteajes de 75% 15% y 10% respectivamente para estos conjuntos."
      ]
    },
    {
      "metadata": {
        "id": "qCuYEDTv9zdM",
        "colab_type": "code",
        "colab": {}
      },
      "cell_type": "code",
      "source": [
        "data_pre_train, data_pre_temp = train_test_split(data_pre, test_size= 0.25)\n",
        "data_pre_val, data_pre_test = train_test_split(data_pre_temp, test_size= 0.4)\n",
        "y_pre_train = data_pre_train.pop('Purchase').values\n",
        "y_pre_val = data_pre_val.pop('Purchase').values\n",
        "y_pre_test = data_pre_test.pop('Purchase').values"
      ],
      "execution_count": 0,
      "outputs": []
    },
    {
      "metadata": {
        "id": "qF4a7nZMJSPT",
        "colab_type": "code",
        "colab": {}
      },
      "cell_type": "code",
      "source": [
        "size_train = len(y_pre_train)\n",
        "size_val = len(y_pre_val)\n",
        "size_test = len(y_pre_test)\n",
        "size_total = size_train + size_val + size_test"
      ],
      "execution_count": 0,
      "outputs": []
    },
    {
      "metadata": {
        "id": "QYQ43qC9Jek6",
        "colab_type": "code",
        "outputId": "7cb3d245-05df-40eb-a86a-3b685e6ab0d9",
        "colab": {
          "base_uri": "https://localhost:8080/",
          "height": 71
        }
      },
      "cell_type": "code",
      "source": [
        "print(\"Tamaño set de entrenamiento: \" + str(size_train) +\"| Y su proporción: \" + str(size_train/size_total))\n",
        "print(\"Tamaño set de validación: \" + str(size_val) +\"| Y su proporción: \" + str(size_val/size_total))\n",
        "print(\"Tamaño set de pruebas/test: \" + str(size_test) +\"| Y su proporción: \" + str(size_test/size_total))"
      ],
      "execution_count": 0,
      "outputs": [
        {
          "output_type": "stream",
          "text": [
            "Tamaño set de entrenamiento: 403182| Y su proporción: 0.749998604851026\n",
            "Tamaño set de validación: 80637| Y su proporción: 0.15000083708938441\n",
            "Tamaño set de pruebas/test: 53758| Y su proporción: 0.1000005580595896\n"
          ],
          "name": "stdout"
        }
      ]
    },
    {
      "metadata": {
        "id": "btnXDeT1Rbfd",
        "colab_type": "text"
      },
      "cell_type": "markdown",
      "source": [
        "  La librería realiza la separación adecuada de datos."
      ]
    },
    {
      "metadata": {
        "id": "-c086OFtJ60F",
        "colab_type": "text"
      },
      "cell_type": "markdown",
      "source": [
        "## 1.e Estandarización\n",
        "\n",
        "Ahora una buena practica antes de entrenar el modelo, es estandarizar los datos. Dado que reduce la media a 0 y la desviación estandar a 1 para cada columna. En otras palabras, se desea poner los datos en la misma escala sin embargo esto no asegura mejorar los resultados. Por otra parte no es necesario estandarizar los datos de target dado que solo se estaría comparando con los mismos datos y la operación del calculo de la regresión lineal no se vería afectada.\n",
        "\n",
        "$$ \\hat{x_i} = \\frac{x_i - {\\mu_i}}{\\sigma_i} $$"
      ]
    },
    {
      "metadata": {
        "id": "C9iLxQDUK9Rr",
        "colab_type": "code",
        "outputId": "56c8dc56-6e6d-4c1c-a22f-7c31aa980339",
        "colab": {
          "base_uri": "https://localhost:8080/",
          "height": 127
        }
      },
      "cell_type": "code",
      "source": [
        "scaler_x = StandardScaler()\n",
        "scaler_x.fit(data_pre_train)\n",
        "scaler_y = StandardScaler()\n",
        "scaler_y.fit(y_pre_train.reshape(-1, 1))\n",
        "#scaler_x.transform(data_pre_train)"
      ],
      "execution_count": 0,
      "outputs": [
        {
          "output_type": "stream",
          "text": [
            "/usr/local/lib/python3.6/dist-packages/sklearn/preprocessing/data.py:645: DataConversionWarning: Data with input dtype uint8, int64 were all converted to float64 by StandardScaler.\n",
            "  return self.partial_fit(X, y)\n",
            "/usr/local/lib/python3.6/dist-packages/sklearn/utils/validation.py:595: DataConversionWarning: Data with input dtype int64 was converted to float64 by StandardScaler.\n",
            "  warnings.warn(msg, DataConversionWarning)\n"
          ],
          "name": "stderr"
        },
        {
          "output_type": "execute_result",
          "data": {
            "text/plain": [
              "StandardScaler(copy=True, with_mean=True, with_std=True)"
            ]
          },
          "metadata": {
            "tags": []
          },
          "execution_count": 18
        }
      ]
    },
    {
      "metadata": {
        "id": "us2FeOFOMITy",
        "colab_type": "code",
        "outputId": "2bd3caa2-a4f5-4f4b-b412-36f68712b868",
        "colab": {
          "base_uri": "https://localhost:8080/",
          "height": 253
        }
      },
      "cell_type": "code",
      "source": [
        "#escalamiento para cada set\n",
        "x_train = scaler_x.transform(data_pre_train)\n",
        "x_val = scaler_x.transform(data_pre_val)\n",
        "x_test = scaler_x.transform(data_pre_test)\n",
        "\n",
        "y_train = scaler_y.transform(y_pre_train.reshape(-1, 1))\n",
        "y_val = scaler_y.transform(y_pre_val.reshape(-1, 1))\n",
        "y_test = scaler_y.transform(y_pre_test.reshape(-1, 1))"
      ],
      "execution_count": 0,
      "outputs": [
        {
          "output_type": "stream",
          "text": [
            "/usr/local/lib/python3.6/dist-packages/ipykernel_launcher.py:2: DataConversionWarning: Data with input dtype uint8, int64 were all converted to float64 by StandardScaler.\n",
            "  \n",
            "/usr/local/lib/python3.6/dist-packages/ipykernel_launcher.py:3: DataConversionWarning: Data with input dtype uint8, int64 were all converted to float64 by StandardScaler.\n",
            "  This is separate from the ipykernel package so we can avoid doing imports until\n",
            "/usr/local/lib/python3.6/dist-packages/ipykernel_launcher.py:4: DataConversionWarning: Data with input dtype uint8, int64 were all converted to float64 by StandardScaler.\n",
            "  after removing the cwd from sys.path.\n",
            "/usr/local/lib/python3.6/dist-packages/sklearn/utils/validation.py:595: DataConversionWarning: Data with input dtype int64 was converted to float64 by StandardScaler.\n",
            "  warnings.warn(msg, DataConversionWarning)\n",
            "/usr/local/lib/python3.6/dist-packages/sklearn/utils/validation.py:595: DataConversionWarning: Data with input dtype int64 was converted to float64 by StandardScaler.\n",
            "  warnings.warn(msg, DataConversionWarning)\n",
            "/usr/local/lib/python3.6/dist-packages/sklearn/utils/validation.py:595: DataConversionWarning: Data with input dtype int64 was converted to float64 by StandardScaler.\n",
            "  warnings.warn(msg, DataConversionWarning)\n"
          ],
          "name": "stderr"
        }
      ]
    },
    {
      "metadata": {
        "id": "6wfGyIvfH5sc",
        "colab_type": "code",
        "outputId": "c3acee3e-8bfb-44bc-b15d-0030424d509f",
        "colab": {
          "base_uri": "https://localhost:8080/",
          "height": 431
        }
      },
      "cell_type": "code",
      "source": [
        "print(\"Primera fila no-estandarizada: \" )\n",
        "print(data_pre_train.values)\n",
        "print(\"===========================\")\n",
        "print(\"Primera fila estandarizada: \" )\n",
        "print(x_train)"
      ],
      "execution_count": 0,
      "outputs": [
        {
          "output_type": "stream",
          "text": [
            "Primera fila no-estandarizada: \n",
            "[[ 1  0  0 ...  1  1  0]\n",
            " [ 0  0  0 ... -1  0  0]\n",
            " [ 0  0  0 ... -1  1  1]\n",
            " ...\n",
            " [ 1  0  0 ...  1  3  0]\n",
            " [ 0  0  0 ... -1  1  0]\n",
            " [ 0  0  0 ...  0  1  1]]\n",
            "===========================\n",
            "Primera fila estandarizada: \n",
            "[[ 2.62733612 -0.30520907 -0.22530058 ...  1.037258   -0.66682372\n",
            "  -0.83153778]\n",
            " [-0.38061365 -0.30520907 -0.22530058 ... -1.41085474 -1.44243617\n",
            "  -0.83153778]\n",
            " [-0.38061365 -0.30520907 -0.22530058 ... -1.41085474 -0.66682372\n",
            "   1.20259117]\n",
            " ...\n",
            " [ 2.62733612 -0.30520907 -0.22530058 ...  1.037258    0.88440119\n",
            "  -0.83153778]\n",
            " [-0.38061365 -0.30520907 -0.22530058 ... -1.41085474 -0.66682372\n",
            "  -0.83153778]\n",
            " [-0.38061365 -0.30520907 -0.22530058 ... -0.18679837 -0.66682372\n",
            "   1.20259117]]\n"
          ],
          "name": "stdout"
        }
      ]
    },
    {
      "metadata": {
        "id": "gdqXsWaET8sr",
        "colab_type": "text"
      },
      "cell_type": "markdown",
      "source": [
        "Notamos que para las columnas *dummies* quizás hubiera sido una decisión acertada dejarlas fuera de la estandarización dada su naturaleza binaria. "
      ]
    },
    {
      "metadata": {
        "id": "lVPlDf4vMtyj",
        "colab_type": "code",
        "outputId": "939c0b99-766f-4e11-888b-1c39f7ff11ca",
        "colab": {
          "base_uri": "https://localhost:8080/",
          "height": 143
        }
      },
      "cell_type": "code",
      "source": [
        "print(\"Medias por atributo: \")\n",
        "scaler_x.mean_"
      ],
      "execution_count": 0,
      "outputs": [
        {
          "output_type": "stream",
          "text": [
            "Medias por atributo: \n"
          ],
          "name": "stdout"
        },
        {
          "output_type": "execute_result",
          "data": {
            "text/plain": [
              "array([0.12653591, 0.08521462, 0.04830821, 0.03261802, 0.13226285,\n",
              "       0.0221364 , 0.03675511, 0.10722949, 0.00282503, 0.01136459,\n",
              "       0.0235576 , 0.02111701, 0.05643853, 0.01389199, 0.04967484,\n",
              "       0.0219479 , 0.04635128, 0.07269174, 0.01212108, 0.01547936,\n",
              "       0.06147844, 0.24554668, 2.49262864, 0.15260602, 1.85973828,\n",
              "       0.40879305])"
            ]
          },
          "metadata": {
            "tags": []
          },
          "execution_count": 21
        }
      ]
    },
    {
      "metadata": {
        "id": "I3UpZYqEM9kz",
        "colab_type": "code",
        "outputId": "f293a6df-d792-4da9-c59a-0f526bac54e5",
        "colab": {
          "base_uri": "https://localhost:8080/",
          "height": 143
        }
      },
      "cell_type": "code",
      "source": [
        "print(\"Variación por atributo: \")\n",
        "scaler_x.var_"
      ],
      "execution_count": 0,
      "outputs": [
        {
          "output_type": "stream",
          "text": [
            "Variación por atributo: \n"
          ],
          "name": "stdout"
        },
        {
          "output_type": "execute_result",
          "data": {
            "text/plain": [
              "array([0.11052457, 0.07795309, 0.04597453, 0.03155409, 0.11476939,\n",
              "       0.02164638, 0.03540417, 0.09573133, 0.00281705, 0.01123544,\n",
              "       0.02300264, 0.02067109, 0.05325322, 0.013699  , 0.04720725,\n",
              "       0.02146619, 0.04420283, 0.06740765, 0.01197416, 0.01523975,\n",
              "       0.05769884, 0.18525351, 1.82749129, 0.66741684, 1.66230402,\n",
              "       0.24168129])"
            ]
          },
          "metadata": {
            "tags": []
          },
          "execution_count": 22
        }
      ]
    },
    {
      "metadata": {
        "id": "5uT_QxfkOShd",
        "colab_type": "text"
      },
      "cell_type": "markdown",
      "source": [
        "## 1.f Primera Regresión\n",
        "\n",
        "Obtenemos el coeficiente $R^2$ respecto a la predicción, compararemos con los datos escalados y no escalados. Este coeficiente se calcula como: $$ R^2 = 1-  \\frac{\\sum(\\hat{Y_t}-Y_t)^2}{\\sum(\\bar{Y}-Y_t)^2} $$\n",
        "\n",
        "Este coeficiente permite medir que tan cercanos están los puntos a la regresión, también puede ser explicado como: $R^2$ =  Variación explicada por el modelo / Variación total. Se procederá a comparar con los datos estandarizados contra su versión original."
      ]
    },
    {
      "metadata": {
        "id": "5t54YOghVMIK",
        "colab_type": "text"
      },
      "cell_type": "markdown",
      "source": [
        "* **Datos estandarizados:**"
      ]
    },
    {
      "metadata": {
        "id": "LOBGvgUEL595",
        "colab_type": "code",
        "outputId": "7b83f0c3-788f-4651-f5fc-6003918611bd",
        "colab": {
          "base_uri": "https://localhost:8080/",
          "height": 71
        }
      },
      "cell_type": "code",
      "source": [
        "def linear_reg(X,y):\n",
        "  reg_scaled = LinearRegression()\n",
        "  reg_scaled.fit(X,y)\n",
        "  return reg_scaled\n",
        "model = linear_reg(x_train, y_train)\n",
        "print(\"Score obtenido con datos de entrenamiento: %.5f\"%model.score(x_train,y_train))\n",
        "print(\"Score obtenido con datos de validación: %.5f\"%model.score(x_val,y_val))\n",
        "print(\"Score obtenido con datos de prueba: %.5f\"%model.score(x_test,y_test))"
      ],
      "execution_count": 0,
      "outputs": [
        {
          "output_type": "stream",
          "text": [
            "Score obtenido con datos de entrenamiento: 0.00681\n",
            "Score obtenido con datos de validación: 0.00615\n",
            "Score obtenido con datos de prueba: 0.00709\n"
          ],
          "name": "stdout"
        }
      ]
    },
    {
      "metadata": {
        "id": "IZRpJ_wGCUK-",
        "colab_type": "text"
      },
      "cell_type": "markdown",
      "source": [
        "Se prueba con el *target* **no estandarizado:**"
      ]
    },
    {
      "metadata": {
        "id": "vErSll4mVy9n",
        "colab_type": "code",
        "outputId": "2d45d239-7ab7-42af-d49f-1ed935ba20b3",
        "colab": {
          "base_uri": "https://localhost:8080/",
          "height": 71
        }
      },
      "cell_type": "code",
      "source": [
        "model = linear_reg(x_train, y_pre_train)\n",
        "print(\"Score obtenido con datos de entrenamiento: %.5f\"%model.score(x_train,y_pre_train))\n",
        "print(\"Score obtenido con datos de validación: %.5f\"%model.score(x_val,y_pre_val))\n",
        "print(\"Score obtenido con datos de prueba: %.5f\"%model.score(x_test,y_pre_test))"
      ],
      "execution_count": 0,
      "outputs": [
        {
          "output_type": "stream",
          "text": [
            "Score obtenido con datos de entrenamiento: 0.00681\n",
            "Score obtenido con datos de validación: 0.00615\n",
            "Score obtenido con datos de prueba: 0.00709\n"
          ],
          "name": "stdout"
        }
      ]
    },
    {
      "metadata": {
        "id": "aeQlPoDNCf_C",
        "colab_type": "text"
      },
      "cell_type": "markdown",
      "source": [
        "Y se corrobora que no es necesario realizar esta estandarización dado que no afectará el calculo de los parámetros de la regresión."
      ]
    },
    {
      "metadata": {
        "id": "kHuQzwwmVBTJ",
        "colab_type": "text"
      },
      "cell_type": "markdown",
      "source": [
        "* **Datos no-estandarizados:**"
      ]
    },
    {
      "metadata": {
        "id": "ag5LB5FoVPAP",
        "colab_type": "code",
        "outputId": "e55c100b-3c32-4788-fee2-4a53867f8949",
        "colab": {
          "base_uri": "https://localhost:8080/",
          "height": 71
        }
      },
      "cell_type": "code",
      "source": [
        "model = linear_reg(data_pre_train.values, y_pre_train)\n",
        "print(\"Score obtenido con datos de entrenamiento: %.5f\"%model.score(data_pre_train.values,y_pre_train))\n",
        "print(\"Score obtenido con datos de validación: %.5f\"%model.score(data_pre_val,y_pre_val))\n",
        "print(\"Score obtenido con datos de prueba: %.5f\"%model.score(data_pre_test,y_pre_test))"
      ],
      "execution_count": 0,
      "outputs": [
        {
          "output_type": "stream",
          "text": [
            "Score obtenido con datos de entrenamiento: 0.00681\n",
            "Score obtenido con datos de validación: 0.00617\n",
            "Score obtenido con datos de prueba: 0.00709\n"
          ],
          "name": "stdout"
        }
      ]
    },
    {
      "metadata": {
        "id": "eDa1zuLgVPVX",
        "colab_type": "text"
      },
      "cell_type": "markdown",
      "source": [
        "Se prueba con el *target* **estandarizado:**"
      ]
    },
    {
      "metadata": {
        "id": "v85KIhOUVhnD",
        "colab_type": "code",
        "outputId": "0bd1d5a0-3e49-448a-d377-15ab67f82ac7",
        "colab": {
          "base_uri": "https://localhost:8080/",
          "height": 71
        }
      },
      "cell_type": "code",
      "source": [
        "model = linear_reg(data_pre_train, y_train)\n",
        "print(\"Score obtenido con datos de entrenamiento: %.5f\"%model.score(data_pre_train,y_train))\n",
        "print(\"Score obtenido con datos de validación: %.5f\"%model.score(data_pre_val,y_val))\n",
        "print(\"Score obtenido con datos de prueba: %.5f\"%model.score(data_pre_test,y_test))"
      ],
      "execution_count": 0,
      "outputs": [
        {
          "output_type": "stream",
          "text": [
            "Score obtenido con datos de entrenamiento: 0.00681\n",
            "Score obtenido con datos de validación: 0.00617\n",
            "Score obtenido con datos de prueba: 0.00709\n"
          ],
          "name": "stdout"
        }
      ]
    },
    {
      "metadata": {
        "id": "0726izaECo0i",
        "colab_type": "text"
      },
      "cell_type": "markdown",
      "source": [
        "De esto se destaca la cercanía de los valores obtenidos con la regresión lineal tanto con valores estandarizado como no. En los cuales la validación se mantiene cercana a 0 para los modelos en general."
      ]
    },
    {
      "metadata": {
        "id": "LJIR3SU4WDYi",
        "colab_type": "text"
      },
      "cell_type": "markdown",
      "source": [
        "## 1.g Transformaciones simples\n",
        "\n",
        "Ahora probaremos realizar transformaciones al espacio del *output*, primero tenemos que ver el comportamiento respecto a su distribución. Para lo cual se graficarán los precios de compras desde menor a mayor."
      ]
    },
    {
      "metadata": {
        "id": "CSJEcPm0WcIE",
        "colab_type": "code",
        "outputId": "c442adb7-e80c-43cf-f7ae-4bcc1f3cd1a7",
        "colab": {
          "base_uri": "https://localhost:8080/",
          "height": 281
        }
      },
      "cell_type": "code",
      "source": [
        "sorted_y_pre_train = np.sort(y_pre_train)\n",
        "scalar_space = np.arange(0,sorted_y_pre_train.shape[0],1)\n",
        "plt.title(\"Distribución de precios ordenados de menor a mayor\")\n",
        "#plt.xlabel(\"\")\n",
        "plt.ylabel(\"Precios\")\n",
        "_ = plt.plot(scalar_space, sorted_y_pre_train, scalar_space,np.linspace(0,((sorted_y_pre_train)).max(),num=sorted_y_pre_train.shape[0]))"
      ],
      "execution_count": 0,
      "outputs": [
        {
          "output_type": "display_data",
          "data": {
            "image/png": "[encoded data removed]",
            "text/plain": [
              "<Figure size 432x288 with 1 Axes>"
            ]
          },
          "metadata": {
            "tags": []
          }
        }
      ]
    },
    {
      "metadata": {
        "id": "vZo1ImUdX40W",
        "colab_type": "text"
      },
      "cell_type": "markdown",
      "source": [
        "Donde claramente se ve un comportamiento no lineal respecto al *target*, lo cual vuelve interesante aplicar transformaciones."
      ]
    },
    {
      "metadata": {
        "id": "3-C6HSAZcg4C",
        "colab_type": "text"
      },
      "cell_type": "markdown",
      "source": [
        "* **Transformación raíz cuadrada**\n",
        "\n",
        "Se prueba una transformación simple llevando a la raíz cuadrada todos los valores de compra.\n"
      ]
    },
    {
      "metadata": {
        "id": "VdXQLe7xdMRN",
        "colab_type": "code",
        "colab": {}
      },
      "cell_type": "code",
      "source": [
        "sorted_y_pre_train_sqrt = np.sqrt(sorted_y_pre_train)"
      ],
      "execution_count": 0,
      "outputs": []
    },
    {
      "metadata": {
        "id": "DaT8qMtkdfFI",
        "colab_type": "code",
        "outputId": "21b66a89-29ee-4834-948e-26a107ce054f",
        "colab": {
          "base_uri": "https://localhost:8080/",
          "height": 281
        }
      },
      "cell_type": "code",
      "source": [
        "plt.title(\"Distribución de precios en raíz cuadrada ordenados de menor a mayor\")\n",
        "#plt.xlabel(\"\")\n",
        "plt.ylabel(\"Precios\")\n",
        "_ = plt.plot(scalar_space, sorted_y_pre_train_sqrt, scalar_space,np.linspace(0,((sorted_y_pre_train_sqrt)).max(),num=sorted_y_pre_train_sqrt.shape[0]))"
      ],
      "execution_count": 0,
      "outputs": [
        {
          "output_type": "display_data",
          "data": {
            "image/png": "[encoded data removed]",
            "text/plain": [
              "<Figure size 432x288 with 1 Axes>"
            ]
          },
          "metadata": {
            "tags": []
          }
        }
      ]
    },
    {
      "metadata": {
        "id": "o974RPGoYKZr",
        "colab_type": "text"
      },
      "cell_type": "markdown",
      "source": [
        "Se nota cierta linealidad lograda en precios después de cierto punto, sin embargo mantiene una naturaleza no lineal todavía,"
      ]
    },
    {
      "metadata": {
        "id": "kwWFNjDQdmEN",
        "colab_type": "text"
      },
      "cell_type": "markdown",
      "source": [
        "* **Transformación logarítmica**\n"
      ]
    },
    {
      "metadata": {
        "id": "5X-_xew-hbNV",
        "colab_type": "code",
        "outputId": "c8674253-deec-461f-93b1-d79201e2c302",
        "colab": {
          "base_uri": "https://localhost:8080/",
          "height": 281
        }
      },
      "cell_type": "code",
      "source": [
        "sorted_y_pre_train_log = np.log(sorted_y_pre_train)\n",
        "plt.title(\"Distribución de precios cuadráticos ordenados de menor a mayor\")\n",
        "#plt.xlabel(\"\")\n",
        "plt.ylabel(\"Precios\")\n",
        "_ = plt.plot(scalar_space, sorted_y_pre_train_log, scalar_space,np.linspace(0,((sorted_y_pre_train_log)).max(),num=sorted_y_pre_train_log.shape[0]))"
      ],
      "execution_count": 0,
      "outputs": [
        {
          "output_type": "display_data",
          "data": {
            "image/png": "[encoded data removed]",
            "text/plain": [
              "<Figure size 432x288 with 1 Axes>"
            ]
          },
          "metadata": {
            "tags": []
          }
        }
      ]
    },
    {
      "metadata": {
        "id": "Ct2GvW3fj4Z1",
        "colab_type": "text"
      },
      "cell_type": "markdown",
      "source": [
        "## 1.h 10-*fold* sobre la potencia\n",
        "\n",
        "Se realizará un 10-*fold* para probar independiente de la partición de los datos cada transformación en el set y de esta manera analizar cual entrega mejores resultados. Notar que lo realizaremos sobre el data set de entrenamiento, pero esto puede y se suele realizar sobre el dataset de entrenamiento junto al de validación, siendo la partición que varía la correspondiente a la última. Se realizarán 20 transformaciones sobre los *target*, elevando por una potencia distinta cada vez. Para cada transformación se obtendrá el promedio del estimador $R^2$  y del *MAE* o *Absolute Mean Error*."
      ]
    },
    {
      "metadata": {
        "id": "ZCI2m9X-qPf8",
        "colab_type": "code",
        "colab": {}
      },
      "cell_type": "code",
      "source": [
        "folds = KFold(10)\n",
        "scores  = np.zeros([20,10])\n",
        "MAE  = np.zeros([20,10])\n",
        "N = 0\n",
        "for i in range(1,21):\n",
        "  j = 0\n",
        "  for train_index, val_index in folds.split(data_pre_train.values):\n",
        "    if N == 0:\n",
        "      N = len(val_index)\n",
        "    #scaler...\n",
        "    y_i = y_pre_train**(i/10)\n",
        "    y_train_i = y_i[train_index]\n",
        "    x_train_fold = data_pre_train.values[train_index]\n",
        "    y_val_i = y_i[val_index]\n",
        "    x_val_fold = data_pre_train.values[val_index]\n",
        "    #model\n",
        "    model = linear_reg(x_train_fold, y_train_i)\n",
        "    scores[i-1][j] = model.score(x_val_fold,y_val_i)\n",
        "    y_pred = model.predict(x_val_fold)\n",
        "    MAE[i-1][j] = np.sum([abs(y_pred[k]**(10/i) - y_val_i[k]**(10/i)) for k in range(N-1) ])/N\n",
        "    j+=1\n",
        "\n",
        "      \n",
        "      "
      ],
      "execution_count": 0,
      "outputs": []
    },
    {
      "metadata": {
        "id": "pc2bs0Ig5j84",
        "colab_type": "text"
      },
      "cell_type": "markdown",
      "source": [
        "* *Score* $R^2$\n",
        "\n",
        "Se analiza el puntaje obtenido por este estimador:"
      ]
    },
    {
      "metadata": {
        "id": "J1M-Dh_98WcZ",
        "colab_type": "code",
        "outputId": "b86776e6-454d-447d-9dc2-0abaa1a9e05e",
        "colab": {
          "base_uri": "https://localhost:8080/",
          "height": 287
        }
      },
      "cell_type": "code",
      "source": [
        "scores_mean = np.mean(scores,axis = 1)\n",
        "#for i in range(21):\n",
        "#  print(\"Promedio de score R^2 obtenido con i igual a \" + str(i+1) + \" es: %.4f\"%(scores_mean[i]) )\n",
        "plt.plot(scores_mean, 'go-')\n",
        "result = np.where(scores_mean == np.amax(scores_mean))\n",
        "print(\" La mejor transformación se da con i= %.0f\"%(result[0]+1) )"
      ],
      "execution_count": 0,
      "outputs": [
        {
          "output_type": "stream",
          "text": [
            " La mejor transformación se da con i= 11\n"
          ],
          "name": "stdout"
        },
        {
          "output_type": "display_data",
          "data": {
            "image/png": "[encoded data removed]",
            "text/plain": [
              "<Figure size 432x288 with 1 Axes>"
            ]
          },
          "metadata": {
            "tags": []
          }
        }
      ]
    },
    {
      "metadata": {
        "id": "95ltUyNmyOLg",
        "colab_type": "text"
      },
      "cell_type": "markdown",
      "source": [
        "* **Mean Absolute Error**\n",
        "\n",
        "Se compara el promedio de todos los MAE de cada *fold*, el cual se calcula como: $$ \\frac{1}{n} \\sum |\\hat{y}-y|. $$\n"
      ]
    },
    {
      "metadata": {
        "id": "HkLW_dyt0HvD",
        "colab_type": "code",
        "outputId": "501fda72-d244-4e1e-c13d-95f3e6cad5e7",
        "colab": {
          "base_uri": "https://localhost:8080/",
          "height": 287
        }
      },
      "cell_type": "code",
      "source": [
        "\n",
        "MAE_mean = np.mean(MAE,axis = 1)\n",
        "#for i in range(21):\n",
        "#  print(\"Promedio de score R^2 obtenido con i igual a \" + str(i+1) + \" es: %.4f\"%(scores_mean[i]) )\n",
        "#f, axs = plt.subplots(1, 2, sharey=False)\n",
        "#axs[0].plot(MAE_mean, 'go-')\n",
        "#axs[1].plot(MAE_mean[0:15], 'go-')\n",
        "plt.plot(MAE_mean, 'go-')\n",
        "result = np.where(MAE_mean == np.amin(MAE_mean))\n",
        "print(\" La mejor transformación se da con i= %.0f\"%(result[0]+1) )"
      ],
      "execution_count": 0,
      "outputs": [
        {
          "output_type": "stream",
          "text": [
            " La mejor transformación se da con i= 2\n"
          ],
          "name": "stdout"
        },
        {
          "output_type": "display_data",
          "data": {
            "image/png": "[encoded data removed]",
            "text/plain": [
              "<Figure size 432x288 with 1 Axes>"
            ]
          },
          "metadata": {
            "tags": []
          }
        }
      ]
    },
    {
      "metadata": {
        "id": "aH5VV18l5F6_",
        "colab_type": "text"
      },
      "cell_type": "markdown",
      "source": [
        "* Modelo entrenado\n",
        "\n",
        "Se procede a entrenar con el mejor valor que recomienda el estimador *MAE*."
      ]
    },
    {
      "metadata": {
        "id": "yjoYOFK-5bdb",
        "colab_type": "code",
        "outputId": "0e2342d0-af6b-42cf-c7e0-41b7f5f8eb13",
        "colab": {
          "base_uri": "https://localhost:8080/",
          "height": 71
        }
      },
      "cell_type": "code",
      "source": [
        "y_i = y_pre_train**(2/10)\n",
        "y_i_val = y_pre_val**(2/10)\n",
        "y_i_test = y_pre_test**(2/10)\n",
        "linear_reg(data_pre_train, y_i)\n",
        "print(\"Score obtenido con datos de entrenamiento: \" + str(model.score(data_pre_train,y_i)))\n",
        "print(\"Score obtenido con datos de validación: \" + str(model.score(data_pre_val,y_i_val)))\n",
        "print(\"Score obtenido con datos de prueba: \" + str(model.score(data_pre_test,y_i_test)))"
      ],
      "execution_count": 0,
      "outputs": [
        {
          "output_type": "stream",
          "text": [
            "Score obtenido con datos de entrenamiento: -2.3384607779615444e+16\n",
            "Score obtenido con datos de validación: -2.333439677021737e+16\n",
            "Score obtenido con datos de prueba: -2.3150002091681164e+16\n"
          ],
          "name": "stdout"
        }
      ]
    },
    {
      "metadata": {
        "id": "TRFZcliGZv8T",
        "colab_type": "text"
      },
      "cell_type": "markdown",
      "source": [
        "Entregando peores resultados, podemos notar que no se puede depender de un solo estimador para la elección de alternativas respecto al modelo."
      ]
    },
    {
      "metadata": {
        "id": "0bUMHeN_4orw",
        "colab_type": "text"
      },
      "cell_type": "markdown",
      "source": [
        "## 1.i Q-Q plot\n",
        "\n",
        "Este gráfico nos permite comparar que tan cerca están la distribución de 2 conjuntos de datos. Es por ello que resulta interesante comparar la distribución de los residuos, con la normal.  "
      ]
    },
    {
      "metadata": {
        "id": "tYqu2_3I4x8z",
        "colab_type": "code",
        "outputId": "82fe6790-3976-4d18-9818-b053196e5e85",
        "colab": {
          "base_uri": "https://localhost:8080/",
          "height": 385
        }
      },
      "cell_type": "code",
      "source": [
        "from scipy import stats\n",
        "model = linear_reg(data_pre_train, y_pre_train)\n",
        "err = model.predict(data_pre_val) - y_pre_val\n",
        "stats.probplot(err ,dist='norm', plot=plt)\n"
      ],
      "execution_count": 0,
      "outputs": [
        {
          "output_type": "execute_result",
          "data": {
            "text/plain": [
              "((array([-4.29855253, -4.09768627, -3.9883572 , ...,  3.9883572 ,\n",
              "          4.09768627,  4.29855253]),\n",
              "  array([-15506.19925642, -15406.26972003, -15399.19925642, ...,\n",
              "           9751.50127103,   9819.69054098,  10039.42121997])),\n",
              " (4851.295170189835, 1.2278003020936668, 0.9772668101243793))"
            ]
          },
          "metadata": {
            "tags": []
          },
          "execution_count": 35
        },
        {
          "output_type": "display_data",
          "data": {
            "image/png": "[encoded data removed]",
            "text/plain": [
              "<Figure size 432x288 with 1 Axes>"
            ]
          },
          "metadata": {
            "tags": []
          }
        }
      ]
    },
    {
      "metadata": {
        "id": "0yTldgXCasy_",
        "colab_type": "text"
      },
      "cell_type": "markdown",
      "source": [
        "Se puede ver que la distribución de los errores dista de ser normal, especialmente para los valores en los extremos. Una de las razones sea probablemente los *outliers*, los cuales afectan de gran manera a la regresión lineal."
      ]
    },
    {
      "metadata": {
        "id": "1fqJ3VAJ4ya3",
        "colab_type": "text"
      },
      "cell_type": "markdown",
      "source": [
        "## 1.j Variables categóricas\n",
        "\n",
        "Finalmente probamos usando el modelo sobre todas las columnas, es decir para las variables categóricas no binarias usaremos el encoding dado por *get_dummies*. También se verá el caso de usar este representación para el atributo *city_category*, una de las ventajas respecto a la codificación anterior viene respecto a que se podrán generar nuevas relaciones al separarse en distintas columnas."
      ]
    },
    {
      "metadata": {
        "id": "OqOZbEBa1ML8",
        "colab_type": "code",
        "colab": {}
      },
      "cell_type": "code",
      "source": [
        "df = pd.read_csv(\"gdrive/My Drive/2019-1/ML/Pregunta 1/BlackFriday.csv\")\n",
        "df = df.drop(columns = ['User_ID','Product_ID'])\n",
        "mapper = {}\n",
        "mapper['Gender'] = {'F':1,'M':0}\n",
        "mapper['Age'] =  {'0-17':0,'18-25':1,'26-35':2,'36-45':3,'46-50':4,'51-55':5,'55+':6}\n",
        "mapper['Stay_In_Current_City_Years'] = {'0':0,'1':1,'2':2,'3':3,'4+':4}"
      ],
      "execution_count": 0,
      "outputs": []
    },
    {
      "metadata": {
        "id": "ZuBkJLbo1OvV",
        "colab_type": "code",
        "outputId": "f75385ff-f9f8-483a-8815-e6da740e78e0",
        "colab": {
          "base_uri": "https://localhost:8080/",
          "height": 107
        }
      },
      "cell_type": "code",
      "source": [
        "for mapp in list(mapper):\n",
        "  df[mapp] = df[mapp].apply(lambda x: mapper[mapp][x])\n",
        "\n",
        "categorical_cols = ['Occupation','City_Category','Product_Category_1','Product_Category_2','Product_Category_3']\n",
        "for cat in categorical_cols:\n",
        "  print(cat)\n",
        "  data_pre = pd.get_dummies(df[cat])\n",
        "  df = df.drop(columns = [cat])\n",
        "  df = pd.concat([df, data_pre], axis=1)"
      ],
      "execution_count": 0,
      "outputs": [
        {
          "output_type": "stream",
          "text": [
            "Occupation\n",
            "City_Category\n",
            "Product_Category_1\n",
            "Product_Category_2\n",
            "Product_Category_3\n"
          ],
          "name": "stdout"
        }
      ]
    },
    {
      "metadata": {
        "id": "_WYa2qUgZGGj",
        "colab_type": "code",
        "outputId": "ef7858e6-fbd0-47a6-9703-4609ffd26ab1",
        "colab": {
          "base_uri": "https://localhost:8080/",
          "height": 233
        }
      },
      "cell_type": "code",
      "source": [
        "df.head()"
      ],
      "execution_count": 0,
      "outputs": [
        {
          "output_type": "execute_result",
          "data": {
            "text/html": [
              "<div>\n",
              "<style scoped>\n",
              "    .dataframe tbody tr th:only-of-type {\n",
              "        vertical-align: middle;\n",
              "    }\n",
              "\n",
              "    .dataframe tbody tr th {\n",
              "        vertical-align: top;\n",
              "    }\n",
              "\n",
              "    .dataframe thead th {\n",
              "        text-align: right;\n",
              "    }\n",
              "</style>\n",
              "<table border=\"1\" class=\"dataframe\">\n",
              "  <thead>\n",
              "    <tr style=\"text-align: right;\">\n",
              "      <th></th>\n",
              "      <th>Gender</th>\n",
              "      <th>Age</th>\n",
              "      <th>Stay_In_Current_City_Years</th>\n",
              "      <th>Marital_Status</th>\n",
              "      <th>Purchase</th>\n",
              "      <th>0</th>\n",
              "      <th>1</th>\n",
              "      <th>2</th>\n",
              "      <th>3</th>\n",
              "      <th>4</th>\n",
              "      <th>...</th>\n",
              "      <th>9.0</th>\n",
              "      <th>10.0</th>\n",
              "      <th>11.0</th>\n",
              "      <th>12.0</th>\n",
              "      <th>13.0</th>\n",
              "      <th>14.0</th>\n",
              "      <th>15.0</th>\n",
              "      <th>16.0</th>\n",
              "      <th>17.0</th>\n",
              "      <th>18.0</th>\n",
              "    </tr>\n",
              "  </thead>\n",
              "  <tbody>\n",
              "    <tr>\n",
              "      <th>0</th>\n",
              "      <td>1</td>\n",
              "      <td>0</td>\n",
              "      <td>2</td>\n",
              "      <td>0</td>\n",
              "      <td>8370</td>\n",
              "      <td>0</td>\n",
              "      <td>0</td>\n",
              "      <td>0</td>\n",
              "      <td>0</td>\n",
              "      <td>0</td>\n",
              "      <td>...</td>\n",
              "      <td>0</td>\n",
              "      <td>0</td>\n",
              "      <td>0</td>\n",
              "      <td>0</td>\n",
              "      <td>0</td>\n",
              "      <td>0</td>\n",
              "      <td>0</td>\n",
              "      <td>0</td>\n",
              "      <td>0</td>\n",
              "      <td>0</td>\n",
              "    </tr>\n",
              "    <tr>\n",
              "      <th>1</th>\n",
              "      <td>1</td>\n",
              "      <td>0</td>\n",
              "      <td>2</td>\n",
              "      <td>0</td>\n",
              "      <td>15200</td>\n",
              "      <td>0</td>\n",
              "      <td>0</td>\n",
              "      <td>0</td>\n",
              "      <td>0</td>\n",
              "      <td>0</td>\n",
              "      <td>...</td>\n",
              "      <td>0</td>\n",
              "      <td>0</td>\n",
              "      <td>0</td>\n",
              "      <td>0</td>\n",
              "      <td>0</td>\n",
              "      <td>1</td>\n",
              "      <td>0</td>\n",
              "      <td>0</td>\n",
              "      <td>0</td>\n",
              "      <td>0</td>\n",
              "    </tr>\n",
              "    <tr>\n",
              "      <th>2</th>\n",
              "      <td>1</td>\n",
              "      <td>0</td>\n",
              "      <td>2</td>\n",
              "      <td>0</td>\n",
              "      <td>1422</td>\n",
              "      <td>0</td>\n",
              "      <td>0</td>\n",
              "      <td>0</td>\n",
              "      <td>0</td>\n",
              "      <td>0</td>\n",
              "      <td>...</td>\n",
              "      <td>0</td>\n",
              "      <td>0</td>\n",
              "      <td>0</td>\n",
              "      <td>0</td>\n",
              "      <td>0</td>\n",
              "      <td>0</td>\n",
              "      <td>0</td>\n",
              "      <td>0</td>\n",
              "      <td>0</td>\n",
              "      <td>0</td>\n",
              "    </tr>\n",
              "    <tr>\n",
              "      <th>3</th>\n",
              "      <td>1</td>\n",
              "      <td>0</td>\n",
              "      <td>2</td>\n",
              "      <td>0</td>\n",
              "      <td>1057</td>\n",
              "      <td>0</td>\n",
              "      <td>0</td>\n",
              "      <td>0</td>\n",
              "      <td>0</td>\n",
              "      <td>0</td>\n",
              "      <td>...</td>\n",
              "      <td>0</td>\n",
              "      <td>0</td>\n",
              "      <td>0</td>\n",
              "      <td>0</td>\n",
              "      <td>0</td>\n",
              "      <td>0</td>\n",
              "      <td>0</td>\n",
              "      <td>0</td>\n",
              "      <td>0</td>\n",
              "      <td>0</td>\n",
              "    </tr>\n",
              "    <tr>\n",
              "      <th>4</th>\n",
              "      <td>0</td>\n",
              "      <td>6</td>\n",
              "      <td>4</td>\n",
              "      <td>0</td>\n",
              "      <td>7969</td>\n",
              "      <td>0</td>\n",
              "      <td>0</td>\n",
              "      <td>0</td>\n",
              "      <td>0</td>\n",
              "      <td>0</td>\n",
              "      <td>...</td>\n",
              "      <td>0</td>\n",
              "      <td>0</td>\n",
              "      <td>0</td>\n",
              "      <td>0</td>\n",
              "      <td>0</td>\n",
              "      <td>0</td>\n",
              "      <td>0</td>\n",
              "      <td>0</td>\n",
              "      <td>0</td>\n",
              "      <td>0</td>\n",
              "    </tr>\n",
              "  </tbody>\n",
              "</table>\n",
              "<p>5 rows × 79 columns</p>\n",
              "</div>"
            ],
            "text/plain": [
              "   Gender  Age  Stay_In_Current_City_Years  Marital_Status  Purchase  0  1  2  \\\n",
              "0       1    0                           2               0      8370  0  0  0   \n",
              "1       1    0                           2               0     15200  0  0  0   \n",
              "2       1    0                           2               0      1422  0  0  0   \n",
              "3       1    0                           2               0      1057  0  0  0   \n",
              "4       0    6                           4               0      7969  0  0  0   \n",
              "\n",
              "   3  4  ...  9.0  10.0  11.0  12.0  13.0  14.0  15.0  16.0  17.0  18.0  \n",
              "0  0  0  ...    0     0     0     0     0     0     0     0     0     0  \n",
              "1  0  0  ...    0     0     0     0     0     1     0     0     0     0  \n",
              "2  0  0  ...    0     0     0     0     0     0     0     0     0     0  \n",
              "3  0  0  ...    0     0     0     0     0     0     0     0     0     0  \n",
              "4  0  0  ...    0     0     0     0     0     0     0     0     0     0  \n",
              "\n",
              "[5 rows x 79 columns]"
            ]
          },
          "metadata": {
            "tags": []
          },
          "execution_count": 38
        }
      ]
    },
    {
      "metadata": {
        "id": "Wezo5SaHDnR5",
        "colab_type": "text"
      },
      "cell_type": "markdown",
      "source": [
        "* Separación de datos"
      ]
    },
    {
      "metadata": {
        "id": "u7NSCZbQig1X",
        "colab_type": "code",
        "colab": {}
      },
      "cell_type": "code",
      "source": [
        "data_pre_train, data_pre_temp = train_test_split(df, test_size= 0.25)\n",
        "data_pre_val, data_pre_test = train_test_split(data_pre_temp, test_size= 0.4)\n",
        "y_pre_train = data_pre_train.pop('Purchase').values\n",
        "y_pre_val = data_pre_val.pop('Purchase').values\n",
        "y_pre_test = data_pre_test.pop('Purchase').values"
      ],
      "execution_count": 0,
      "outputs": []
    },
    {
      "metadata": {
        "id": "mB2Dn4Sp90Gz",
        "colab_type": "code",
        "outputId": "12470c5e-c1f4-4e5c-be8a-8dc56ea0036a",
        "colab": {
          "base_uri": "https://localhost:8080/",
          "height": 71
        }
      },
      "cell_type": "code",
      "source": [
        "model = linear_reg(data_pre_train, y_pre_train)\n",
        "print(\"Score obtenido con datos de entrenamiento: %.5f\"%model.score(data_pre_train.values,y_pre_train))\n",
        "print(\"Score obtenido con datos de validación: %.5f\"%model.score(data_pre_val,y_pre_val))\n",
        "print(\"Score obtenido con datos de prueba: %.5f\"%model.score(data_pre_test,y_pre_test))"
      ],
      "execution_count": 0,
      "outputs": [
        {
          "output_type": "stream",
          "text": [
            "Score obtenido con datos de entrenamiento: 0.63950\n",
            "Score obtenido con datos de validación: 0.63597\n",
            "Score obtenido con datos de prueba: 0.64028\n"
          ],
          "name": "stdout"
        }
      ]
    },
    {
      "metadata": {
        "id": "uodrXTvHPoaa",
        "colab_type": "text"
      },
      "cell_type": "markdown",
      "source": [
        "Donde se obtiene un *score*  $R^2$ mucho mejores respecto a los resultados previos. Sin embargo el costo en memoria fue mucho mayor, al tener que computar una matriz *sparse* de mayor dimensionalidad."
      ]
    },
    {
      "metadata": {
        "id": "TggHoEMJbM2l",
        "colab_type": "text"
      },
      "cell_type": "markdown",
      "source": [
        "# Conclusión parte 1"
      ]
    },
    {
      "metadata": {
        "id": "JScjzoBnbQzF",
        "colab_type": "text"
      },
      "cell_type": "markdown",
      "source": [
        "En esta primera parte del trabajo se uso la regresión lineal como método de predicción de valores de compra, el *dataset* presentó ser útil para esto. Pudiendo realizar distintas decisiones de pre-procesado como también de transformaciones al mismo *output*. Dentro del aprendizaje principal viene a estar la preparación e interpretación de los datos respecto al modelo predictivo que se esta usando. En el caso de la regresión lineal la separación de los datos o magnitudes muy distintas entre atributos conlleva resultados distintosal contrario de usar una estandarización de los atributos. Por otra parte el *encoding* de las variables categóricas puede afectar el *score* final obtenido. Se puede considerar la regresión lineal como uno de los modelos más fácil de implementar e interpretar, a la vez que presenta ser ventajoso como primer acercamiento dado su barato costo computacional."
      ]
    }
  ]
}