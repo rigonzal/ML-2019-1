{
  "nbformat": 4,
  "nbformat_minor": 0,
  "metadata": {
    "colab": {
      "name": "Pregunta3.ipynb",
      "version": "0.3.2",
      "provenance": [],
      "collapsed_sections": [],
      "include_colab_link": true
    },
    "kernelspec": {
      "name": "python3",
      "display_name": "Python 3"
    }
  },
  "cells": [
    {
      "cell_type": "markdown",
      "metadata": {
        "id": "view-in-github",
        "colab_type": "text"
      },
      "source": [
        "<a href=\"https://colab.research.google.com/github/rigonzal/ML-2019-1/blob/master/Tarea1/Pregunta3.ipynb\" target=\"_parent\"><img src=\"https://colab.research.google.com/assets/colab-badge.svg\" alt=\"Open In Colab\"/></a>"
      ]
    },
    {
      "metadata": {
        "id": "RhQtK3KMbiQa",
        "colab_type": "text"
      },
      "cell_type": "markdown",
      "source": [
        "# INF-393: Máquinas de Aprendizaje\n",
        "## Tarea 1 - Pregunta 3\n",
        "### 26-04-2019\n",
        "\n",
        "\n",
        "* Rodrigo González - 201303026-2\n",
        "* Ignacio Valenzuela - 201473055-1\n",
        "\n",
        "\n",
        "# Introducción\n",
        "\n",
        "Se usará un dataset respectivo a latidos del corazón para pacientes con cierta condición  el cual debido a su alta dimensionalidad dificulta mucho el análisis. Aquí nace la necesidad de hacer selección de atributos o reducción de estos por medio de una transformación."
      ]
    },
    {
      "metadata": {
        "id": "Uw9gzfSgb-9I",
        "colab_type": "text"
      },
      "cell_type": "markdown",
      "source": [
        "# 3. Clasificación"
      ]
    },
    {
      "metadata": {
        "id": "UtCFgPe_dgUt",
        "colab_type": "code",
        "outputId": "1a2bb23c-6da7-41f0-d69c-16264bebe656",
        "colab": {
          "base_uri": "https://localhost:8080/",
          "height": 35
        }
      },
      "cell_type": "code",
      "source": [
        "import pandas as pd\n",
        "import matplotlib.pyplot as plt\n",
        "import numpy as np\n",
        "from sklearn.preprocessing import StandardScaler\n",
        "from sklearn.model_selection import train_test_split, KFold\n",
        "from sklearn.linear_model import LogisticRegression\n",
        "from sklearn.metrics import confusion_matrix\n",
        "from google.colab import drive\n",
        "from sklearn.utils.multiclass import unique_labels\n",
        "\n",
        "drive.mount('/content/gdrive')"
      ],
      "execution_count": 0,
      "outputs": [
        {
          "output_type": "stream",
          "text": [
            "Drive already mounted at /content/gdrive; to attempt to forcibly remount, call drive.mount(\"/content/gdrive\", force_remount=True).\n"
          ],
          "name": "stdout"
        }
      ]
    },
    {
      "metadata": {
        "id": "0iInxUP4dU0V",
        "colab_type": "text"
      },
      "cell_type": "markdown",
      "source": [
        "## 3.a Carga de datos"
      ]
    },
    {
      "metadata": {
        "id": "71bp_Yr8j7Ih",
        "colab_type": "code",
        "outputId": "0d085b62-4ddb-4c1f-d095-8b37519bf22b",
        "colab": {
          "base_uri": "https://localhost:8080/",
          "height": 54
        }
      },
      "cell_type": "code",
      "source": [
        "!unzip gdrive/My\\ Drive/2019-1/ML/Pregunta\\ 1/heartbeat.zip | pwd"
      ],
      "execution_count": 0,
      "outputs": [
        {
          "output_type": "stream",
          "text": [
            "/content\n",
            "unzip:  cannot find or open gdrive/My Drive/2019-1/ML/Pregunta 1/heartbeat.zip, gdrive/My Drive/2019-1/ML/Pregunta 1/heartbeat.zip.zip or gdrive/My Drive/2019-1/ML/Pregunta 1/heartbeat.zip.ZIP.\n"
          ],
          "name": "stdout"
        }
      ]
    },
    {
      "metadata": {
        "id": "O3EVaK-slwy9",
        "colab_type": "code",
        "outputId": "9c91841c-6ad0-44bc-8504-22e93662915c",
        "colab": {
          "base_uri": "https://localhost:8080/",
          "height": 35
        }
      },
      "cell_type": "code",
      "source": [
        "!mv * gdrive/My\\ Drive/2019-1/ML/Pregunta\\ 1/"
      ],
      "execution_count": 0,
      "outputs": [
        {
          "output_type": "stream",
          "text": [
            "mv: target 'gdrive/My Drive/2019-1/ML/Pregunta 1/' is not a directory\n"
          ],
          "name": "stdout"
        }
      ]
    },
    {
      "metadata": {
        "id": "MFo2i_RcdapD",
        "colab_type": "code",
        "outputId": "2ae44a90-3f9e-4b19-c844-03ad5e93307a",
        "colab": {
          "base_uri": "https://localhost:8080/",
          "height": 236
        }
      },
      "cell_type": "code",
      "source": [
        "data_normal = pd.read_csv(\"gdrive/My Drive/Pregunta 1/ptbdb_abnormal.csv\",names=[i for i in range(188)] )\n",
        "data_normal.head()"
      ],
      "execution_count": 0,
      "outputs": [
        {
          "output_type": "execute_result",
          "data": {
            "text/html": [
              "<div>\n",
              "<style scoped>\n",
              "    .dataframe tbody tr th:only-of-type {\n",
              "        vertical-align: middle;\n",
              "    }\n",
              "\n",
              "    .dataframe tbody tr th {\n",
              "        vertical-align: top;\n",
              "    }\n",
              "\n",
              "    .dataframe thead th {\n",
              "        text-align: right;\n",
              "    }\n",
              "</style>\n",
              "<table border=\"1\" class=\"dataframe\">\n",
              "  <thead>\n",
              "    <tr style=\"text-align: right;\">\n",
              "      <th></th>\n",
              "      <th>0</th>\n",
              "      <th>1</th>\n",
              "      <th>2</th>\n",
              "      <th>3</th>\n",
              "      <th>4</th>\n",
              "      <th>5</th>\n",
              "      <th>6</th>\n",
              "      <th>7</th>\n",
              "      <th>8</th>\n",
              "      <th>9</th>\n",
              "      <th>...</th>\n",
              "      <th>178</th>\n",
              "      <th>179</th>\n",
              "      <th>180</th>\n",
              "      <th>181</th>\n",
              "      <th>182</th>\n",
              "      <th>183</th>\n",
              "      <th>184</th>\n",
              "      <th>185</th>\n",
              "      <th>186</th>\n",
              "      <th>187</th>\n",
              "    </tr>\n",
              "  </thead>\n",
              "  <tbody>\n",
              "    <tr>\n",
              "      <th>0</th>\n",
              "      <td>0.932233</td>\n",
              "      <td>0.869679</td>\n",
              "      <td>0.886186</td>\n",
              "      <td>0.929626</td>\n",
              "      <td>0.908775</td>\n",
              "      <td>0.933970</td>\n",
              "      <td>0.801043</td>\n",
              "      <td>0.749783</td>\n",
              "      <td>0.687229</td>\n",
              "      <td>0.635100</td>\n",
              "      <td>...</td>\n",
              "      <td>0.0</td>\n",
              "      <td>0.0</td>\n",
              "      <td>0.0</td>\n",
              "      <td>0.0</td>\n",
              "      <td>0.0</td>\n",
              "      <td>0.0</td>\n",
              "      <td>0.0</td>\n",
              "      <td>0.0</td>\n",
              "      <td>0.0</td>\n",
              "      <td>1.0</td>\n",
              "    </tr>\n",
              "    <tr>\n",
              "      <th>1</th>\n",
              "      <td>1.000000</td>\n",
              "      <td>0.606941</td>\n",
              "      <td>0.384181</td>\n",
              "      <td>0.254237</td>\n",
              "      <td>0.223567</td>\n",
              "      <td>0.276836</td>\n",
              "      <td>0.253430</td>\n",
              "      <td>0.184826</td>\n",
              "      <td>0.153349</td>\n",
              "      <td>0.121872</td>\n",
              "      <td>...</td>\n",
              "      <td>0.0</td>\n",
              "      <td>0.0</td>\n",
              "      <td>0.0</td>\n",
              "      <td>0.0</td>\n",
              "      <td>0.0</td>\n",
              "      <td>0.0</td>\n",
              "      <td>0.0</td>\n",
              "      <td>0.0</td>\n",
              "      <td>0.0</td>\n",
              "      <td>1.0</td>\n",
              "    </tr>\n",
              "    <tr>\n",
              "      <th>2</th>\n",
              "      <td>1.000000</td>\n",
              "      <td>0.951613</td>\n",
              "      <td>0.923963</td>\n",
              "      <td>0.853303</td>\n",
              "      <td>0.791859</td>\n",
              "      <td>0.734255</td>\n",
              "      <td>0.672043</td>\n",
              "      <td>0.685100</td>\n",
              "      <td>0.670507</td>\n",
              "      <td>0.667435</td>\n",
              "      <td>...</td>\n",
              "      <td>0.0</td>\n",
              "      <td>0.0</td>\n",
              "      <td>0.0</td>\n",
              "      <td>0.0</td>\n",
              "      <td>0.0</td>\n",
              "      <td>0.0</td>\n",
              "      <td>0.0</td>\n",
              "      <td>0.0</td>\n",
              "      <td>0.0</td>\n",
              "      <td>1.0</td>\n",
              "    </tr>\n",
              "    <tr>\n",
              "      <th>3</th>\n",
              "      <td>0.977819</td>\n",
              "      <td>0.899261</td>\n",
              "      <td>0.230129</td>\n",
              "      <td>0.032348</td>\n",
              "      <td>0.142329</td>\n",
              "      <td>0.223660</td>\n",
              "      <td>0.328096</td>\n",
              "      <td>0.367837</td>\n",
              "      <td>0.381701</td>\n",
              "      <td>0.389094</td>\n",
              "      <td>...</td>\n",
              "      <td>0.0</td>\n",
              "      <td>0.0</td>\n",
              "      <td>0.0</td>\n",
              "      <td>0.0</td>\n",
              "      <td>0.0</td>\n",
              "      <td>0.0</td>\n",
              "      <td>0.0</td>\n",
              "      <td>0.0</td>\n",
              "      <td>0.0</td>\n",
              "      <td>1.0</td>\n",
              "    </tr>\n",
              "    <tr>\n",
              "      <th>4</th>\n",
              "      <td>0.935618</td>\n",
              "      <td>0.801661</td>\n",
              "      <td>0.805815</td>\n",
              "      <td>1.000000</td>\n",
              "      <td>0.722741</td>\n",
              "      <td>0.480789</td>\n",
              "      <td>0.454829</td>\n",
              "      <td>0.319834</td>\n",
              "      <td>0.266874</td>\n",
              "      <td>0.308411</td>\n",
              "      <td>...</td>\n",
              "      <td>0.0</td>\n",
              "      <td>0.0</td>\n",
              "      <td>0.0</td>\n",
              "      <td>0.0</td>\n",
              "      <td>0.0</td>\n",
              "      <td>0.0</td>\n",
              "      <td>0.0</td>\n",
              "      <td>0.0</td>\n",
              "      <td>0.0</td>\n",
              "      <td>1.0</td>\n",
              "    </tr>\n",
              "  </tbody>\n",
              "</table>\n",
              "<p>5 rows × 188 columns</p>\n",
              "</div>"
            ],
            "text/plain": [
              "        0         1         2         3         4         5         6    \\\n",
              "0  0.932233  0.869679  0.886186  0.929626  0.908775  0.933970  0.801043   \n",
              "1  1.000000  0.606941  0.384181  0.254237  0.223567  0.276836  0.253430   \n",
              "2  1.000000  0.951613  0.923963  0.853303  0.791859  0.734255  0.672043   \n",
              "3  0.977819  0.899261  0.230129  0.032348  0.142329  0.223660  0.328096   \n",
              "4  0.935618  0.801661  0.805815  1.000000  0.722741  0.480789  0.454829   \n",
              "\n",
              "        7         8         9    ...  178  179  180  181  182  183  184  185  \\\n",
              "0  0.749783  0.687229  0.635100  ...  0.0  0.0  0.0  0.0  0.0  0.0  0.0  0.0   \n",
              "1  0.184826  0.153349  0.121872  ...  0.0  0.0  0.0  0.0  0.0  0.0  0.0  0.0   \n",
              "2  0.685100  0.670507  0.667435  ...  0.0  0.0  0.0  0.0  0.0  0.0  0.0  0.0   \n",
              "3  0.367837  0.381701  0.389094  ...  0.0  0.0  0.0  0.0  0.0  0.0  0.0  0.0   \n",
              "4  0.319834  0.266874  0.308411  ...  0.0  0.0  0.0  0.0  0.0  0.0  0.0  0.0   \n",
              "\n",
              "   186  187  \n",
              "0  0.0  1.0  \n",
              "1  0.0  1.0  \n",
              "2  0.0  1.0  \n",
              "3  0.0  1.0  \n",
              "4  0.0  1.0  \n",
              "\n",
              "[5 rows x 188 columns]"
            ]
          },
          "metadata": {
            "tags": []
          },
          "execution_count": 6
        }
      ]
    },
    {
      "metadata": {
        "id": "nGYZS19z5J_D",
        "colab_type": "code",
        "outputId": "8df9f5dd-b2d0-4d71-87c7-887a33b7c338",
        "colab": {
          "base_uri": "https://localhost:8080/",
          "height": 236
        }
      },
      "cell_type": "code",
      "source": [
        "data_abnormal = pd.read_csv(\"gdrive/My Drive/Pregunta 1/ptbdb_abnormal.csv\",names=[i for i in range(188)])\n",
        "data_abnormal.head()"
      ],
      "execution_count": 0,
      "outputs": [
        {
          "output_type": "execute_result",
          "data": {
            "text/html": [
              "<div>\n",
              "<style scoped>\n",
              "    .dataframe tbody tr th:only-of-type {\n",
              "        vertical-align: middle;\n",
              "    }\n",
              "\n",
              "    .dataframe tbody tr th {\n",
              "        vertical-align: top;\n",
              "    }\n",
              "\n",
              "    .dataframe thead th {\n",
              "        text-align: right;\n",
              "    }\n",
              "</style>\n",
              "<table border=\"1\" class=\"dataframe\">\n",
              "  <thead>\n",
              "    <tr style=\"text-align: right;\">\n",
              "      <th></th>\n",
              "      <th>0</th>\n",
              "      <th>1</th>\n",
              "      <th>2</th>\n",
              "      <th>3</th>\n",
              "      <th>4</th>\n",
              "      <th>5</th>\n",
              "      <th>6</th>\n",
              "      <th>7</th>\n",
              "      <th>8</th>\n",
              "      <th>9</th>\n",
              "      <th>...</th>\n",
              "      <th>178</th>\n",
              "      <th>179</th>\n",
              "      <th>180</th>\n",
              "      <th>181</th>\n",
              "      <th>182</th>\n",
              "      <th>183</th>\n",
              "      <th>184</th>\n",
              "      <th>185</th>\n",
              "      <th>186</th>\n",
              "      <th>187</th>\n",
              "    </tr>\n",
              "  </thead>\n",
              "  <tbody>\n",
              "    <tr>\n",
              "      <th>0</th>\n",
              "      <td>0.932233</td>\n",
              "      <td>0.869679</td>\n",
              "      <td>0.886186</td>\n",
              "      <td>0.929626</td>\n",
              "      <td>0.908775</td>\n",
              "      <td>0.933970</td>\n",
              "      <td>0.801043</td>\n",
              "      <td>0.749783</td>\n",
              "      <td>0.687229</td>\n",
              "      <td>0.635100</td>\n",
              "      <td>...</td>\n",
              "      <td>0.0</td>\n",
              "      <td>0.0</td>\n",
              "      <td>0.0</td>\n",
              "      <td>0.0</td>\n",
              "      <td>0.0</td>\n",
              "      <td>0.0</td>\n",
              "      <td>0.0</td>\n",
              "      <td>0.0</td>\n",
              "      <td>0.0</td>\n",
              "      <td>1.0</td>\n",
              "    </tr>\n",
              "    <tr>\n",
              "      <th>1</th>\n",
              "      <td>1.000000</td>\n",
              "      <td>0.606941</td>\n",
              "      <td>0.384181</td>\n",
              "      <td>0.254237</td>\n",
              "      <td>0.223567</td>\n",
              "      <td>0.276836</td>\n",
              "      <td>0.253430</td>\n",
              "      <td>0.184826</td>\n",
              "      <td>0.153349</td>\n",
              "      <td>0.121872</td>\n",
              "      <td>...</td>\n",
              "      <td>0.0</td>\n",
              "      <td>0.0</td>\n",
              "      <td>0.0</td>\n",
              "      <td>0.0</td>\n",
              "      <td>0.0</td>\n",
              "      <td>0.0</td>\n",
              "      <td>0.0</td>\n",
              "      <td>0.0</td>\n",
              "      <td>0.0</td>\n",
              "      <td>1.0</td>\n",
              "    </tr>\n",
              "    <tr>\n",
              "      <th>2</th>\n",
              "      <td>1.000000</td>\n",
              "      <td>0.951613</td>\n",
              "      <td>0.923963</td>\n",
              "      <td>0.853303</td>\n",
              "      <td>0.791859</td>\n",
              "      <td>0.734255</td>\n",
              "      <td>0.672043</td>\n",
              "      <td>0.685100</td>\n",
              "      <td>0.670507</td>\n",
              "      <td>0.667435</td>\n",
              "      <td>...</td>\n",
              "      <td>0.0</td>\n",
              "      <td>0.0</td>\n",
              "      <td>0.0</td>\n",
              "      <td>0.0</td>\n",
              "      <td>0.0</td>\n",
              "      <td>0.0</td>\n",
              "      <td>0.0</td>\n",
              "      <td>0.0</td>\n",
              "      <td>0.0</td>\n",
              "      <td>1.0</td>\n",
              "    </tr>\n",
              "    <tr>\n",
              "      <th>3</th>\n",
              "      <td>0.977819</td>\n",
              "      <td>0.899261</td>\n",
              "      <td>0.230129</td>\n",
              "      <td>0.032348</td>\n",
              "      <td>0.142329</td>\n",
              "      <td>0.223660</td>\n",
              "      <td>0.328096</td>\n",
              "      <td>0.367837</td>\n",
              "      <td>0.381701</td>\n",
              "      <td>0.389094</td>\n",
              "      <td>...</td>\n",
              "      <td>0.0</td>\n",
              "      <td>0.0</td>\n",
              "      <td>0.0</td>\n",
              "      <td>0.0</td>\n",
              "      <td>0.0</td>\n",
              "      <td>0.0</td>\n",
              "      <td>0.0</td>\n",
              "      <td>0.0</td>\n",
              "      <td>0.0</td>\n",
              "      <td>1.0</td>\n",
              "    </tr>\n",
              "    <tr>\n",
              "      <th>4</th>\n",
              "      <td>0.935618</td>\n",
              "      <td>0.801661</td>\n",
              "      <td>0.805815</td>\n",
              "      <td>1.000000</td>\n",
              "      <td>0.722741</td>\n",
              "      <td>0.480789</td>\n",
              "      <td>0.454829</td>\n",
              "      <td>0.319834</td>\n",
              "      <td>0.266874</td>\n",
              "      <td>0.308411</td>\n",
              "      <td>...</td>\n",
              "      <td>0.0</td>\n",
              "      <td>0.0</td>\n",
              "      <td>0.0</td>\n",
              "      <td>0.0</td>\n",
              "      <td>0.0</td>\n",
              "      <td>0.0</td>\n",
              "      <td>0.0</td>\n",
              "      <td>0.0</td>\n",
              "      <td>0.0</td>\n",
              "      <td>1.0</td>\n",
              "    </tr>\n",
              "  </tbody>\n",
              "</table>\n",
              "<p>5 rows × 188 columns</p>\n",
              "</div>"
            ],
            "text/plain": [
              "        0         1         2         3         4         5         6    \\\n",
              "0  0.932233  0.869679  0.886186  0.929626  0.908775  0.933970  0.801043   \n",
              "1  1.000000  0.606941  0.384181  0.254237  0.223567  0.276836  0.253430   \n",
              "2  1.000000  0.951613  0.923963  0.853303  0.791859  0.734255  0.672043   \n",
              "3  0.977819  0.899261  0.230129  0.032348  0.142329  0.223660  0.328096   \n",
              "4  0.935618  0.801661  0.805815  1.000000  0.722741  0.480789  0.454829   \n",
              "\n",
              "        7         8         9    ...  178  179  180  181  182  183  184  185  \\\n",
              "0  0.749783  0.687229  0.635100  ...  0.0  0.0  0.0  0.0  0.0  0.0  0.0  0.0   \n",
              "1  0.184826  0.153349  0.121872  ...  0.0  0.0  0.0  0.0  0.0  0.0  0.0  0.0   \n",
              "2  0.685100  0.670507  0.667435  ...  0.0  0.0  0.0  0.0  0.0  0.0  0.0  0.0   \n",
              "3  0.367837  0.381701  0.389094  ...  0.0  0.0  0.0  0.0  0.0  0.0  0.0  0.0   \n",
              "4  0.319834  0.266874  0.308411  ...  0.0  0.0  0.0  0.0  0.0  0.0  0.0  0.0   \n",
              "\n",
              "   186  187  \n",
              "0  0.0  1.0  \n",
              "1  0.0  1.0  \n",
              "2  0.0  1.0  \n",
              "3  0.0  1.0  \n",
              "4  0.0  1.0  \n",
              "\n",
              "[5 rows x 188 columns]"
            ]
          },
          "metadata": {
            "tags": []
          },
          "execution_count": 7
        }
      ]
    },
    {
      "metadata": {
        "id": "9eC7-bg53Ujz",
        "colab_type": "code",
        "colab": {}
      },
      "cell_type": "code",
      "source": [
        "#Sin condición cardiaca\n",
        "data_normal['target'] = 0\n",
        "#Con condición cardiaca\n",
        "data_abnormal['target'] = 1"
      ],
      "execution_count": 0,
      "outputs": []
    },
    {
      "metadata": {
        "id": "JdMsPhSajoSa",
        "colab_type": "code",
        "colab": {}
      },
      "cell_type": "code",
      "source": [
        "data = pd.concat([data_normal,data_abnormal])"
      ],
      "execution_count": 0,
      "outputs": []
    },
    {
      "metadata": {
        "id": "3ftLWaD_4fUz",
        "colab_type": "code",
        "outputId": "53954a0e-1fba-4959-8a64-ac49ba568aa7",
        "colab": {
          "base_uri": "https://localhost:8080/",
          "height": 236
        }
      },
      "cell_type": "code",
      "source": [
        "data.head()"
      ],
      "execution_count": 0,
      "outputs": [
        {
          "output_type": "execute_result",
          "data": {
            "text/html": [
              "<div>\n",
              "<style scoped>\n",
              "    .dataframe tbody tr th:only-of-type {\n",
              "        vertical-align: middle;\n",
              "    }\n",
              "\n",
              "    .dataframe tbody tr th {\n",
              "        vertical-align: top;\n",
              "    }\n",
              "\n",
              "    .dataframe thead th {\n",
              "        text-align: right;\n",
              "    }\n",
              "</style>\n",
              "<table border=\"1\" class=\"dataframe\">\n",
              "  <thead>\n",
              "    <tr style=\"text-align: right;\">\n",
              "      <th></th>\n",
              "      <th>0</th>\n",
              "      <th>1</th>\n",
              "      <th>2</th>\n",
              "      <th>3</th>\n",
              "      <th>4</th>\n",
              "      <th>5</th>\n",
              "      <th>6</th>\n",
              "      <th>7</th>\n",
              "      <th>8</th>\n",
              "      <th>9</th>\n",
              "      <th>...</th>\n",
              "      <th>179</th>\n",
              "      <th>180</th>\n",
              "      <th>181</th>\n",
              "      <th>182</th>\n",
              "      <th>183</th>\n",
              "      <th>184</th>\n",
              "      <th>185</th>\n",
              "      <th>186</th>\n",
              "      <th>187</th>\n",
              "      <th>target</th>\n",
              "    </tr>\n",
              "  </thead>\n",
              "  <tbody>\n",
              "    <tr>\n",
              "      <th>0</th>\n",
              "      <td>0.932233</td>\n",
              "      <td>0.869679</td>\n",
              "      <td>0.886186</td>\n",
              "      <td>0.929626</td>\n",
              "      <td>0.908775</td>\n",
              "      <td>0.933970</td>\n",
              "      <td>0.801043</td>\n",
              "      <td>0.749783</td>\n",
              "      <td>0.687229</td>\n",
              "      <td>0.635100</td>\n",
              "      <td>...</td>\n",
              "      <td>0.0</td>\n",
              "      <td>0.0</td>\n",
              "      <td>0.0</td>\n",
              "      <td>0.0</td>\n",
              "      <td>0.0</td>\n",
              "      <td>0.0</td>\n",
              "      <td>0.0</td>\n",
              "      <td>0.0</td>\n",
              "      <td>1.0</td>\n",
              "      <td>0</td>\n",
              "    </tr>\n",
              "    <tr>\n",
              "      <th>1</th>\n",
              "      <td>1.000000</td>\n",
              "      <td>0.606941</td>\n",
              "      <td>0.384181</td>\n",
              "      <td>0.254237</td>\n",
              "      <td>0.223567</td>\n",
              "      <td>0.276836</td>\n",
              "      <td>0.253430</td>\n",
              "      <td>0.184826</td>\n",
              "      <td>0.153349</td>\n",
              "      <td>0.121872</td>\n",
              "      <td>...</td>\n",
              "      <td>0.0</td>\n",
              "      <td>0.0</td>\n",
              "      <td>0.0</td>\n",
              "      <td>0.0</td>\n",
              "      <td>0.0</td>\n",
              "      <td>0.0</td>\n",
              "      <td>0.0</td>\n",
              "      <td>0.0</td>\n",
              "      <td>1.0</td>\n",
              "      <td>0</td>\n",
              "    </tr>\n",
              "    <tr>\n",
              "      <th>2</th>\n",
              "      <td>1.000000</td>\n",
              "      <td>0.951613</td>\n",
              "      <td>0.923963</td>\n",
              "      <td>0.853303</td>\n",
              "      <td>0.791859</td>\n",
              "      <td>0.734255</td>\n",
              "      <td>0.672043</td>\n",
              "      <td>0.685100</td>\n",
              "      <td>0.670507</td>\n",
              "      <td>0.667435</td>\n",
              "      <td>...</td>\n",
              "      <td>0.0</td>\n",
              "      <td>0.0</td>\n",
              "      <td>0.0</td>\n",
              "      <td>0.0</td>\n",
              "      <td>0.0</td>\n",
              "      <td>0.0</td>\n",
              "      <td>0.0</td>\n",
              "      <td>0.0</td>\n",
              "      <td>1.0</td>\n",
              "      <td>0</td>\n",
              "    </tr>\n",
              "    <tr>\n",
              "      <th>3</th>\n",
              "      <td>0.977819</td>\n",
              "      <td>0.899261</td>\n",
              "      <td>0.230129</td>\n",
              "      <td>0.032348</td>\n",
              "      <td>0.142329</td>\n",
              "      <td>0.223660</td>\n",
              "      <td>0.328096</td>\n",
              "      <td>0.367837</td>\n",
              "      <td>0.381701</td>\n",
              "      <td>0.389094</td>\n",
              "      <td>...</td>\n",
              "      <td>0.0</td>\n",
              "      <td>0.0</td>\n",
              "      <td>0.0</td>\n",
              "      <td>0.0</td>\n",
              "      <td>0.0</td>\n",
              "      <td>0.0</td>\n",
              "      <td>0.0</td>\n",
              "      <td>0.0</td>\n",
              "      <td>1.0</td>\n",
              "      <td>0</td>\n",
              "    </tr>\n",
              "    <tr>\n",
              "      <th>4</th>\n",
              "      <td>0.935618</td>\n",
              "      <td>0.801661</td>\n",
              "      <td>0.805815</td>\n",
              "      <td>1.000000</td>\n",
              "      <td>0.722741</td>\n",
              "      <td>0.480789</td>\n",
              "      <td>0.454829</td>\n",
              "      <td>0.319834</td>\n",
              "      <td>0.266874</td>\n",
              "      <td>0.308411</td>\n",
              "      <td>...</td>\n",
              "      <td>0.0</td>\n",
              "      <td>0.0</td>\n",
              "      <td>0.0</td>\n",
              "      <td>0.0</td>\n",
              "      <td>0.0</td>\n",
              "      <td>0.0</td>\n",
              "      <td>0.0</td>\n",
              "      <td>0.0</td>\n",
              "      <td>1.0</td>\n",
              "      <td>0</td>\n",
              "    </tr>\n",
              "  </tbody>\n",
              "</table>\n",
              "<p>5 rows × 189 columns</p>\n",
              "</div>"
            ],
            "text/plain": [
              "          0         1         2         3         4         5         6  \\\n",
              "0  0.932233  0.869679  0.886186  0.929626  0.908775  0.933970  0.801043   \n",
              "1  1.000000  0.606941  0.384181  0.254237  0.223567  0.276836  0.253430   \n",
              "2  1.000000  0.951613  0.923963  0.853303  0.791859  0.734255  0.672043   \n",
              "3  0.977819  0.899261  0.230129  0.032348  0.142329  0.223660  0.328096   \n",
              "4  0.935618  0.801661  0.805815  1.000000  0.722741  0.480789  0.454829   \n",
              "\n",
              "          7         8         9  ...  179  180  181  182  183  184  185  186  \\\n",
              "0  0.749783  0.687229  0.635100  ...  0.0  0.0  0.0  0.0  0.0  0.0  0.0  0.0   \n",
              "1  0.184826  0.153349  0.121872  ...  0.0  0.0  0.0  0.0  0.0  0.0  0.0  0.0   \n",
              "2  0.685100  0.670507  0.667435  ...  0.0  0.0  0.0  0.0  0.0  0.0  0.0  0.0   \n",
              "3  0.367837  0.381701  0.389094  ...  0.0  0.0  0.0  0.0  0.0  0.0  0.0  0.0   \n",
              "4  0.319834  0.266874  0.308411  ...  0.0  0.0  0.0  0.0  0.0  0.0  0.0  0.0   \n",
              "\n",
              "   187  target  \n",
              "0  1.0       0  \n",
              "1  1.0       0  \n",
              "2  1.0       0  \n",
              "3  1.0       0  \n",
              "4  1.0       0  \n",
              "\n",
              "[5 rows x 189 columns]"
            ]
          },
          "metadata": {
            "tags": []
          },
          "execution_count": 10
        }
      ]
    },
    {
      "metadata": {
        "id": "IGx7FiYw7_AS",
        "colab_type": "code",
        "outputId": "c761b0b4-16ab-4b26-c59b-2f6befc90929",
        "colab": {
          "base_uri": "https://localhost:8080/",
          "height": 72
        }
      },
      "cell_type": "code",
      "source": [
        "data['target'].value_counts()"
      ],
      "execution_count": 0,
      "outputs": [
        {
          "output_type": "execute_result",
          "data": {
            "text/plain": [
              "1    10506\n",
              "0    10506\n",
              "Name: target, dtype: int64"
            ]
          },
          "metadata": {
            "tags": []
          },
          "execution_count": 11
        }
      ]
    },
    {
      "metadata": {
        "id": "QDedB1By8PU-",
        "colab_type": "text"
      },
      "cell_type": "markdown",
      "source": [
        "* Disparidad magnitudes"
      ]
    },
    {
      "metadata": {
        "id": "5ok7sjAj9HMG",
        "colab_type": "code",
        "outputId": "2f7847fb-2193-49b3-80ba-4b987b57a017",
        "colab": {
          "base_uri": "https://localhost:8080/",
          "height": 281
        }
      },
      "cell_type": "code",
      "source": [
        "plt.title('Media y Variación estandar por atributo')\n",
        "_=plt.plot(data.std().values,label='Std')\n",
        "_=plt.plot(data.mean().values, label = 'Mean')\n",
        "_ =plt.legend(loc='best')"
      ],
      "execution_count": 0,
      "outputs": [
        {
          "output_type": "display_data",
          "data": {
            "image/png": "[encoded data removed]",
            "text/plain": [
              "<Figure size 432x288 with 1 Axes>"
            ]
          },
          "metadata": {
            "tags": []
          }
        }
      ]
    },
    {
      "metadata": {
        "id": "vzBkk-n79S4G",
        "colab_type": "text"
      },
      "cell_type": "markdown",
      "source": [
        "* Separación de datos:\n",
        "\n",
        "Separamos en la proporción 75% 15% y 10% para los sets de entrenamiento, validación y pruebas respectivamente."
      ]
    },
    {
      "metadata": {
        "id": "Nt4RAYwF_S7p",
        "colab_type": "code",
        "colab": {}
      },
      "cell_type": "code",
      "source": [
        "data_pre_train, data_pre_temp = train_test_split(data, test_size= 0.25)\n",
        "data_pre_val, data_pre_test = train_test_split(data_pre_temp, test_size= 0.4)\n",
        "y_pre_train = data_pre_train.pop('target').values\n",
        "y_pre_val = data_pre_val.pop('target').values\n",
        "y_pre_test = data_pre_test.pop('target').values\n",
        "\n",
        "y_pre_train = y_pre_train.reshape(-1,1)\n",
        "y_pre_val = y_pre_val.reshape(-1,1)\n",
        "y_pre_test = y_pre_test.reshape(-1,1)"
      ],
      "execution_count": 0,
      "outputs": []
    },
    {
      "metadata": {
        "id": "HupZ9HW6_5uy",
        "colab_type": "text"
      },
      "cell_type": "markdown",
      "source": [
        "* Estandarizar\n",
        "\n",
        "Por un lado puede ser bueno estandarizar para tener una variación y media iguales entre columnas. Sin embargo se ahorraría el computo de escalar por como viene set de datos, dado que como apreciamos previamente tienen medias y desviaciones estandar muy similares cada atributo."
      ]
    },
    {
      "metadata": {
        "id": "BliNpAA3APKP",
        "colab_type": "text"
      },
      "cell_type": "markdown",
      "source": [
        "* *shuffle= False*\n",
        "\n",
        "Si no se \"barajaban\"  los datos totales antes de realizar la división en los sets, se tendrían un desbalance general de clases. Los conjuntos de pruebas y validación habrían quedado solo con la clase con la condición cardiaca, según la proporción que se utilizo para la partición."
      ]
    },
    {
      "metadata": {
        "id": "p4wIuu9VAtj9",
        "colab_type": "text"
      },
      "cell_type": "markdown",
      "source": [
        "## 3.b Correlación"
      ]
    },
    {
      "metadata": {
        "id": "Lj5j4flXBYa5",
        "colab_type": "code",
        "colab": {}
      },
      "cell_type": "code",
      "source": [
        "data = data.drop(columns=[184,185,186,187])"
      ],
      "execution_count": 0,
      "outputs": []
    },
    {
      "metadata": {
        "id": "w6qrH8xuBY2M",
        "colab_type": "code",
        "outputId": "9691f7f9-a4b5-4901-a28c-eb8e09ce2a9c",
        "colab": {
          "base_uri": "https://localhost:8080/",
          "height": 343
        }
      },
      "cell_type": "code",
      "source": [
        "plt.figure(figsize=(10,5))\n",
        "ax = plt.matshow(data.corr(),fignum=1)\n",
        "plt.title('Heatmap de correlaciones entre atributos')\n",
        "_ = plt.colorbar(ax)\n",
        "\n"
      ],
      "execution_count": 0,
      "outputs": [
        {
          "output_type": "display_data",
          "data": {
            "image/png": "[encoded data removed]",
            "text/plain": [
              "<Figure size 720x360 with 2 Axes>"
            ]
          },
          "metadata": {
            "tags": []
          }
        }
      ]
    },
    {
      "metadata": {
        "id": "gRtRJTMVEWsq",
        "colab_type": "text"
      },
      "cell_type": "markdown",
      "source": [
        "Del gráfico podemos inferir que"
      ]
    },
    {
      "metadata": {
        "id": "D75VsZL0ZzMX",
        "colab_type": "code",
        "outputId": "396e8426-b370-435f-e35c-e6e6f0d31fd1",
        "colab": {
          "base_uri": "https://localhost:8080/",
          "height": 35
        }
      },
      "cell_type": "code",
      "source": [
        "reg = LogisticRegression(solver = 'liblinear')\n",
        "reg.fit(data_pre_train, y_pre_train.reshape(len(y_pre_train), ))\n",
        "score = reg.score(data_pre_val, y_pre_val)\n",
        "print(score)"
      ],
      "execution_count": 0,
      "outputs": [
        {
          "output_type": "stream",
          "text": [
            "0.44525547445255476\n"
          ],
          "name": "stdout"
        }
      ]
    },
    {
      "metadata": {
        "id": "IwTqyQk8clMH",
        "colab_type": "code",
        "colab": {}
      },
      "cell_type": "code",
      "source": [
        "def plot_confusion_matrix(y_true, y_pred, classes,\n",
        "                          normalize=False,\n",
        "                          title=None,\n",
        "                          cmap=plt.cm.Blues):\n",
        "    \"\"\"\n",
        "    This function prints and plots the confusion matrix.\n",
        "    Normalization can be applied by setting `normalize=True`.\n",
        "    \"\"\"\n",
        "    if not title:\n",
        "        if normalize:\n",
        "            title = 'Normalized confusion matrix'\n",
        "        else:\n",
        "            title = 'Confusion matrix, without normalization'\n",
        "\n",
        "    # Compute confusion matrix\n",
        "    cm = confusion_matrix(y_true, y_pred)\n",
        "    # Only use the labels that appear in the data\n",
        "    if normalize:\n",
        "        cm = cm.astype('float') / cm.sum(axis=1)[:, np.newaxis]\n",
        "        print(\"Normalized confusion matrix\")\n",
        "    else:\n",
        "        print('Confusion matrix, without normalization')\n",
        "\n",
        "    print(cm)\n",
        "\n",
        "    fig, ax = plt.subplots()\n",
        "    im = ax.imshow(cm, interpolation='nearest', cmap=cmap)\n",
        "    ax.figure.colorbar(im, ax=ax)\n",
        "    # We want to show all ticks...\n",
        "    ax.set(xticks=np.arange(cm.shape[1]),\n",
        "           yticks=np.arange(cm.shape[0]),\n",
        "           # ... and label them with the respective list entries\n",
        "           xticklabels=classes, yticklabels=classes,\n",
        "           title=title,\n",
        "           ylabel='True label',\n",
        "           xlabel='Predicted label')\n",
        "\n",
        "    # Rotate the tick labels and set their alignment.\n",
        "    plt.setp(ax.get_xticklabels(), rotation=45, ha=\"right\",\n",
        "             rotation_mode=\"anchor\")\n",
        "\n",
        "    # Loop over data dimensions and create text annotations.\n",
        "    fmt = '.2f' if normalize else 'd'\n",
        "    thresh = cm.max() / 2.\n",
        "    for i in range(cm.shape[0]):\n",
        "        for j in range(cm.shape[1]):\n",
        "            ax.text(j, i, format(cm[i, j], fmt),\n",
        "                    ha=\"center\", va=\"center\",\n",
        "                    color=\"white\" if cm[i, j] > thresh else \"black\")\n",
        "    fig.tight_layout()\n",
        "    return ax\n"
      ],
      "execution_count": 0,
      "outputs": []
    },
    {
      "metadata": {
        "id": "9PTig5H5h13M",
        "colab_type": "code",
        "outputId": "79316dfe-b72c-4455-a9f8-25ba7f9682aa",
        "colab": {
          "base_uri": "https://localhost:8080/",
          "height": 371
        }
      },
      "cell_type": "code",
      "source": [
        "y_hat = reg.predict(data_pre_val)\n",
        "plot_confusion_matrix(y_pre_val.reshape(len(y_pre_val), ), y_hat, [\"0\", \"1\"])"
      ],
      "execution_count": 0,
      "outputs": [
        {
          "output_type": "stream",
          "text": [
            "Confusion matrix, without normalization\n",
            "[[570 976]\n",
            " [772 833]]\n"
          ],
          "name": "stdout"
        },
        {
          "output_type": "execute_result",
          "data": {
            "text/plain": [
              "<matplotlib.axes._subplots.AxesSubplot at 0x7fefcfc665c0>"
            ]
          },
          "metadata": {
            "tags": []
          },
          "execution_count": 54
        },
        {
          "output_type": "display_data",
          "data": {
            "image/png": "[encoded data removed]",
            "text/plain": [
              "<Figure size 432x288 with 2 Axes>"
            ]
          },
          "metadata": {
            "tags": []
          }
        }
      ]
    },
    {
      "metadata": {
        "id": "KRQDc0ReiTQ5",
        "colab_type": "code",
        "colab": {}
      },
      "cell_type": "code",
      "source": [
        ""
      ],
      "execution_count": 0,
      "outputs": []
    }
  ]
}